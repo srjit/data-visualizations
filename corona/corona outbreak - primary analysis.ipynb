{
 "cells": [
  {
   "cell_type": "code",
   "execution_count": 1,
   "metadata": {},
   "outputs": [
    {
     "name": "stderr",
     "output_type": "stream",
     "text": [
      "/Users/d107520/venvs/mllib/lib/python3.7/site-packages/tqdm/std.py:658: FutureWarning: The Panel class is removed from pandas. Accessing it from the top-level namespace will also be removed in the next version\n",
      "  from pandas import Panel\n"
     ]
    }
   ],
   "source": [
    "import pandas as pd\n",
    "import matplotlib.pyplot as plt\n",
    "from tqdm import tqdm, tqdm_notebook\n",
    "tqdm.pandas(desc=\"my bar!\")\n",
    "\n",
    "import time"
   ]
  },
  {
   "cell_type": "code",
   "execution_count": 2,
   "metadata": {},
   "outputs": [],
   "source": [
    "import chart_studio.plotly as py\n",
    "import plotly.graph_objs as go\n",
    "import chart_studio\n",
    "\n",
    "chart_studio.tools.set_credentials_file(username='sreejith_citizens', api_key='QuqatPMwePJF2GdJL5SQ')"
   ]
  },
  {
   "cell_type": "code",
   "execution_count": 3,
   "metadata": {},
   "outputs": [],
   "source": [
    "#data = pd.read_csv(\"2019_nCoV_data.csv\")\n",
    "\n",
    "# from geopy.geocoders import Nominatim\n",
    "# geolocator = Nominatim(user_agent=\"corona app\")\n",
    "\n",
    "# def get_lat_long(city):\n",
    "#     time.sleep(10)\n",
    "#     location = geolocator.geocode(city)\n",
    "#     return (location.latitude, location.longitude)    \n",
    "\n",
    "# data3['lat_long'] = data3.progress_apply(lambda x: get_lat_long(x[\"Province/State\"]), axis=1)"
   ]
  },
  {
   "cell_type": "markdown",
   "metadata": {},
   "source": [
    "__Load the geotagged data__"
   ]
  },
  {
   "cell_type": "code",
   "execution_count": 4,
   "metadata": {},
   "outputs": [],
   "source": [
    "d1 = pd.read_csv(\"corona1.csv\")\n",
    "d2 = pd.read_csv(\"corona2.csv\")\n",
    "d3 = pd.read_csv(\"corona3.csv\")\n",
    "d4 = pd.read_csv(\"corona4.csv\")"
   ]
  },
  {
   "cell_type": "code",
   "execution_count": 5,
   "metadata": {},
   "outputs": [],
   "source": [
    "data = pd.concat([d1, d2, d3, d4])"
   ]
  },
  {
   "cell_type": "code",
   "execution_count": 6,
   "metadata": {},
   "outputs": [],
   "source": [
    "del data[\"Unnamed: 0\"]"
   ]
  },
  {
   "cell_type": "code",
   "execution_count": 7,
   "metadata": {},
   "outputs": [
    {
     "data": {
      "text/html": [
       "<div>\n",
       "<style scoped>\n",
       "    .dataframe tbody tr th:only-of-type {\n",
       "        vertical-align: middle;\n",
       "    }\n",
       "\n",
       "    .dataframe tbody tr th {\n",
       "        vertical-align: top;\n",
       "    }\n",
       "\n",
       "    .dataframe thead th {\n",
       "        text-align: right;\n",
       "    }\n",
       "</style>\n",
       "<table border=\"1\" class=\"dataframe\">\n",
       "  <thead>\n",
       "    <tr style=\"text-align: right;\">\n",
       "      <th></th>\n",
       "      <th>Sno</th>\n",
       "      <th>Province/State</th>\n",
       "      <th>Country</th>\n",
       "      <th>Last Update</th>\n",
       "      <th>Confirmed</th>\n",
       "      <th>Deaths</th>\n",
       "      <th>Recovered</th>\n",
       "      <th>lat_long</th>\n",
       "    </tr>\n",
       "  </thead>\n",
       "  <tbody>\n",
       "    <tr>\n",
       "      <th>0</th>\n",
       "      <td>1</td>\n",
       "      <td>Anhui</td>\n",
       "      <td>China</td>\n",
       "      <td>1/22/2020 12:00</td>\n",
       "      <td>1.0</td>\n",
       "      <td>0.0</td>\n",
       "      <td>0.0</td>\n",
       "      <td>(32.0, 117.0)</td>\n",
       "    </tr>\n",
       "    <tr>\n",
       "      <th>1</th>\n",
       "      <td>2</td>\n",
       "      <td>Beijing</td>\n",
       "      <td>China</td>\n",
       "      <td>1/22/2020 12:00</td>\n",
       "      <td>14.0</td>\n",
       "      <td>0.0</td>\n",
       "      <td>0.0</td>\n",
       "      <td>(39.906217, 116.3912757)</td>\n",
       "    </tr>\n",
       "    <tr>\n",
       "      <th>2</th>\n",
       "      <td>3</td>\n",
       "      <td>Chongqing</td>\n",
       "      <td>China</td>\n",
       "      <td>1/22/2020 12:00</td>\n",
       "      <td>6.0</td>\n",
       "      <td>0.0</td>\n",
       "      <td>0.0</td>\n",
       "      <td>(30.05518, 107.8748712)</td>\n",
       "    </tr>\n",
       "    <tr>\n",
       "      <th>3</th>\n",
       "      <td>4</td>\n",
       "      <td>Fujian</td>\n",
       "      <td>China</td>\n",
       "      <td>1/22/2020 12:00</td>\n",
       "      <td>1.0</td>\n",
       "      <td>0.0</td>\n",
       "      <td>0.0</td>\n",
       "      <td>(26.5450001, 117.842778)</td>\n",
       "    </tr>\n",
       "    <tr>\n",
       "      <th>4</th>\n",
       "      <td>5</td>\n",
       "      <td>Gansu</td>\n",
       "      <td>China</td>\n",
       "      <td>1/22/2020 12:00</td>\n",
       "      <td>0.0</td>\n",
       "      <td>0.0</td>\n",
       "      <td>0.0</td>\n",
       "      <td>(38.0000001, 101.9999999)</td>\n",
       "    </tr>\n",
       "  </tbody>\n",
       "</table>\n",
       "</div>"
      ],
      "text/plain": [
       "   Sno Province/State Country      Last Update  Confirmed  Deaths  Recovered  \\\n",
       "0    1          Anhui   China  1/22/2020 12:00        1.0     0.0        0.0   \n",
       "1    2        Beijing   China  1/22/2020 12:00       14.0     0.0        0.0   \n",
       "2    3      Chongqing   China  1/22/2020 12:00        6.0     0.0        0.0   \n",
       "3    4         Fujian   China  1/22/2020 12:00        1.0     0.0        0.0   \n",
       "4    5          Gansu   China  1/22/2020 12:00        0.0     0.0        0.0   \n",
       "\n",
       "                    lat_long  \n",
       "0              (32.0, 117.0)  \n",
       "1   (39.906217, 116.3912757)  \n",
       "2    (30.05518, 107.8748712)  \n",
       "3   (26.5450001, 117.842778)  \n",
       "4  (38.0000001, 101.9999999)  "
      ]
     },
     "execution_count": 7,
     "metadata": {},
     "output_type": "execute_result"
    }
   ],
   "source": [
    "data.head()"
   ]
  },
  {
   "cell_type": "markdown",
   "metadata": {},
   "source": [
    "__Some preprocessing__"
   ]
  },
  {
   "cell_type": "code",
   "execution_count": 8,
   "metadata": {},
   "outputs": [],
   "source": [
    "dc_latlong = \"(38.8948932, -77.0365529)\"\n",
    "wash_latlong = \"(47.7511, 120.7401)\"\n",
    "data.replace(to_replace=dc_latlong, value=wash_latlong,inplace=True)"
   ]
  },
  {
   "cell_type": "code",
   "execution_count": 9,
   "metadata": {},
   "outputs": [],
   "source": [
    "# convert the string date to date\n",
    "data[\"Last Update\"] = pd.to_datetime(data['Last Update'])"
   ]
  },
  {
   "cell_type": "code",
   "execution_count": 10,
   "metadata": {},
   "outputs": [],
   "source": [
    "df = data.groupby('Province/State')\n",
    "df = pd.DataFrame(df['Last Update'].max()).reset_index()\n",
    "last_update_data = df.merge(data, how='inner', on=['Province/State', 'Last Update'])"
   ]
  },
  {
   "cell_type": "code",
   "execution_count": 11,
   "metadata": {},
   "outputs": [
    {
     "data": {
      "text/html": [
       "<div>\n",
       "<style scoped>\n",
       "    .dataframe tbody tr th:only-of-type {\n",
       "        vertical-align: middle;\n",
       "    }\n",
       "\n",
       "    .dataframe tbody tr th {\n",
       "        vertical-align: top;\n",
       "    }\n",
       "\n",
       "    .dataframe thead th {\n",
       "        text-align: right;\n",
       "    }\n",
       "</style>\n",
       "<table border=\"1\" class=\"dataframe\">\n",
       "  <thead>\n",
       "    <tr style=\"text-align: right;\">\n",
       "      <th></th>\n",
       "      <th>Province/State</th>\n",
       "      <th>Last Update</th>\n",
       "      <th>Sno</th>\n",
       "      <th>Country</th>\n",
       "      <th>Confirmed</th>\n",
       "      <th>Deaths</th>\n",
       "      <th>Recovered</th>\n",
       "      <th>lat_long</th>\n",
       "    </tr>\n",
       "  </thead>\n",
       "  <tbody>\n",
       "    <tr>\n",
       "      <th>0</th>\n",
       "      <td>Anhui</td>\n",
       "      <td>2020-01-29 21:00:00</td>\n",
       "      <td>319</td>\n",
       "      <td>Mainland China</td>\n",
       "      <td>200.0</td>\n",
       "      <td>0.0</td>\n",
       "      <td>2.0</td>\n",
       "      <td>(32.0, 117.0)</td>\n",
       "    </tr>\n",
       "    <tr>\n",
       "      <th>1</th>\n",
       "      <td>Arizona</td>\n",
       "      <td>2020-01-29 21:00:00</td>\n",
       "      <td>351</td>\n",
       "      <td>US</td>\n",
       "      <td>1.0</td>\n",
       "      <td>0.0</td>\n",
       "      <td>0.0</td>\n",
       "      <td>(34.395342, -111.7632755)</td>\n",
       "    </tr>\n",
       "    <tr>\n",
       "      <th>2</th>\n",
       "      <td>Bavaria</td>\n",
       "      <td>2020-01-29 21:00:00</td>\n",
       "      <td>367</td>\n",
       "      <td>Germany</td>\n",
       "      <td>4.0</td>\n",
       "      <td>0.0</td>\n",
       "      <td>0.0</td>\n",
       "      <td>(48.9467562, 11.4038717)</td>\n",
       "    </tr>\n",
       "    <tr>\n",
       "      <th>3</th>\n",
       "      <td>Beijing</td>\n",
       "      <td>2020-01-29 21:00:00</td>\n",
       "      <td>325</td>\n",
       "      <td>Mainland China</td>\n",
       "      <td>111.0</td>\n",
       "      <td>1.0</td>\n",
       "      <td>4.0</td>\n",
       "      <td>(39.906217, 116.3912757)</td>\n",
       "    </tr>\n",
       "    <tr>\n",
       "      <th>4</th>\n",
       "      <td>British Columbia</td>\n",
       "      <td>2020-01-29 21:00:00</td>\n",
       "      <td>361</td>\n",
       "      <td>Canada</td>\n",
       "      <td>1.0</td>\n",
       "      <td>0.0</td>\n",
       "      <td>0.0</td>\n",
       "      <td>(55.001251, -125.002441)</td>\n",
       "    </tr>\n",
       "  </tbody>\n",
       "</table>\n",
       "</div>"
      ],
      "text/plain": [
       "     Province/State         Last Update  Sno         Country  Confirmed  \\\n",
       "0             Anhui 2020-01-29 21:00:00  319  Mainland China      200.0   \n",
       "1           Arizona 2020-01-29 21:00:00  351              US        1.0   \n",
       "2           Bavaria 2020-01-29 21:00:00  367         Germany        4.0   \n",
       "3           Beijing 2020-01-29 21:00:00  325  Mainland China      111.0   \n",
       "4  British Columbia 2020-01-29 21:00:00  361          Canada        1.0   \n",
       "\n",
       "   Deaths  Recovered                   lat_long  \n",
       "0     0.0        2.0              (32.0, 117.0)  \n",
       "1     0.0        0.0  (34.395342, -111.7632755)  \n",
       "2     0.0        0.0   (48.9467562, 11.4038717)  \n",
       "3     1.0        4.0   (39.906217, 116.3912757)  \n",
       "4     0.0        0.0   (55.001251, -125.002441)  "
      ]
     },
     "execution_count": 11,
     "metadata": {},
     "output_type": "execute_result"
    }
   ],
   "source": [
    "last_update_data.head()"
   ]
  },
  {
   "cell_type": "markdown",
   "metadata": {},
   "source": [
    "In some cases the provinces are not available (or are NaNs). Let's filter them out"
   ]
  },
  {
   "cell_type": "code",
   "execution_count": 12,
   "metadata": {},
   "outputs": [
    {
     "data": {
      "text/plain": [
       "66"
      ]
     },
     "execution_count": 12,
     "metadata": {},
     "output_type": "execute_result"
    }
   ],
   "source": [
    "nan_province_data = data[data[\"Province/State\"].isnull()]\n",
    "len(nan_province_data)"
   ]
  },
  {
   "cell_type": "code",
   "execution_count": 13,
   "metadata": {},
   "outputs": [
    {
     "data": {
      "text/plain": [
       "array(['Japan', 'Thailand', 'South Korea', 'Singapore', 'Philippines',\n",
       "       'Malaysia', 'Vietnam', 'Australia', 'Mexico', 'Brazil', 'France',\n",
       "       'Nepal', 'Cambodia', 'Sri Lanka', 'Ivory Coast', 'Finland'],\n",
       "      dtype=object)"
      ]
     },
     "execution_count": 13,
     "metadata": {},
     "output_type": "execute_result"
    }
   ],
   "source": [
    "nan_province_data.Country.unique()"
   ]
  },
  {
   "cell_type": "markdown",
   "metadata": {},
   "source": [
    "__Filter these on a country level last date__"
   ]
  },
  {
   "cell_type": "code",
   "execution_count": 14,
   "metadata": {},
   "outputs": [],
   "source": [
    "nandf = nan_province_data.groupby('Country')\n",
    "nandf = pd.DataFrame(nandf['Last Update'].max()).reset_index()\n",
    "nan_province_last_update_data = nandf.merge(nan_province_data, how='inner', on=['Country', 'Last Update'])"
   ]
  },
  {
   "cell_type": "markdown",
   "metadata": {},
   "source": [
    "Lets append this with the *last_update_data*  "
   ]
  },
  {
   "cell_type": "code",
   "execution_count": 15,
   "metadata": {},
   "outputs": [
    {
     "name": "stderr",
     "output_type": "stream",
     "text": [
      "/Users/d107520/venvs/mllib/lib/python3.7/site-packages/ipykernel_launcher.py:1: FutureWarning:\n",
      "\n",
      "Sorting because non-concatenation axis is not aligned. A future version\n",
      "of pandas will change to not sort by default.\n",
      "\n",
      "To accept the future behavior, pass 'sort=False'.\n",
      "\n",
      "To retain the current behavior and silence the warning, pass 'sort=True'.\n",
      "\n",
      "\n"
     ]
    }
   ],
   "source": [
    "filtered_data = pd.concat([last_update_data, nan_province_last_update_data])"
   ]
  },
  {
   "cell_type": "code",
   "execution_count": 16,
   "metadata": {},
   "outputs": [
    {
     "data": {
      "text/html": [
       "<div>\n",
       "<style scoped>\n",
       "    .dataframe tbody tr th:only-of-type {\n",
       "        vertical-align: middle;\n",
       "    }\n",
       "\n",
       "    .dataframe tbody tr th {\n",
       "        vertical-align: top;\n",
       "    }\n",
       "\n",
       "    .dataframe thead th {\n",
       "        text-align: right;\n",
       "    }\n",
       "</style>\n",
       "<table border=\"1\" class=\"dataframe\">\n",
       "  <thead>\n",
       "    <tr style=\"text-align: right;\">\n",
       "      <th></th>\n",
       "      <th>Confirmed</th>\n",
       "      <th>Country</th>\n",
       "      <th>Deaths</th>\n",
       "      <th>Last Update</th>\n",
       "      <th>Province/State</th>\n",
       "      <th>Recovered</th>\n",
       "      <th>Sno</th>\n",
       "      <th>lat_long</th>\n",
       "    </tr>\n",
       "  </thead>\n",
       "  <tbody>\n",
       "    <tr>\n",
       "      <th>0</th>\n",
       "      <td>200.0</td>\n",
       "      <td>Mainland China</td>\n",
       "      <td>0.0</td>\n",
       "      <td>2020-01-29 21:00:00</td>\n",
       "      <td>Anhui</td>\n",
       "      <td>2.0</td>\n",
       "      <td>319</td>\n",
       "      <td>(32.0, 117.0)</td>\n",
       "    </tr>\n",
       "    <tr>\n",
       "      <th>1</th>\n",
       "      <td>1.0</td>\n",
       "      <td>US</td>\n",
       "      <td>0.0</td>\n",
       "      <td>2020-01-29 21:00:00</td>\n",
       "      <td>Arizona</td>\n",
       "      <td>0.0</td>\n",
       "      <td>351</td>\n",
       "      <td>(34.395342, -111.7632755)</td>\n",
       "    </tr>\n",
       "    <tr>\n",
       "      <th>2</th>\n",
       "      <td>4.0</td>\n",
       "      <td>Germany</td>\n",
       "      <td>0.0</td>\n",
       "      <td>2020-01-29 21:00:00</td>\n",
       "      <td>Bavaria</td>\n",
       "      <td>0.0</td>\n",
       "      <td>367</td>\n",
       "      <td>(48.9467562, 11.4038717)</td>\n",
       "    </tr>\n",
       "    <tr>\n",
       "      <th>3</th>\n",
       "      <td>111.0</td>\n",
       "      <td>Mainland China</td>\n",
       "      <td>1.0</td>\n",
       "      <td>2020-01-29 21:00:00</td>\n",
       "      <td>Beijing</td>\n",
       "      <td>4.0</td>\n",
       "      <td>325</td>\n",
       "      <td>(39.906217, 116.3912757)</td>\n",
       "    </tr>\n",
       "    <tr>\n",
       "      <th>4</th>\n",
       "      <td>1.0</td>\n",
       "      <td>Canada</td>\n",
       "      <td>0.0</td>\n",
       "      <td>2020-01-29 21:00:00</td>\n",
       "      <td>British Columbia</td>\n",
       "      <td>0.0</td>\n",
       "      <td>361</td>\n",
       "      <td>(55.001251, -125.002441)</td>\n",
       "    </tr>\n",
       "    <tr>\n",
       "      <th>...</th>\n",
       "      <td>...</td>\n",
       "      <td>...</td>\n",
       "      <td>...</td>\n",
       "      <td>...</td>\n",
       "      <td>...</td>\n",
       "      <td>...</td>\n",
       "      <td>...</td>\n",
       "      <td>...</td>\n",
       "    </tr>\n",
       "    <tr>\n",
       "      <th>11</th>\n",
       "      <td>10.0</td>\n",
       "      <td>Singapore</td>\n",
       "      <td>0.0</td>\n",
       "      <td>2020-01-29 21:00:00</td>\n",
       "      <td>NaN</td>\n",
       "      <td>0.0</td>\n",
       "      <td>355</td>\n",
       "      <td>(46.3144754, 11.0480288)</td>\n",
       "    </tr>\n",
       "    <tr>\n",
       "      <th>12</th>\n",
       "      <td>4.0</td>\n",
       "      <td>South Korea</td>\n",
       "      <td>0.0</td>\n",
       "      <td>2020-01-29 21:00:00</td>\n",
       "      <td>NaN</td>\n",
       "      <td>0.0</td>\n",
       "      <td>354</td>\n",
       "      <td>(46.3144754, 11.0480288)</td>\n",
       "    </tr>\n",
       "    <tr>\n",
       "      <th>13</th>\n",
       "      <td>1.0</td>\n",
       "      <td>Sri Lanka</td>\n",
       "      <td>0.0</td>\n",
       "      <td>2020-01-29 21:00:00</td>\n",
       "      <td>NaN</td>\n",
       "      <td>0.0</td>\n",
       "      <td>363</td>\n",
       "      <td>(46.3144754, 11.0480288)</td>\n",
       "    </tr>\n",
       "    <tr>\n",
       "      <th>14</th>\n",
       "      <td>14.0</td>\n",
       "      <td>Thailand</td>\n",
       "      <td>0.0</td>\n",
       "      <td>2020-01-29 21:00:00</td>\n",
       "      <td>NaN</td>\n",
       "      <td>5.0</td>\n",
       "      <td>353</td>\n",
       "      <td>(46.3144754, 11.0480288)</td>\n",
       "    </tr>\n",
       "    <tr>\n",
       "      <th>15</th>\n",
       "      <td>2.0</td>\n",
       "      <td>Vietnam</td>\n",
       "      <td>0.0</td>\n",
       "      <td>2020-01-29 21:00:00</td>\n",
       "      <td>NaN</td>\n",
       "      <td>0.0</td>\n",
       "      <td>356</td>\n",
       "      <td>(46.3144754, 11.0480288)</td>\n",
       "    </tr>\n",
       "  </tbody>\n",
       "</table>\n",
       "<p>61 rows × 8 columns</p>\n",
       "</div>"
      ],
      "text/plain": [
       "    Confirmed         Country  Deaths         Last Update    Province/State  \\\n",
       "0       200.0  Mainland China     0.0 2020-01-29 21:00:00             Anhui   \n",
       "1         1.0              US     0.0 2020-01-29 21:00:00           Arizona   \n",
       "2         4.0         Germany     0.0 2020-01-29 21:00:00           Bavaria   \n",
       "3       111.0  Mainland China     1.0 2020-01-29 21:00:00           Beijing   \n",
       "4         1.0          Canada     0.0 2020-01-29 21:00:00  British Columbia   \n",
       "..        ...             ...     ...                 ...               ...   \n",
       "11       10.0       Singapore     0.0 2020-01-29 21:00:00               NaN   \n",
       "12        4.0     South Korea     0.0 2020-01-29 21:00:00               NaN   \n",
       "13        1.0       Sri Lanka     0.0 2020-01-29 21:00:00               NaN   \n",
       "14       14.0        Thailand     0.0 2020-01-29 21:00:00               NaN   \n",
       "15        2.0         Vietnam     0.0 2020-01-29 21:00:00               NaN   \n",
       "\n",
       "    Recovered  Sno                   lat_long  \n",
       "0         2.0  319              (32.0, 117.0)  \n",
       "1         0.0  351  (34.395342, -111.7632755)  \n",
       "2         0.0  367   (48.9467562, 11.4038717)  \n",
       "3         4.0  325   (39.906217, 116.3912757)  \n",
       "4         0.0  361   (55.001251, -125.002441)  \n",
       "..        ...  ...                        ...  \n",
       "11        0.0  355   (46.3144754, 11.0480288)  \n",
       "12        0.0  354   (46.3144754, 11.0480288)  \n",
       "13        0.0  363   (46.3144754, 11.0480288)  \n",
       "14        5.0  353   (46.3144754, 11.0480288)  \n",
       "15        0.0  356   (46.3144754, 11.0480288)  \n",
       "\n",
       "[61 rows x 8 columns]"
      ]
     },
     "execution_count": 16,
     "metadata": {},
     "output_type": "execute_result"
    }
   ],
   "source": [
    "filtered_data"
   ]
  },
  {
   "cell_type": "markdown",
   "metadata": {},
   "source": [
    "__Heatmap of reports__"
   ]
  },
  {
   "cell_type": "code",
   "execution_count": 17,
   "metadata": {},
   "outputs": [],
   "source": [
    "from ast import literal_eval\n",
    "\n",
    "filtered_data[\"co_ord\"] = filtered_data['lat_long'].apply(lambda x: literal_eval(x))\n",
    "\n",
    "def make_heatmap_data(x, y):\n",
    "    return (x[0], x[1], y)\n",
    "\n",
    "filtered_data[\"heatmap_data\"] = filtered_data.apply(lambda x: \\\n",
    "                                                          make_heatmap_data(x['co_ord'], x['Confirmed']), axis=1)"
   ]
  },
  {
   "cell_type": "code",
   "execution_count": 18,
   "metadata": {},
   "outputs": [
    {
     "data": {
      "text/html": [
       "<div style=\"width:100%;\"><div style=\"position:relative;width:100%;height:0;padding-bottom:60%;\"><iframe src=\"data:text/html;charset=utf-8;base64,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\" style=\"position:absolute;width:100%;height:100%;left:0;top:0;border:none !important;\" allowfullscreen webkitallowfullscreen mozallowfullscreen></iframe></div></div>"
      ],
      "text/plain": [
       "<folium.folium.Map at 0x11f078dd0>"
      ]
     },
     "execution_count": 18,
     "metadata": {},
     "output_type": "execute_result"
    }
   ],
   "source": [
    "import folium\n",
    "from folium.plugins import HeatMap\n",
    "\n",
    "start = [30.5,20.30]\n",
    "\n",
    "m = folium.Map(width=950,height=700, location=start, zoom_start=1.5, tiles='Stamen Toner')\n",
    "\n",
    "locations = filtered_data[\"heatmap_data\"]\n",
    "HeatMap(locations).add_to(m)\n",
    "\n",
    "m"
   ]
  },
  {
   "cell_type": "code",
   "execution_count": 19,
   "metadata": {},
   "outputs": [],
   "source": [
    "df_copy = data\n",
    "df_copy[\"co_ord\"] = df_copy['lat_long'].apply(lambda x: literal_eval(x))\n",
    "\n",
    "df_copy['lat'] = data['co_ord'].apply(lambda x: x[0])\n",
    "df_copy['long'] = data['co_ord'].apply(lambda x: x[1])"
   ]
  },
  {
   "cell_type": "code",
   "execution_count": 20,
   "metadata": {},
   "outputs": [
    {
     "data": {
      "text/html": [
       "<div>\n",
       "<style scoped>\n",
       "    .dataframe tbody tr th:only-of-type {\n",
       "        vertical-align: middle;\n",
       "    }\n",
       "\n",
       "    .dataframe tbody tr th {\n",
       "        vertical-align: top;\n",
       "    }\n",
       "\n",
       "    .dataframe thead th {\n",
       "        text-align: right;\n",
       "    }\n",
       "</style>\n",
       "<table border=\"1\" class=\"dataframe\">\n",
       "  <thead>\n",
       "    <tr style=\"text-align: right;\">\n",
       "      <th></th>\n",
       "      <th>Sno</th>\n",
       "      <th>Province/State</th>\n",
       "      <th>Country</th>\n",
       "      <th>Last Update</th>\n",
       "      <th>Confirmed</th>\n",
       "      <th>Deaths</th>\n",
       "      <th>Recovered</th>\n",
       "      <th>lat_long</th>\n",
       "      <th>co_ord</th>\n",
       "      <th>lat</th>\n",
       "      <th>long</th>\n",
       "    </tr>\n",
       "  </thead>\n",
       "  <tbody>\n",
       "    <tr>\n",
       "      <th>0</th>\n",
       "      <td>1</td>\n",
       "      <td>Anhui</td>\n",
       "      <td>China</td>\n",
       "      <td>2020-01-22 12:00:00</td>\n",
       "      <td>1.0</td>\n",
       "      <td>0.0</td>\n",
       "      <td>0.0</td>\n",
       "      <td>(32.0, 117.0)</td>\n",
       "      <td>(32.0, 117.0)</td>\n",
       "      <td>32.000000</td>\n",
       "      <td>117.000000</td>\n",
       "    </tr>\n",
       "    <tr>\n",
       "      <th>1</th>\n",
       "      <td>2</td>\n",
       "      <td>Beijing</td>\n",
       "      <td>China</td>\n",
       "      <td>2020-01-22 12:00:00</td>\n",
       "      <td>14.0</td>\n",
       "      <td>0.0</td>\n",
       "      <td>0.0</td>\n",
       "      <td>(39.906217, 116.3912757)</td>\n",
       "      <td>(39.906217, 116.3912757)</td>\n",
       "      <td>39.906217</td>\n",
       "      <td>116.391276</td>\n",
       "    </tr>\n",
       "    <tr>\n",
       "      <th>2</th>\n",
       "      <td>3</td>\n",
       "      <td>Chongqing</td>\n",
       "      <td>China</td>\n",
       "      <td>2020-01-22 12:00:00</td>\n",
       "      <td>6.0</td>\n",
       "      <td>0.0</td>\n",
       "      <td>0.0</td>\n",
       "      <td>(30.05518, 107.8748712)</td>\n",
       "      <td>(30.05518, 107.8748712)</td>\n",
       "      <td>30.055180</td>\n",
       "      <td>107.874871</td>\n",
       "    </tr>\n",
       "    <tr>\n",
       "      <th>3</th>\n",
       "      <td>4</td>\n",
       "      <td>Fujian</td>\n",
       "      <td>China</td>\n",
       "      <td>2020-01-22 12:00:00</td>\n",
       "      <td>1.0</td>\n",
       "      <td>0.0</td>\n",
       "      <td>0.0</td>\n",
       "      <td>(26.5450001, 117.842778)</td>\n",
       "      <td>(26.5450001, 117.842778)</td>\n",
       "      <td>26.545000</td>\n",
       "      <td>117.842778</td>\n",
       "    </tr>\n",
       "    <tr>\n",
       "      <th>4</th>\n",
       "      <td>5</td>\n",
       "      <td>Gansu</td>\n",
       "      <td>China</td>\n",
       "      <td>2020-01-22 12:00:00</td>\n",
       "      <td>0.0</td>\n",
       "      <td>0.0</td>\n",
       "      <td>0.0</td>\n",
       "      <td>(38.0000001, 101.9999999)</td>\n",
       "      <td>(38.0000001, 101.9999999)</td>\n",
       "      <td>38.000000</td>\n",
       "      <td>102.000000</td>\n",
       "    </tr>\n",
       "  </tbody>\n",
       "</table>\n",
       "</div>"
      ],
      "text/plain": [
       "   Sno Province/State Country         Last Update  Confirmed  Deaths  \\\n",
       "0    1          Anhui   China 2020-01-22 12:00:00        1.0     0.0   \n",
       "1    2        Beijing   China 2020-01-22 12:00:00       14.0     0.0   \n",
       "2    3      Chongqing   China 2020-01-22 12:00:00        6.0     0.0   \n",
       "3    4         Fujian   China 2020-01-22 12:00:00        1.0     0.0   \n",
       "4    5          Gansu   China 2020-01-22 12:00:00        0.0     0.0   \n",
       "\n",
       "   Recovered                   lat_long                     co_ord        lat  \\\n",
       "0        0.0              (32.0, 117.0)              (32.0, 117.0)  32.000000   \n",
       "1        0.0   (39.906217, 116.3912757)   (39.906217, 116.3912757)  39.906217   \n",
       "2        0.0    (30.05518, 107.8748712)    (30.05518, 107.8748712)  30.055180   \n",
       "3        0.0   (26.5450001, 117.842778)   (26.5450001, 117.842778)  26.545000   \n",
       "4        0.0  (38.0000001, 101.9999999)  (38.0000001, 101.9999999)  38.000000   \n",
       "\n",
       "         long  \n",
       "0  117.000000  \n",
       "1  116.391276  \n",
       "2  107.874871  \n",
       "3  117.842778  \n",
       "4  102.000000  "
      ]
     },
     "execution_count": 20,
     "metadata": {},
     "output_type": "execute_result"
    }
   ],
   "source": [
    "df_copy.head()"
   ]
  },
  {
   "cell_type": "code",
   "execution_count": 21,
   "metadata": {},
   "outputs": [],
   "source": [
    "df_copy[\"date\"] = df_copy['Last Update'].dt.strftime(\"%m/%d/%Y, %H:%M:%S\")"
   ]
  },
  {
   "cell_type": "code",
   "execution_count": 22,
   "metadata": {},
   "outputs": [
    {
     "data": {
      "text/plain": [
       "array(['2020-01-22T12:00:00.000000000', '2020-01-23T12:00:00.000000000',\n",
       "       '2020-01-24T12:00:00.000000000', '2020-01-25T12:00:00.000000000',\n",
       "       '2020-01-25T22:00:00.000000000', '2020-01-26T23:00:00.000000000',\n",
       "       '2020-01-27T20:30:00.000000000', '2020-01-28T18:00:00.000000000',\n",
       "       '2020-01-28T23:00:00.000000000', '2020-01-29T21:00:00.000000000'],\n",
       "      dtype='datetime64[ns]')"
      ]
     },
     "execution_count": 22,
     "metadata": {},
     "output_type": "execute_result"
    }
   ],
   "source": [
    "df_copy['Last Update'].sort_values().unique()"
   ]
  },
  {
   "cell_type": "code",
   "execution_count": 23,
   "metadata": {},
   "outputs": [],
   "source": [
    "import numpy as np\n",
    "places = np.unique(df_copy[['lat','long']], axis=0)\n",
    "places = [(x,y) for [x,y] in places]\n",
    "\n",
    "case_dict = {}"
   ]
  },
  {
   "cell_type": "code",
   "execution_count": 24,
   "metadata": {},
   "outputs": [],
   "source": [
    "df_day_list = []\n",
    "\n",
    "weight_key = 'Confirmed'\n",
    "\n",
    "for idx, date in enumerate(df_copy['Last Update'].sort_values().unique()):\n",
    "    \n",
    "    tmp = df_copy[df_copy['Last Update'] == date]\n",
    "    tmp = tmp[['lat', 'long', weight_key]]\n",
    "    total_confirmed = tmp.Confirmed.sum()\n",
    "    tmp['weight'] = tmp['Confirmed'].apply(lambda x: x/total_confirmed)\n",
    "    grp = tmp.groupby(['lat', 'long'])[weight_key].sum().reset_index()\n",
    "    \n",
    "    for index, row in grp.iterrows():\n",
    "        case_dict[(row['lat'],row['long'])] = row[weight_key]\n",
    "        \n",
    "    update = []\n",
    "    for key, val in case_dict.items():\n",
    "        update.append([key[0], key[1], val])\n",
    "        \n",
    "    df_day_list.append(update)"
   ]
  },
  {
   "cell_type": "code",
   "execution_count": 25,
   "metadata": {},
   "outputs": [],
   "source": [
    "index = df_copy['date'].sort_values().unique()"
   ]
  },
  {
   "cell_type": "code",
   "execution_count": 26,
   "metadata": {},
   "outputs": [
    {
     "data": {
      "text/html": [
       "<div style=\"width:100%;\"><div style=\"position:relative;width:100%;height:0;padding-bottom:60%;\"><iframe src=\"data:text/html;charset=utf-8;base64,PCFET0NUWVBFIGh0bWw+CjxoZWFkPiAgICAKICAgIDxtZXRhIGh0dHAtZXF1aXY9ImNvbnRlbnQtdHlwZSIgY29udGVudD0idGV4dC9odG1sOyBjaGFyc2V0PVVURi04IiAvPgogICAgCiAgICAgICAgPHNjcmlwdD4KICAgICAgICAgICAgTF9OT19UT1VDSCA9IGZhbHNlOwogICAgICAgICAgICBMX0RJU0FCTEVfM0QgPSBmYWxzZTsKICAgICAgICA8L3NjcmlwdD4KICAgIAogICAgPHNjcmlwdCBzcmM9Imh0dHBzOi8vY2RuLmpzZGVsaXZyLm5ldC9ucG0vbGVhZmxldEAxLjUuMS9kaXN0L2xlYWZsZXQuanMiPjwvc2NyaXB0PgogICAgPHNjcmlwdCBzcmM9Imh0dHBzOi8vY29kZS5qcXVlcnkuY29tL2pxdWVyeS0xLjEyLjQubWluLmpzIj48L3NjcmlwdD4KICAgIDxzY3JpcHQgc3JjPSJodHRwczovL21heGNkbi5ib290c3RyYXBjZG4uY29tL2Jvb3RzdHJhcC8zLjIuMC9qcy9ib290c3RyYXAubWluLmpzIj48L3NjcmlwdD4KICAgIDxzY3JpcHQgc3JjPSJodHRwczovL2NkbmpzLmNsb3VkZmxhcmUuY29tL2FqYXgvbGlicy9MZWFmbGV0LmF3ZXNvbWUtbWFya2Vycy8yLjAuMi9sZWFmbGV0LmF3ZXNvbWUtbWFya2Vycy5qcyI+PC9zY3JpcHQ+CiAgICA8bGluayByZWw9InN0eWxlc2hlZXQiIGhyZWY9Imh0dHBzOi8vY2RuLmpzZGVsaXZyLm5ldC9ucG0vbGVhZmxldEAxLjUuMS9kaXN0L2xlYWZsZXQuY3NzIi8+CiAgICA8bGluayByZWw9InN0eWxlc2hlZXQiIGhyZWY9Imh0dHBzOi8vbWF4Y2RuLmJvb3RzdHJhcGNkbi5jb20vYm9vdHN0cmFwLzMuMi4wL2Nzcy9ib290c3RyYXAubWluLmNzcyIvPgogICAgPGxpbmsgcmVsPSJzdHlsZXNoZWV0IiBocmVmPSJodHRwczovL21heGNkbi5ib290c3RyYXBjZG4uY29tL2Jvb3RzdHJhcC8zLjIuMC9jc3MvYm9vdHN0cmFwLXRoZW1lLm1pbi5jc3MiLz4KICAgIDxsaW5rIHJlbD0ic3R5bGVzaGVldCIgaHJlZj0iaHR0cHM6Ly9tYXhjZG4uYm9vdHN0cmFwY2RuLmNvbS9mb250LWF3ZXNvbWUvNC42LjMvY3NzL2ZvbnQtYXdlc29tZS5taW4uY3NzIi8+CiAgICA8bGluayByZWw9InN0eWxlc2hlZXQiIGhyZWY9Imh0dHBzOi8vY2RuanMuY2xvdWRmbGFyZS5jb20vYWpheC9saWJzL0xlYWZsZXQuYXdlc29tZS1tYXJrZXJzLzIuMC4yL2xlYWZsZXQuYXdlc29tZS1tYXJrZXJzLmNzcyIvPgogICAgPGxpbmsgcmVsPSJzdHlsZXNoZWV0IiBocmVmPSJodHRwczovL3Jhd2Nkbi5naXRoYWNrLmNvbS9weXRob24tdmlzdWFsaXphdGlvbi9mb2xpdW0vbWFzdGVyL2ZvbGl1bS90ZW1wbGF0ZXMvbGVhZmxldC5hd2Vzb21lLnJvdGF0ZS5jc3MiLz4KICAgIDxzdHlsZT5odG1sLCBib2R5IHt3aWR0aDogMTAwJTtoZWlnaHQ6IDEwMCU7bWFyZ2luOiAwO3BhZGRpbmc6IDA7fTwvc3R5bGU+CiAgICA8c3R5bGU+I21hcCB7cG9zaXRpb246YWJzb2x1dGU7dG9wOjA7Ym90dG9tOjA7cmlnaHQ6MDtsZWZ0OjA7fTwvc3R5bGU+CiAgICAKICAgICAgICAgICAgPG1ldGEgbmFtZT0idmlld3BvcnQiIGNvbnRlbnQ9IndpZHRoPWRldmljZS13aWR0aCwKICAgICAgICAgICAgICAgIGluaXRpYWwtc2NhbGU9MS4wLCBtYXhpbXVtLXNjYWxlPTEuMCwgdXNlci1zY2FsYWJsZT1ubyIgLz4KICAgICAgICAgICAgPHN0eWxlPgogICAgICAgICAgICAgICAgI21hcF85ZTRhNzE4YTRlMTQ0MzRhOWNlNTQ4NTYyZmYyOGM3MSB7CiAgICAgICAgICAgICAgICAgICAgcG9zaXRpb246IHJlbGF0aXZlOwogICAgICAgICAgICAgICAgICAgIHdpZHRoOiAxMDAuMCU7CiAgICAgICAgICAgICAgICAgICAgaGVpZ2h0OiAxMDAuMCU7CiAgICAgICAgICAgICAgICAgICAgbGVmdDogMC4wJTsKICAgICAgICAgICAgICAgICAgICB0b3A6IDAuMCU7CiAgICAgICAgICAgICAgICB9CiAgICAgICAgICAgIDwvc3R5bGU+CiAgICAgICAgCiAgICA8c2NyaXB0IHNyYz0iaHR0cHM6Ly9yYXdjZG4uZ2l0aGFjay5jb20vbmV6YXNhL2lzbzg2MDEtanMtcGVyaW9kL21hc3Rlci9pc284NjAxLm1pbi5qcyI+PC9zY3JpcHQ+CiAgICA8c2NyaXB0IHNyYz0iaHR0cHM6Ly9yYXdjZG4uZ2l0aGFjay5jb20vc29jaWIvTGVhZmxldC5UaW1lRGltZW5zaW9uL21hc3Rlci9kaXN0L2xlYWZsZXQudGltZWRpbWVuc2lvbi5taW4uanMiPjwvc2NyaXB0PgogICAgPHNjcmlwdCBzcmM9Imh0dHBzOi8vcmF3Y2RuLmdpdGhhY2suY29tL3B5dGhvbi12aXN1YWxpemF0aW9uL2ZvbGl1bS9tYXN0ZXIvZm9saXVtL3RlbXBsYXRlcy9wYTdfaG0ubWluLmpzIj48L3NjcmlwdD4KICAgIDxzY3JpcHQgc3JjPSJodHRwczovL3Jhd2Nkbi5naXRoYWNrLmNvbS9wYTcvaGVhdG1hcC5qcy9kZXZlbG9wL3BsdWdpbnMvbGVhZmxldC1oZWF0bWFwL2xlYWZsZXQtaGVhdG1hcC5qcyI+PC9zY3JpcHQ+CiAgICA8bGluayByZWw9InN0eWxlc2hlZXQiIGhyZWY9Imh0dHA6Ly9hcHBzLnNvY2liLmVzL0xlYWZsZXQuVGltZURpbWVuc2lvbi9kaXN0L2xlYWZsZXQudGltZWRpbWVuc2lvbi5jb250cm9sLm1pbi5jc3MiLz4KICAgIAogICAgICAgICAgICA8c2NyaXB0PgogICAgICAgICAgICAgICAgdmFyIFRESGVhdG1hcCA9IEwuVGltZURpbWVuc2lvbi5MYXllci5leHRlbmQoewoKICAgICAgICAgICAgaW5pdGlhbGl6ZTogZnVuY3Rpb24oZGF0YSwgb3B0aW9ucykgewogICAgICAgICAgICAgICAgdmFyIGhlYXRtYXBDZmcgPSB7CiAgICAgICAgICAgICAgICAgICAgcmFkaXVzOiAxNSwKICAgICAgICAgICAgICAgICAgICBtYXhPcGFjaXR5OiAxLiwKICAgICAgICAgICAgICAgICAgICBzY2FsZVJhZGl1czogZmFsc2UsCiAgICAgICAgICAgICAgICAgICAgdXNlTG9jYWxFeHRyZW1hOiBmYWxzZSwKICAgICAgICAgICAgICAgICAgICBsYXRGaWVsZDogJ2xhdCcsCiAgICAgICAgICAgICAgICAgICAgbG5nRmllbGQ6ICdsbmcnLAogICAgICAgICAgICAgICAgICAgIHZhbHVlRmllbGQ6ICdjb3VudCcsCiAgICAgICAgICAgICAgICAgICAgZGVmYXVsdFdlaWdodCA6IDEsCiAgICAgICAgICAgICAgICB9OwogICAgICAgICAgICAgICAgaGVhdG1hcENmZyA9ICQuZXh0ZW5kKHt9LCBoZWF0bWFwQ2ZnLCBvcHRpb25zLmhlYXRtYXBPcHRpb25zIHx8IHt9KTsKICAgICAgICAgICAgICAgIHZhciBsYXllciA9IG5ldyBIZWF0bWFwT3ZlcmxheShoZWF0bWFwQ2ZnKTsKICAgICAgICAgICAgICAgIEwuVGltZURpbWVuc2lvbi5MYXllci5wcm90b3R5cGUuaW5pdGlhbGl6ZS5jYWxsKHRoaXMsIGxheWVyLCBvcHRpb25zKTsKICAgICAgICAgICAgICAgIHRoaXMuX2N1cnJlbnRMb2FkZWRUaW1lID0gMDsKICAgICAgICAgICAgICAgIHRoaXMuX2N1cnJlbnRUaW1lRGF0YSA9IHsKICAgICAgICAgICAgICAgICAgICBkYXRhOiBbXQogICAgICAgICAgICAgICAgICAgIH07CiAgICAgICAgICAgICAgICB0aGlzLmRhdGE9IGRhdGE7CiAgICAgICAgICAgICAgICB0aGlzLmRlZmF1bHRXZWlnaHQgPSBoZWF0bWFwQ2ZnLmRlZmF1bHRXZWlnaHQgfHwgMTsKICAgICAgICAgICAgfSwKICAgICAgICAgICAgb25BZGQ6IGZ1bmN0aW9uKG1hcCkgewogICAgICAgICAgICAgICAgTC5UaW1lRGltZW5zaW9uLkxheWVyLnByb3RvdHlwZS5vbkFkZC5jYWxsKHRoaXMsIG1hcCk7CiAgICAgICAgICAgICAgICBtYXAuYWRkTGF5ZXIodGhpcy5fYmFzZUxheWVyKTsKICAgICAgICAgICAgICAgIGlmICh0aGlzLl90aW1lRGltZW5zaW9uKSB7CiAgICAgICAgICAgICAgICAgICAgdGhpcy5fZ2V0RGF0YUZvclRpbWUodGhpcy5fdGltZURpbWVuc2lvbi5nZXRDdXJyZW50VGltZSgpKTsKICAgICAgICAgICAgICAgIH0KICAgICAgICAgICAgfSwKICAgICAgICAgICAgX29uTmV3VGltZUxvYWRpbmc6IGZ1bmN0aW9uKGV2KSB7CiAgICAgICAgICAgICAgICB0aGlzLl9nZXREYXRhRm9yVGltZShldi50aW1lKTsKICAgICAgICAgICAgICAgIHJldHVybjsKICAgICAgICAgICAgfSwKICAgICAgICAgICAgaXNSZWFkeTogZnVuY3Rpb24odGltZSkgewogICAgICAgICAgICAgICAgcmV0dXJuICh0aGlzLl9jdXJyZW50TG9hZGVkVGltZSA9PSB0aW1lKTsKICAgICAgICAgICAgfSwKICAgICAgICAgICAgX3VwZGF0ZTogZnVuY3Rpb24oKSB7CiAgICAgICAgICAgICAgICB0aGlzLl9iYXNlTGF5ZXIuc2V0RGF0YSh0aGlzLl9jdXJyZW50VGltZURhdGEpOwogICAgICAgICAgICAgICAgcmV0dXJuIHRydWU7CiAgICAgICAgICAgIH0sCiAgICAgICAgICAgIF9nZXREYXRhRm9yVGltZTogZnVuY3Rpb24odGltZSkgewogICAgICAgICAgICAgICAgICAgIGRlbGV0ZSB0aGlzLl9jdXJyZW50VGltZURhdGEuZGF0YTsKICAgICAgICAgICAgICAgICAgICB0aGlzLl9jdXJyZW50VGltZURhdGEuZGF0YSA9IFtdOwogICAgICAgICAgICAgICAgICAgIHZhciBkYXRhID0gdGhpcy5kYXRhW3RpbWUtMV07CiAgICAgICAgICAgICAgICAgICAgZm9yICh2YXIgaSA9IDA7IGkgPCBkYXRhLmxlbmd0aDsgaSsrKSB7CiAgICAgICAgICAgICAgICAgICAgICAgIHRoaXMuX2N1cnJlbnRUaW1lRGF0YS5kYXRhLnB1c2goewogICAgICAgICAgICAgICAgICAgICAgICAgICAgICAgIGxhdDogZGF0YVtpXVswXSwKICAgICAgICAgICAgICAgICAgICAgICAgICAgICAgICBsbmc6IGRhdGFbaV1bMV0sCiAgICAgICAgICAgICAgICAgICAgICAgICAgICAgICAgY291bnQ6IGRhdGFbaV0ubGVuZ3RoPjIgPyBkYXRhW2ldWzJdIDogdGhpcy5kZWZhdWx0V2VpZ2h0CiAgICAgICAgICAgICAgICAgICAgICAgICAgICB9KTsKICAgICAgICAgICAgICAgICAgICAgICAgfQogICAgICAgICAgICAgICAgICAgIHRoaXMuX2N1cnJlbnRMb2FkZWRUaW1lID0gdGltZTsKICAgICAgICAgICAgICAgICAgICBpZiAodGhpcy5fdGltZURpbWVuc2lvbiAmJiB0aW1lID09IHRoaXMuX3RpbWVEaW1lbnNpb24uZ2V0Q3VycmVudFRpbWUoKSAmJiAhdGhpcy5fdGltZURpbWVuc2lvbi5pc0xvYWRpbmcoKSkgewogICAgICAgICAgICAgICAgICAgICAgICB0aGlzLl91cGRhdGUoKTsKICAgICAgICAgICAgICAgICAgICB9CiAgICAgICAgICAgICAgICAgICAgdGhpcy5maXJlKCd0aW1lbG9hZCcsIHsKICAgICAgICAgICAgICAgICAgICAgICAgdGltZTogdGltZQogICAgICAgICAgICAgICAgICAgIH0pOwogICAgICAgICAgICAgICAgfQogICAgICAgIH0pOwoKICAgICAgICBMLkNvbnRyb2wuVGltZURpbWVuc2lvbkN1c3RvbSA9IEwuQ29udHJvbC5UaW1lRGltZW5zaW9uLmV4dGVuZCh7CiAgICAgICAgICAgIGluaXRpYWxpemU6IGZ1bmN0aW9uKGluZGV4LCBvcHRpb25zKSB7CiAgICAgICAgICAgICAgICB2YXIgcGxheWVyT3B0aW9ucyA9IHsKICAgICAgICAgICAgICAgICAgICBidWZmZXI6IDEsCiAgICAgICAgICAgICAgICAgICAgbWluQnVmZmVyUmVhZHk6IC0xCiAgICAgICAgICAgICAgICAgICAgfTsKICAgICAgICAgICAgICAgIG9wdGlvbnMucGxheWVyT3B0aW9ucyA9ICQuZXh0ZW5kKHt9LCBwbGF5ZXJPcHRpb25zLCBvcHRpb25zLnBsYXllck9wdGlvbnMgfHwge30pOwogICAgICAgICAgICAgICAgTC5Db250cm9sLlRpbWVEaW1lbnNpb24ucHJvdG90eXBlLmluaXRpYWxpemUuY2FsbCh0aGlzLCBvcHRpb25zKTsKICAgICAgICAgICAgICAgIHRoaXMuaW5kZXggPSBpbmRleDsKICAgICAgICAgICAgICAgIH0sCiAgICAgICAgICAgIF9nZXREaXNwbGF5RGF0ZUZvcm1hdDogZnVuY3Rpb24oZGF0ZSl7CiAgICAgICAgICAgICAgICByZXR1cm4gdGhpcy5pbmRleFtkYXRlLmdldFRpbWUoKS0xXTsKICAgICAgICAgICAgICAgIH0KICAgICAgICAgICAgfSk7CiAgICAgICAgICAgIDwvc2NyaXB0PgogICAgICAgICAgICAgICAgCjwvaGVhZD4KPGJvZHk+ICAgIAogICAgCiAgICAgICAgICAgIDxkaXYgY2xhc3M9ImZvbGl1bS1tYXAiIGlkPSJtYXBfOWU0YTcxOGE0ZTE0NDM0YTljZTU0ODU2MmZmMjhjNzEiID48L2Rpdj4KICAgICAgICAKPC9ib2R5Pgo8c2NyaXB0PiAgICAKICAgIAogICAgICAgICAgICB2YXIgbWFwXzllNGE3MThhNGUxNDQzNGE5Y2U1NDg1NjJmZjI4YzcxID0gTC5tYXAoCiAgICAgICAgICAgICAgICAibWFwXzllNGE3MThhNGUxNDQzNGE5Y2U1NDg1NjJmZjI4YzcxIiwKICAgICAgICAgICAgICAgIHsKICAgICAgICAgICAgICAgICAgICBjZW50ZXI6IFszMC41LCAyMC4zXSwKICAgICAgICAgICAgICAgICAgICBjcnM6IEwuQ1JTLkVQU0czODU3LAogICAgICAgICAgICAgICAgICAgIHpvb206IDEuNSwKICAgICAgICAgICAgICAgICAgICB6b29tQ29udHJvbDogdHJ1ZSwKICAgICAgICAgICAgICAgICAgICBwcmVmZXJDYW52YXM6IGZhbHNlLAogICAgICAgICAgICAgICAgfQogICAgICAgICAgICApOwoKICAgICAgICAgICAgCgogICAgICAgIAogICAgCiAgICAgICAgICAgIHZhciB0aWxlX2xheWVyX2EyNzZjMDNhZjI5MDQ2ZDg4Y2YzM2JhNWYzMjQwNzgxID0gTC50aWxlTGF5ZXIoCiAgICAgICAgICAgICAgICAiaHR0cHM6Ly9zdGFtZW4tdGlsZXMte3N9LmEuc3NsLmZhc3RseS5uZXQvdG9uZXIve3p9L3t4fS97eX0ucG5nIiwKICAgICAgICAgICAgICAgIHsiYXR0cmlidXRpb24iOiAiTWFwIHRpbGVzIGJ5IFx1MDAzY2EgaHJlZj1cImh0dHA6Ly9zdGFtZW4uY29tXCJcdTAwM2VTdGFtZW4gRGVzaWduXHUwMDNjL2FcdTAwM2UsIHVuZGVyIFx1MDAzY2EgaHJlZj1cImh0dHA6Ly9jcmVhdGl2ZWNvbW1vbnMub3JnL2xpY2Vuc2VzL2J5LzMuMFwiXHUwMDNlQ0MgQlkgMy4wXHUwMDNjL2FcdTAwM2UuIERhdGEgYnkgXHUwMDI2Y29weTsgXHUwMDNjYSBocmVmPVwiaHR0cDovL29wZW5zdHJlZXRtYXAub3JnXCJcdTAwM2VPcGVuU3RyZWV0TWFwXHUwMDNjL2FcdTAwM2UsIHVuZGVyIFx1MDAzY2EgaHJlZj1cImh0dHA6Ly93d3cub3BlbnN0cmVldG1hcC5vcmcvY29weXJpZ2h0XCJcdTAwM2VPRGJMXHUwMDNjL2FcdTAwM2UuIiwgImRldGVjdFJldGluYSI6IGZhbHNlLCAibWF4TmF0aXZlWm9vbSI6IDE4LCAibWF4Wm9vbSI6IDE4LCAibWluWm9vbSI6IDAsICJub1dyYXAiOiBmYWxzZSwgIm9wYWNpdHkiOiAxLCAic3ViZG9tYWlucyI6ICJhYmMiLCAidG1zIjogZmFsc2V9CiAgICAgICAgICAgICkuYWRkVG8obWFwXzllNGE3MThhNGUxNDQzNGE5Y2U1NDg1NjJmZjI4YzcxKTsKICAgICAgICAKICAgIAoKICAgICAgICAgICAgdmFyIHRpbWVzID0gWzEsIDIsIDMsIDQsIDUsIDYsIDcsIDgsIDksIDEwXTsKCiAgICAgICAgICAgIG1hcF85ZTRhNzE4YTRlMTQ0MzRhOWNlNTQ4NTYyZmYyOGM3MS50aW1lRGltZW5zaW9uID0gTC50aW1lRGltZW5zaW9uKAogICAgICAgICAgICAgICAge3RpbWVzIDogdGltZXMsIGN1cnJlbnRUaW1lOiBuZXcgRGF0ZSgxKX0KICAgICAgICAgICAgKTsKCiAgICAgICAgICAgIHZhciBoZWF0X21hcF8xMzE3NmQzYzc3M2M0ZTFkYTc5MzQxY2ZlYTkxMDk1OENvbnRyb2wgPSBuZXcgTC5Db250cm9sLlRpbWVEaW1lbnNpb25DdXN0b20oWycwMS8yMi8yMDIwLCAxMjowMDowMCcsICcwMS8yMy8yMDIwLCAxMjowMDowMCcsICcwMS8yNC8yMDIwLCAxMjowMDowMCcsICcwMS8yNS8yMDIwLCAxMjowMDowMCcsICcwMS8yNS8yMDIwLCAyMjowMDowMCcsICcwMS8yNi8yMDIwLCAyMzowMDowMCcsICcwMS8yNy8yMDIwLCAyMDozMDowMCcsICcwMS8yOC8yMDIwLCAxODowMDowMCcsICcwMS8yOC8yMDIwLCAyMzowMDowMCcsICcwMS8yOS8yMDIwLCAyMTowMDowMCddLCB7CiAgICAgICAgICAgICAgICBhdXRvUGxheTogdHJ1ZSwKICAgICAgICAgICAgICAgIGJhY2t3YXJkQnV0dG9uOiB0cnVlLAogICAgICAgICAgICAgICAgZGlzcGxheURhdGU6IHRydWUsCiAgICAgICAgICAgICAgICBmb3J3YXJkQnV0dG9uOiB0cnVlLAogICAgICAgICAgICAgICAgbGltaXRNaW5pbXVtUmFuZ2U6IDUsCiAgICAgICAgICAgICAgICBsaW1pdFNsaWRlcnM6IHRydWUsCiAgICAgICAgICAgICAgICBsb29wQnV0dG9uOiB0cnVlLAogICAgICAgICAgICAgICAgbWF4U3BlZWQ6IDEwLAogICAgICAgICAgICAgICAgbWluU3BlZWQ6IDAuMSwKICAgICAgICAgICAgICAgIHBsYXlCdXR0b246IHRydWUsCiAgICAgICAgICAgICAgICBwbGF5UmV2ZXJzZUJ1dHRvbjogdHJ1ZSwKICAgICAgICAgICAgICAgIHBvc2l0aW9uOiAiYm90dG9tbGVmdCIsCiAgICAgICAgICAgICAgICBzcGVlZFNsaWRlcjogdHJ1ZSwKICAgICAgICAgICAgICAgIHNwZWVkU3RlcDogMC4xLAogICAgICAgICAgICAgICAgc3R5bGVOUzogImxlYWZsZXQtY29udHJvbC10aW1lY29udHJvbCIsCiAgICAgICAgICAgICAgICB0aW1lU2xpZGVyOiB0cnVlLAogICAgICAgICAgICAgICAgdGltZVNsaWRlckRyYXBVcGRhdGU6IGZhbHNlLAogICAgICAgICAgICAgICAgdGltZVN0ZXBzOiAxCiAgICAgICAgICAgICAgICB9KQogICAgICAgICAgICAgICAgLmFkZFRvKG1hcF85ZTRhNzE4YTRlMTQ0MzRhOWNlNTQ4NTYyZmYyOGM3MSk7CgogICAgICAgICAgICAgICAgdmFyIGhlYXRfbWFwXzEzMTc2ZDNjNzczYzRlMWRhNzkzNDFjZmVhOTEwOTU4ID0gbmV3IFRESGVhdG1hcChbW1sxOS4yMDAwMDAxLCAxMDkuNTk5OTk5OSwgNC4wXSwgWzIyLjE3NTc2MDUsIDExMy41NTE0MTQyLCAxLjBdLCBbMjIuMjc5MzI3OCwgMTE0LjE2MjgxMzEsIDAuMF0sIFsyMy4xMzU3Njk0LCAxMTMuMTk4MjY4OCwgMjYuMF0sIFsyMy45NzM5Mzc0LCAxMjAuOTgyMDE3OSwgMS4wXSwgWzI0LjAsIDEwOS4wLCAyLjBdLCBbMjUuMCwgMTAyLjAsIDEuMF0sIFsyNi41NDUwMDAxLCAxMTcuODQyNzc4LCAxLjBdLCBbMjcuMCwgMTA3LjAsIDEuMF0sIFsyNy45OTk1ODc4LCAxMTIuMDA5NTM4LCA0LjBdLCBbMjguMCwgMTE2LjAsIDIuMF0sIFsyOS4wMDAwMDAxLCAxMTkuOTk5OTk5OSwgMTAuMF0sIFszMC4wNTUxOCwgMTA3Ljg3NDg3MTIsIDYuMF0sIFszMC41MDAwMDAxLCAxMDIuNDk5OTk5OSwgNS4wXSwgWzMxLjE1MTcyNTI1LCAxMTIuODc4MzIyMjQ2NTYwNDMsIDQ0NC4wXSwgWzMxLjIzMjI3NTgsIDEyMS40NjkyMDcxLCA5LjBdLCBbMzEuODk0MzQzMTQ5OTk5OTk3LCA4Ny4wNzgxMzcxMjcwNjUwOSwgMC4wXSwgWzMyLjAsIDExNy4wLCAxLjBdLCBbMzMuMDAwMDAwMSwgMTE5Ljk5OTk5OTksIDEuMF0sIFszNC4wMDAwMDAxLCAxMTMuOTk5OTk5OSwgNS4wXSwgWzM1LjQwNzA5NTI1LCA5NS45NTIxMTU3MzI0MTk1NCwgMC4wXSwgWzM2LjAsIDEwOS4wLCAwLjBdLCBbMzYuMDAwMDAwMSwgMTE4Ljk5OTk5OTksIDIuMF0sIFszNy4wLCAxMTIuMCwgMS4wXSwgWzM3LjAwMDAwMDEsIDEwNS45OTk5OTk5LCAxLjBdLCBbMzguMDAwMDAwMSwgMTAxLjk5OTk5OTksIDAuMF0sIFszOS4wMDAwMDAxLCAxMTYuMCwgMS4wXSwgWzM5LjEyMzU2MzUsIDExNy4xOTgwNzg1LCA0LjBdLCBbMzkuOTA2MjE3LCAxMTYuMzkxMjc1NywgMTQuMF0sIFs0MC45OTc1MTk3LCAxMjIuOTk1NTQ2OSwgMi4wXSwgWzQxLjc1NzQ3NjksIDg3LjE2NzM4NDIzMDQ2ODk3LCAwLjBdLCBbNDIuOTk5NTAzMiwgMTI1Ljk4MTYwNTQsIDAuMF0sIFs0My4yNDQzMjQyLCAxMTQuMzI1MTY2NCwgMC4wXSwgWzQ2LjMxNDQ3NTQsIDExLjA0ODAyODgsIDQuMF0sIFs0Ny43NTExLCAxMjAuNzQwMSwgMS4wXSwgWzQ4LjAwMDAwNDcsIDEyNy45OTk5OTIsIDAuMF1dLCBbWzE5LjIwMDAwMDEsIDEwOS41OTk5OTk5LCA1LjBdLCBbMjIuMTc1NzYwNSwgMTEzLjU1MTQxNDIsIDIuMF0sIFsyMi4yNzkzMjc4LCAxMTQuMTYyODEzMSwgMi4wXSwgWzIzLjEzNTc2OTQsIDExMy4xOTgyNjg4LCAzMi4wXSwgWzIzLjk3MzkzNzQsIDEyMC45ODIwMTc5LCAxLjBdLCBbMjQuMCwgMTA5LjAsIDUuMF0sIFsyNS4wLCAxMDIuMCwgMi4wXSwgWzI2LjU0NTAwMDEsIDExNy44NDI3NzgsIDUuMF0sIFsyNy4wLCAxMDcuMCwgMy4wXSwgWzI3Ljk5OTU4NzgsIDExMi4wMDk1MzgsIDkuMF0sIFsyOC4wLCAxMTYuMCwgNy4wXSwgWzI5LjAwMDAwMDEsIDExOS45OTk5OTk5LCAyNy4wXSwgWzMwLjA1NTE4LCAxMDcuODc0ODcxMiwgOS4wXSwgWzMwLjUwMDAwMDEsIDEwMi40OTk5OTk5LCA4LjBdLCBbMzEuMTUxNzI1MjUsIDExMi44NzgzMjIyNDY1NjA0MywgNDQ0LjBdLCBbMzEuMjMyMjc1OCwgMTIxLjQ2OTIwNzEsIDE2LjBdLCBbMzEuODk0MzQzMTQ5OTk5OTk3LCA4Ny4wNzgxMzcxMjcwNjUwOSwgMC4wXSwgWzMyLjAsIDExNy4wLCA5LjBdLCBbMzMuMDAwMDAwMSwgMTE5Ljk5OTk5OTksIDUuMF0sIFszNC4wMDAwMDAxLCAxMTMuOTk5OTk5OSwgNS4wXSwgWzM1LjQwNzA5NTI1LCA5NS45NTIxMTU3MzI0MTk1NCwgMC4wXSwgWzM2LjAsIDEwOS4wLCAzLjBdLCBbMzYuMDAwMDAwMSwgMTE4Ljk5OTk5OTksIDYuMF0sIFszNy4wLCAxMTIuMCwgMS4wXSwgWzM3LjAwMDAwMDEsIDEwNS45OTk5OTk5LCAxLjBdLCBbMzguMDAwMDAwMSwgMTAxLjk5OTk5OTksIDIuMF0sIFszOS4wMDAwMDAxLCAxMTYuMCwgMS4wXSwgWzM5LjEyMzU2MzUsIDExNy4xOTgwNzg1LCA0LjBdLCBbMzkuOTA2MjE3LCAxMTYuMzkxMjc1NywgMjIuMF0sIFs0MC45OTc1MTk3LCAxMjIuOTk1NTQ2OSwgMy4wXSwgWzQxLjc1NzQ3NjksIDg3LjE2NzM4NDIzMDQ2ODk3LCAyLjBdLCBbNDIuOTk5NTAzMiwgMTI1Ljk4MTYwNTQsIDEuMF0sIFs0My4yNDQzMjQyLCAxMTQuMzI1MTY2NCwgMC4wXSwgWzQ2LjMxNDQ3NTQsIDExLjA0ODAyODgsIDguMF0sIFs0Ny43NTExLCAxMjAuNzQwMSwgMS4wXSwgWzQ4LjAwMDAwNDcsIDEyNy45OTk5OTIsIDIuMF1dLCBbWzE5LjIwMDAwMDEsIDEwOS41OTk5OTk5LCA4LjBdLCBbMjIuMTc1NzYwNSwgMTEzLjU1MTQxNDIsIDIuMF0sIFsyMi4yNzkzMjc4LCAxMTQuMTYyODEzMSwgMi4wXSwgWzIzLjEzNTc2OTQsIDExMy4xOTgyNjg4LCA1My4wXSwgWzIzLjk3MzkzNzQsIDEyMC45ODIwMTc5LCAzLjBdLCBbMjQuMCwgMTA5LjAsIDIzLjBdLCBbMjUuMCwgMTAyLjAsIDUuMF0sIFsyNi41NDUwMDAxLCAxMTcuODQyNzc4LCAxMC4wXSwgWzI3LjAsIDEwNy4wLCAzLjBdLCBbMjcuOTk5NTg3OCwgMTEyLjAwOTUzOCwgMjQuMF0sIFsyOC4wLCAxMTYuMCwgMTguMF0sIFsyOS4wMDAwMDAxLCAxMTkuOTk5OTk5OSwgNDMuMF0sIFszMC4wNTUxOCwgMTA3Ljg3NDg3MTIsIDI3LjBdLCBbMzAuNTAwMDAwMSwgMTAyLjQ5OTk5OTksIDE1LjBdLCBbMzEuMTUxNzI1MjUsIDExMi44NzgzMjIyNDY1NjA0MywgNTQ5LjBdLCBbMzEuMjMyMjc1OCwgMTIxLjQ2OTIwNzEsIDIwLjBdLCBbMzEuODk0MzQzMTQ5OTk5OTk3LCA4Ny4wNzgxMzcxMjcwNjUwOSwgMC4wXSwgWzMyLjAsIDExNy4wLCAxNS4wXSwgWzMzLjAwMDAwMDEsIDExOS45OTk5OTk5LCA5LjBdLCBbMzQuMDAwMDAwMSwgMTEzLjk5OTk5OTksIDkuMF0sIFszNS40MDcwOTUyNSwgOTUuOTUyMTE1NzMyNDE5NTQsIDAuMF0sIFszNi4wLCAxMDkuMCwgNS4wXSwgWzM2LjAwMDAwMDEsIDExOC45OTk5OTk5LCAxNS4wXSwgWzM3LjAsIDExMi4wLCAxLjBdLCBbMzcuMDAwMDAwMSwgMTA1Ljk5OTk5OTksIDIuMF0sIFszOC4wMDAwMDAxLCAxMDEuOTk5OTk5OSwgMi4wXSwgWzM5LjAwMDAwMDEsIDExNi4wLCAyLjBdLCBbMzkuMTIzNTYzNSwgMTE3LjE5ODA3ODUsIDguMF0sIFszOS45MDYyMTcsIDExNi4zOTEyNzU3LCAzNi4wXSwgWzQwLjk5NzUxOTcsIDEyMi45OTU1NDY5LCA0LjBdLCBbNDEuNzU3NDc2OSwgODcuMTY3Mzg0MjMwNDY4OTcsIDIuMF0sIFs0Mi45OTk1MDMyLCAxMjUuOTgxNjA1NCwgMy4wXSwgWzQzLjI0NDMyNDIsIDExNC4zMjUxNjY0LCAxLjBdLCBbNDYuMzE0NDc1NCwgMTEuMDQ4MDI4OCwgMTQuMF0sIFs0Ny43NTExLCAxMjAuNzQwMSwgMS4wXSwgWzQ4LjAwMDAwNDcsIDEyNy45OTk5OTIsIDQuMF0sIFs0MS44NzU1NjE2LCAtODcuNjI0NDIxMiwgMS4wXV0sIFtbMTkuMjAwMDAwMSwgMTA5LjU5OTk5OTksIDE5LjBdLCBbMjIuMTc1NzYwNSwgMTEzLjU1MTQxNDIsIDIuMF0sIFsyMi4yNzkzMjc4LCAxMTQuMTYyODEzMSwgNS4wXSwgWzIzLjEzNTc2OTQsIDExMy4xOTgyNjg4LCA5OC4wXSwgWzIzLjk3MzkzNzQsIDEyMC45ODIwMTc5LCAzLjBdLCBbMjQuMCwgMTA5LjAsIDMzLjBdLCBbMjUuMCwgMTAyLjAsIDExLjBdLCBbMjYuNTQ1MDAwMSwgMTE3Ljg0Mjc3OCwgMTguMF0sIFsyNy4wLCAxMDcuMCwgNS4wXSwgWzI3Ljk5OTU4NzgsIDExMi4wMDk1MzgsIDY5LjBdLCBbMjguMCwgMTE2LjAsIDM2LjBdLCBbMjkuMDAwMDAwMSwgMTE5Ljk5OTk5OTksIDQzLjBdLCBbMzAuMDU1MTgsIDEwNy44NzQ4NzEyLCA3NS4wXSwgWzMwLjUwMDAwMDEsIDEwMi40OTk5OTk5LCA0NC4wXSwgWzMxLjE1MTcyNTI1LCAxMTIuODc4MzIyMjQ2NTYwNDMsIDU0OS4wXSwgWzMxLjIzMjI3NTgsIDEyMS40NjkyMDcxLCA0MC4wXSwgWzMxLjg5NDM0MzE0OTk5OTk5NywgODcuMDc4MTM3MTI3MDY1MDksIDAuMF0sIFszMi4wLCAxMTcuMCwgNjAuMF0sIFszMy4wMDAwMDAxLCAxMTkuOTk5OTk5OSwgMzEuMF0sIFszNC4wMDAwMDAxLCAxMTMuOTk5OTk5OSwgODMuMF0sIFszNS40MDcwOTUyNSwgOTUuOTUyMTE1NzMyNDE5NTQsIDEuMF0sIFszNi4wLCAxMDkuMCwgMTUuMF0sIFszNi4wMDAwMDAxLCAxMTguOTk5OTk5OSwgMzkuMF0sIFszNy4wLCAxMTIuMCwgOS4wXSwgWzM3LjAwMDAwMDEsIDEwNS45OTk5OTk5LCA0LjBdLCBbMzguMDAwMDAwMSwgMTAxLjk5OTk5OTksIDcuMF0sIFszOS4wMDAwMDAxLCAxMTYuMCwgMTMuMF0sIFszOS4xMjM1NjM1LCAxMTcuMTk4MDc4NSwgMTMuMF0sIFszOS45MDYyMTcsIDExNi4zOTEyNzU3LCA1MS4wXSwgWzQwLjk5NzUxOTcsIDEyMi45OTU1NDY5LCAxOS4wXSwgWzQxLjc1NzQ3NjksIDg3LjE2NzM4NDIzMDQ2ODk3LCA0LjBdLCBbNDIuOTk5NTAzMiwgMTI1Ljk4MTYwNTQsIDQuMF0sIFs0My4yNDQzMjQyLCAxMTQuMzI1MTY2NCwgNy4wXSwgWzQ2LjMxNDQ3NTQsIDExLjA0ODAyODgsIDI1LjBdLCBbNDcuNzUxMSwgMTIwLjc0MDEsIDEuMF0sIFs0OC4wMDAwMDQ3LCAxMjcuOTk5OTkyLCAxNS4wXSwgWzQxLjg3NTU2MTYsIC04Ny42MjQ0MjEyLCAxLjBdLCBbNDAuMDc5NjYwNiwgLTg5LjQzMzcyODgsIDEuMF1dLCBbWzE5LjIwMDAwMDEsIDEwOS41OTk5OTk5LCAxOS4wXSwgWzIyLjE3NTc2MDUsIDExMy41NTE0MTQyLCAyLjBdLCBbMjIuMjc5MzI3OCwgMTE0LjE2MjgxMzEsIDUuMF0sIFsyMy4xMzU3Njk0LCAxMTMuMTk4MjY4OCwgOTguMF0sIFsyMy45NzM5Mzc0LCAxMjAuOTgyMDE3OSwgMy4wXSwgWzI0LjAsIDEwOS4wLCAzMy4wXSwgWzI1LjAsIDEwMi4wLCAxMS4wXSwgWzI2LjU0NTAwMDEsIDExNy44NDI3NzgsIDE4LjBdLCBbMjcuMCwgMTA3LjAsIDUuMF0sIFsyNy45OTk1ODc4LCAxMTIuMDA5NTM4LCA2OS4wXSwgWzI4LjAsIDExNi4wLCAzNi4wXSwgWzI5LjAwMDAwMDEsIDExOS45OTk5OTk5LCAxMDQuMF0sIFszMC4wNTUxOCwgMTA3Ljg3NDg3MTIsIDc1LjBdLCBbMzAuNTAwMDAwMSwgMTAyLjQ5OTk5OTksIDQ0LjBdLCBbMzEuMTUxNzI1MjUsIDExMi44NzgzMjIyNDY1NjA0MywgMTA1Mi4wXSwgWzMxLjIzMjI3NTgsIDEyMS40NjkyMDcxLCA0MC4wXSwgWzMxLjg5NDM0MzE0OTk5OTk5NywgODcuMDc4MTM3MTI3MDY1MDksIDAuMF0sIFszMi4wLCAxMTcuMCwgNjAuMF0sIFszMy4wMDAwMDAxLCAxMTkuOTk5OTk5OSwgMzEuMF0sIFszNC4wMDAwMDAxLCAxMTMuOTk5OTk5OSwgODMuMF0sIFszNS40MDcwOTUyNSwgOTUuOTUyMTE1NzMyNDE5NTQsIDEuMF0sIFszNi4wLCAxMDkuMCwgMTUuMF0sIFszNi4wMDAwMDAxLCAxMTguOTk5OTk5OSwgMzkuMF0sIFszNy4wLCAxMTIuMCwgOS4wXSwgWzM3LjAwMDAwMDEsIDEwNS45OTk5OTk5LCA0LjBdLCBbMzguMDAwMDAwMSwgMTAxLjk5OTk5OTksIDcuMF0sIFszOS4wMDAwMDAxLCAxMTYuMCwgMTMuMF0sIFszOS4xMjM1NjM1LCAxMTcuMTk4MDc4NSwgMTMuMF0sIFszOS45MDYyMTcsIDExNi4zOTEyNzU3LCA1MS4wXSwgWzQwLjk5NzUxOTcsIDEyMi45OTU1NDY5LCAxOS4wXSwgWzQxLjc1NzQ3NjksIDg3LjE2NzM4NDIzMDQ2ODk3LCA0LjBdLCBbNDIuOTk5NTAzMiwgMTI1Ljk4MTYwNTQsIDQuMF0sIFs0My4yNDQzMjQyLCAxMTQuMzI1MTY2NCwgNy4wXSwgWzQ2LjMxNDQ3NTQsIDExLjA0ODAyODgsIDI1LjBdLCBbNDcuNzUxMSwgMTIwLjc0MDEsIDEuMF0sIFs0OC4wMDAwMDQ3LCAxMjcuOTk5OTkyLCAxNS4wXSwgWzQxLjg3NTU2MTYsIC04Ny42MjQ0MjEyLCAxLjBdLCBbNDAuMDc5NjYwNiwgLTg5LjQzMzcyODgsIDEuMF1dLCBbWzE5LjIwMDAwMDEsIDEwOS41OTk5OTk5LCAyMi4wXSwgWzIyLjE3NTc2MDUsIDExMy41NTE0MTQyLCA2LjBdLCBbMjIuMjc5MzI3OCwgMTE0LjE2MjgxMzEsIDguMF0sIFsyMy4xMzU3Njk0LCAxMTMuMTk4MjY4OCwgMTQ2LjBdLCBbMjMuOTczOTM3NCwgMTIwLjk4MjAxNzksIDQuMF0sIFsyNC4wLCAxMDkuMCwgNDYuMF0sIFsyNS4wLCAxMDIuMCwgMTkuMF0sIFsyNi41NDUwMDAxLCAxMTcuODQyNzc4LCAzNS4wXSwgWzI3LjAsIDEwNy4wLCA3LjBdLCBbMjcuOTk5NTg3OCwgMTEyLjAwOTUzOCwgMTAwLjBdLCBbMjguMCwgMTE2LjAsIDQ4LjBdLCBbMjkuMDAwMDAwMSwgMTE5Ljk5OTk5OTksIDEyOC4wXSwgWzMwLjA1NTE4LCAxMDcuODc0ODcxMiwgMTEwLjBdLCBbMzAuNTAwMDAwMSwgMTAyLjQ5OTk5OTksIDY5LjBdLCBbMzEuMTUxNzI1MjUsIDExMi44NzgzMjIyNDY1NjA0MywgMTQyMy4wXSwgWzMxLjIzMjI3NTgsIDEyMS40NjkyMDcxLCA1My4wXSwgWzMxLjg5NDM0MzE0OTk5OTk5NywgODcuMDc4MTM3MTI3MDY1MDksIDAuMF0sIFszMi4wLCAxMTcuMCwgNzAuMF0sIFszMy4wMDAwMDAxLCAxMTkuOTk5OTk5OSwgNDcuMF0sIFszNC4wMDAwMDAxLCAxMTMuOTk5OTk5OSwgMTI4LjBdLCBbMzUuNDA3MDk1MjUsIDk1Ljk1MjExNTczMjQxOTU0LCA0LjBdLCBbMzYuMCwgMTA5LjAsIDIyLjBdLCBbMzYuMDAwMDAwMSwgMTE4Ljk5OTk5OTksIDYzLjBdLCBbMzcuMCwgMTEyLjAsIDEzLjBdLCBbMzcuMDAwMDAwMSwgMTA1Ljk5OTk5OTksIDQuMF0sIFszOC4wMDAwMDAxLCAxMDEuOTk5OTk5OSwgMTQuMF0sIFszOS4wMDAwMDAxLCAxMTYuMCwgMTguMF0sIFszOS4xMjM1NjM1LCAxMTcuMTk4MDc4NSwgMTQuMF0sIFszOS45MDYyMTcsIDExNi4zOTEyNzU3LCA2OC4wXSwgWzQwLjk5NzUxOTcsIDEyMi45OTU1NDY5LCAyMy4wXSwgWzQxLjc1NzQ3NjksIDg3LjE2NzM4NDIzMDQ2ODk3LCA1LjBdLCBbNDIuOTk5NTAzMiwgMTI1Ljk4MTYwNTQsIDYuMF0sIFs0My4yNDQzMjQyLCAxMTQuMzI1MTY2NCwgMTEuMF0sIFs0Ni4zMTQ0NzU0LCAxMS4wNDgwMjg4LCAzMy4wXSwgWzQ3Ljc1MTEsIDEyMC43NDAxLCAxLjBdLCBbNDguMDAwMDA0NywgMTI3Ljk5OTk5MiwgMjEuMF0sIFs0MS44NzU1NjE2LCAtODcuNjI0NDIxMiwgMS4wXSwgWzQwLjA3OTY2MDYsIC04OS40MzM3Mjg4LCAxLjBdLCBbMzQuMzk1MzQyLCAtMTExLjc2MzI3NTUsIDEuMF0sIFszNi43MDE0NjMxLCAtMTE4Ljc1NTk5NzQsIDIuMF1dLCBbWzE5LjIwMDAwMDEsIDEwOS41OTk5OTk5LCAzMy4wXSwgWzIyLjE3NTc2MDUsIDExMy41NTE0MTQyLCA2LjBdLCBbMjIuMjc5MzI3OCwgMTE0LjE2MjgxMzEsIDguMF0sIFsyMy4xMzU3Njk0LCAxMTMuMTk4MjY4OCwgMTUxLjBdLCBbMjMuOTczOTM3NCwgMTIwLjk4MjAxNzksIDUuMF0sIFsyNC4wLCAxMDkuMCwgNTEuMF0sIFsyNS4wLCAxMDIuMCwgMjYuMF0sIFsyNi41NDUwMDAxLCAxMTcuODQyNzc4LCA1OS4wXSwgWzI3LjAsIDEwNy4wLCA5LjBdLCBbMjcuOTk5NTg3OCwgMTEyLjAwOTUzOCwgMTAwLjBdLCBbMjguMCwgMTE2LjAsIDcyLjBdLCBbMjkuMDAwMDAwMSwgMTE5Ljk5OTk5OTksIDE3My4wXSwgWzMwLjA1NTE4LCAxMDcuODc0ODcxMiwgMTMyLjBdLCBbMzAuNTAwMDAwMSwgMTAyLjQ5OTk5OTksIDkwLjBdLCBbMzEuMTUxNzI1MjUsIDExMi44NzgzMjIyNDY1NjA0MywgMjcxNC4wXSwgWzMxLjIzMjI3NTgsIDEyMS40NjkyMDcxLCA2Ni4wXSwgWzMxLjg5NDM0MzE0OTk5OTk5NywgODcuMDc4MTM3MTI3MDY1MDksIDAuMF0sIFszMi4wLCAxMTcuMCwgMTA2LjBdLCBbMzMuMDAwMDAwMSwgMTE5Ljk5OTk5OTksIDcwLjBdLCBbMzQuMDAwMDAwMSwgMTEzLjk5OTk5OTksIDE2OC4wXSwgWzM1LjQwNzA5NTI1LCA5NS45NTIxMTU3MzI0MTk1NCwgNi4wXSwgWzM2LjAsIDEwOS4wLCAzNS4wXSwgWzM2LjAwMDAwMDEsIDExOC45OTk5OTk5LCA4Ny4wXSwgWzM3LjAsIDExMi4wLCAyMC4wXSwgWzM3LjAwMDAwMDEsIDEwNS45OTk5OTk5LCA3LjBdLCBbMzguMDAwMDAwMSwgMTAxLjk5OTk5OTksIDE5LjBdLCBbMzkuMDAwMDAwMSwgMTE2LjAsIDMzLjBdLCBbMzkuMTIzNTYzNSwgMTE3LjE5ODA3ODUsIDIzLjBdLCBbMzkuOTA2MjE3LCAxMTYuMzkxMjc1NywgODAuMF0sIFs0MC45OTc1MTk3LCAxMjIuOTk1NTQ2OSwgMjcuMF0sIFs0MS43NTc0NzY5LCA4Ny4xNjczODQyMzA0Njg5NywgNS4wXSwgWzQyLjk5OTUwMzIsIDEyNS45ODE2MDU0LCA2LjBdLCBbNDMuMjQ0MzI0MiwgMTE0LjMyNTE2NjQsIDExLjBdLCBbNDYuMzE0NDc1NCwgMTEuMDQ4MDI4OCwgMzMuMF0sIFs0Ny43NTExLCAxMjAuNzQwMSwgMS4wXSwgWzQ4LjAwMDAwNDcsIDEyNy45OTk5OTIsIDMwLjBdLCBbNDEuODc1NTYxNiwgLTg3LjYyNDQyMTIsIDEuMF0sIFs0MC4wNzk2NjA2LCAtODkuNDMzNzI4OCwgMS4wXSwgWzM0LjM5NTM0MiwgLTExMS43NjMyNzU1LCAxLjBdLCBbMzYuNzAxNDYzMSwgLTExOC43NTU5OTc0LCAyLjBdLCBbLTM2LjU5ODYwOTYsIDE0NC42NzgwMDUyLCAxLjBdLCBbLTMxLjg3NTk4MzUsIDE0Ny4yODY5NDkzLCA0LjBdLCBbNTAuMDAwNjc4LCAtODYuMDAwOTc3LCAxLjBdXSwgW1sxOS4yMDAwMDAxLCAxMDkuNTk5OTk5OSwgMzMuMF0sIFsyMi4xNzU3NjA1LCAxMTMuNTUxNDE0MiwgNi4wXSwgWzIyLjI3OTMyNzgsIDExNC4xNjI4MTMxLCA4LjBdLCBbMjMuMTM1NzY5NCwgMTEzLjE5ODI2ODgsIDE1MS4wXSwgWzIzLjk3MzkzNzQsIDEyMC45ODIwMTc5LCA1LjBdLCBbMjQuMCwgMTA5LjAsIDUxLjBdLCBbMjUuMCwgMTAyLjAsIDI2LjBdLCBbMjYuNTQ1MDAwMSwgMTE3Ljg0Mjc3OCwgNTkuMF0sIFsyNy4wLCAxMDcuMCwgOS4wXSwgWzI3Ljk5OTU4NzgsIDExMi4wMDk1MzgsIDEwMC4wXSwgWzI4LjAsIDExNi4wLCA3Mi4wXSwgWzI5LjAwMDAwMDEsIDExOS45OTk5OTk5LCAxNzMuMF0sIFszMC4wNTUxOCwgMTA3Ljg3NDg3MTIsIDEzMi4wXSwgWzMwLjUwMDAwMDEsIDEwMi40OTk5OTk5LCA5MC4wXSwgWzMxLjE1MTcyNTI1LCAxMTIuODc4MzIyMjQ2NTYwNDMsIDI3MTQuMF0sIFszMS4yMzIyNzU4LCAxMjEuNDY5MjA3MSwgNjYuMF0sIFszMS44OTQzNDMxNDk5OTk5OTcsIDg3LjA3ODEzNzEyNzA2NTA5LCAwLjBdLCBbMzIuMCwgMTE3LjAsIDEwNi4wXSwgWzMzLjAwMDAwMDEsIDExOS45OTk5OTk5LCA3MC4wXSwgWzM0LjAwMDAwMDEsIDExMy45OTk5OTk5LCAxNjguMF0sIFszNS40MDcwOTUyNSwgOTUuOTUyMTE1NzMyNDE5NTQsIDYuMF0sIFszNi4wLCAxMDkuMCwgMzUuMF0sIFszNi4wMDAwMDAxLCAxMTguOTk5OTk5OSwgODcuMF0sIFszNy4wLCAxMTIuMCwgMjAuMF0sIFszNy4wMDAwMDAxLCAxMDUuOTk5OTk5OSwgNy4wXSwgWzM4LjAwMDAwMDEsIDEwMS45OTk5OTk5LCAxOS4wXSwgWzM5LjAwMDAwMDEsIDExNi4wLCAzMy4wXSwgWzM5LjEyMzU2MzUsIDExNy4xOTgwNzg1LCAyMy4wXSwgWzM5LjkwNjIxNywgMTE2LjM5MTI3NTcsIDgwLjBdLCBbNDAuOTk3NTE5NywgMTIyLjk5NTU0NjksIDI3LjBdLCBbNDEuNzU3NDc2OSwgODcuMTY3Mzg0MjMwNDY4OTcsIDUuMF0sIFs0Mi45OTk1MDMyLCAxMjUuOTgxNjA1NCwgNi4wXSwgWzQzLjI0NDMyNDIsIDExNC4zMjUxNjY0LCAxMS4wXSwgWzQ2LjMxNDQ3NTQsIDExLjA0ODAyODgsIDMzLjBdLCBbNDcuNzUxMSwgMTIwLjc0MDEsIDEuMF0sIFs0OC4wMDAwMDQ3LCAxMjcuOTk5OTkyLCAzMC4wXSwgWzQxLjg3NTU2MTYsIC04Ny42MjQ0MjEyLCAxLjBdLCBbNDAuMDc5NjYwNiwgLTg5LjQzMzcyODgsIDEuMF0sIFszNC4zOTUzNDIsIC0xMTEuNzYzMjc1NSwgMS4wXSwgWzM2LjcwMTQ2MzEsIC0xMTguNzU1OTk3NCwgMi4wXSwgWy0zNi41OTg2MDk2LCAxNDQuNjc4MDA1MiwgMS4wXSwgWy0zMS44NzU5ODM1LCAxNDcuMjg2OTQ5MywgNC4wXSwgWzUwLjAwMDY3OCwgLTg2LjAwMDk3NywgMS4wXV0sIFtbMTkuMjAwMDAwMSwgMTA5LjU5OTk5OTksIDQzLjBdLCBbMjIuMTc1NzYwNSwgMTEzLjU1MTQxNDIsIDcuMF0sIFsyMi4yNzkzMjc4LCAxMTQuMTYyODEzMSwgOC4wXSwgWzIzLjEzNTc2OTQsIDExMy4xOTgyNjg4LCAyNDEuMF0sIFsyMy45NzM5Mzc0LCAxMjAuOTgyMDE3OSwgOC4wXSwgWzI0LjAsIDEwOS4wLCA1OC4wXSwgWzI1LjAsIDEwMi4wLCA0NC4wXSwgWzI2LjU0NTAwMDEsIDExNy44NDI3NzgsIDgyLjBdLCBbMjcuMCwgMTA3LjAsIDkuMF0sIFsyNy45OTk1ODc4LCAxMTIuMDA5NTM4LCAyMjEuMF0sIFsyOC4wLCAxMTYuMCwgMTA5LjBdLCBbMjkuMDAwMDAwMSwgMTE5Ljk5OTk5OTksIDI5Ni4wXSwgWzMwLjA1NTE4LCAxMDcuODc0ODcxMiwgMTQ3LjBdLCBbMzAuNTAwMDAwMSwgMTAyLjQ5OTk5OTksIDEwOC4wXSwgWzMxLjE1MTcyNTI1LCAxMTIuODc4MzIyMjQ2NTYwNDMsIDM1NTQuMF0sIFszMS4yMzIyNzU4LCAxMjEuNDY5MjA3MSwgODAuMF0sIFszMS44OTQzNDMxNDk5OTk5OTcsIDg3LjA3ODEzNzEyNzA2NTA5LCAwLjBdLCBbMzIuMCwgMTE3LjAsIDE1Mi4wXSwgWzMzLjAwMDAwMDEsIDExOS45OTk5OTk5LCA5OS4wXSwgWzM0LjAwMDAwMDEsIDExMy45OTk5OTk5LCAyMDYuMF0sIFszNS40MDcwOTUyNSwgOTUuOTUyMTE1NzMyNDE5NTQsIDYuMF0sIFszNi4wLCAxMDkuMCwgNTYuMF0sIFszNi4wMDAwMDAxLCAxMTguOTk5OTk5OSwgMTIxLjBdLCBbMzcuMCwgMTEyLjAsIDI3LjBdLCBbMzcuMDAwMDAwMSwgMTA1Ljk5OTk5OTksIDEyLjBdLCBbMzguMDAwMDAwMSwgMTAxLjk5OTk5OTksIDI0LjBdLCBbMzkuMDAwMDAwMSwgMTE2LjAsIDQ4LjBdLCBbMzkuMTIzNTYzNSwgMTE3LjE5ODA3ODUsIDI1LjBdLCBbMzkuOTA2MjE3LCAxMTYuMzkxMjc1NywgOTEuMF0sIFs0MC45OTc1MTk3LCAxMjIuOTk1NTQ2OSwgMzYuMF0sIFs0MS43NTc0NzY5LCA4Ny4xNjczODQyMzA0Njg5NywgMTMuMF0sIFs0Mi45OTk1MDMyLCAxMjUuOTgxNjA1NCwgOS4wXSwgWzQzLjI0NDMyNDIsIDExNC4zMjUxNjY0LCAxNi4wXSwgWzQ2LjMxNDQ3NTQsIDExLjA0ODAyODgsIDQ4LjBdLCBbNDcuNzUxMSwgMTIwLjc0MDEsIDEuMF0sIFs0OC4wMDAwMDQ3LCAxMjcuOTk5OTkyLCAzNy4wXSwgWzQxLjg3NTU2MTYsIC04Ny42MjQ0MjEyLCAxLjBdLCBbNDAuMDc5NjYwNiwgLTg5LjQzMzcyODgsIDEuMF0sIFszNC4zOTUzNDIsIC0xMTEuNzYzMjc1NSwgMS4wXSwgWzM2LjcwMTQ2MzEsIC0xMTguNzU1OTk3NCwgMi4wXSwgWy0zNi41OTg2MDk2LCAxNDQuNjc4MDA1MiwgMS4wXSwgWy0zMS44NzU5ODM1LCAxNDcuMjg2OTQ5MywgNC4wXSwgWzUwLjAwMDY3OCwgLTg2LjAwMDk3NywgMS4wXSwgWzU1LjAwMTI1MSwgLTEyNS4wMDI0NDEsIDEuMF1dLCBbWzE5LjIwMDAwMDEsIDEwOS41OTk5OTk5LCA0My4wXSwgWzIyLjE3NTc2MDUsIDExMy41NTE0MTQyLCA3LjBdLCBbMjIuMjc5MzI3OCwgMTE0LjE2MjgxMzEsIDEwLjBdLCBbMjMuMTM1NzY5NCwgMTEzLjE5ODI2ODgsIDMxMS4wXSwgWzIzLjk3MzkzNzQsIDEyMC45ODIwMTc5LCA4LjBdLCBbMjQuMCwgMTA5LjAsIDc4LjBdLCBbMjUuMCwgMTAyLjAsIDU1LjBdLCBbMjYuNTQ1MDAwMSwgMTE3Ljg0Mjc3OCwgMTAxLjBdLCBbMjcuMCwgMTA3LjAsIDEyLjBdLCBbMjcuOTk5NTg3OCwgMTEyLjAwOTUzOCwgMjc3LjBdLCBbMjguMCwgMTE2LjAsIDE2Mi4wXSwgWzI5LjAwMDAwMDEsIDExOS45OTk5OTk5LCA0MjguMF0sIFszMC4wNTUxOCwgMTA3Ljg3NDg3MTIsIDE2NS4wXSwgWzMwLjUwMDAwMDEsIDEwMi40OTk5OTk5LCAxNDIuMF0sIFszMS4xNTE3MjUyNSwgMTEyLjg3ODMyMjI0NjU2MDQzLCA0NTg2LjBdLCBbMzEuMjMyMjc1OCwgMTIxLjQ2OTIwNzEsIDEwMS4wXSwgWzMxLjg5NDM0MzE0OTk5OTk5NywgODcuMDc4MTM3MTI3MDY1MDksIDEuMF0sIFszMi4wLCAxMTcuMCwgMjAwLjBdLCBbMzMuMDAwMDAwMSwgMTE5Ljk5OTk5OTksIDEyOS4wXSwgWzM0LjAwMDAwMDEsIDExMy45OTk5OTk5LCAyNzguMF0sIFszNS40MDcwOTUyNSwgOTUuOTUyMTE1NzMyNDE5NTQsIDYuMF0sIFszNi4wLCAxMDkuMCwgNTYuMF0sIFszNi4wMDAwMDAxLCAxMTguOTk5OTk5OSwgMTQ1LjBdLCBbMzcuMCwgMTEyLjAsIDM1LjBdLCBbMzcuMDAwMDAwMSwgMTA1Ljk5OTk5OTksIDEyLjBdLCBbMzguMDAwMDAwMSwgMTAxLjk5OTk5OTksIDI2LjBdLCBbMzkuMDAwMDAwMSwgMTE2LjAsIDY1LjBdLCBbMzkuMTIzNTYzNSwgMTE3LjE5ODA3ODUsIDI3LjBdLCBbMzkuOTA2MjE3LCAxMTYuMzkxMjc1NywgMTExLjBdLCBbNDAuOTk3NTE5NywgMTIyLjk5NTU0NjksIDM5LjBdLCBbNDEuNzU3NDc2OSwgODcuMTY3Mzg0MjMwNDY4OTcsIDE0LjBdLCBbNDIuOTk5NTAzMiwgMTI1Ljk4MTYwNTQsIDE0LjBdLCBbNDMuMjQ0MzI0MiwgMTE0LjMyNTE2NjQsIDE2LjBdLCBbNDYuMzE0NDc1NCwgMTEuMDQ4MDI4OCwgNTcuMF0sIFs0Ny43NTExLCAxMjAuNzQwMSwgMS4wXSwgWzQ4LjAwMDAwNDcsIDEyNy45OTk5OTIsIDQzLjBdLCBbNDEuODc1NTYxNiwgLTg3LjYyNDQyMTIsIDEuMF0sIFs0MC4wNzk2NjA2LCAtODkuNDMzNzI4OCwgMS4wXSwgWzM0LjM5NTM0MiwgLTExMS43NjMyNzU1LCAxLjBdLCBbMzYuNzAxNDYzMSwgLTExOC43NTU5OTc0LCAyLjBdLCBbLTM2LjU5ODYwOTYsIDE0NC42NzgwMDUyLCAyLjBdLCBbLTMxLjg3NTk4MzUsIDE0Ny4yODY5NDkzLCA0LjBdLCBbNTAuMDAwNjc4LCAtODYuMDAwOTc3LCAyLjBdLCBbNTUuMDAxMjUxLCAtMTI1LjAwMjQ0MSwgMS4wXSwgWy0yMi4xNjQ2NzgyLCAxNDQuNTg0NDkwMywgMS4wXSwgWzQ4Ljk0Njc1NjIsIDExLjQwMzg3MTcsIDQuMF1dXSwKICAgICAgICAgICAgICAgIHtoZWF0bWFwT3B0aW9uczogewogICAgICAgICAgICAgICAgICAgICAgICByYWRpdXM6IDgsCiAgICAgICAgICAgICAgICAgICAgICAgIG1pbk9wYWNpdHk6IDAsCiAgICAgICAgICAgICAgICAgICAgICAgIG1heE9wYWNpdHk6IDAuNiwKICAgICAgICAgICAgICAgICAgICAgICAgc2NhbGVSYWRpdXM6IGZhbHNlLAogICAgICAgICAgICAgICAgICAgICAgICB1c2VMb2NhbEV4dHJlbWE6IGZhbHNlLAogICAgICAgICAgICAgICAgICAgICAgICBkZWZhdWx0V2VpZ2h0OiAxLAogICAgICAgICAgICAgICAgICAgICAgICAKICAgICAgICAgICAgICAgICAgICB9CiAgICAgICAgICAgICAgICB9KQogICAgICAgICAgICAgICAgLmFkZFRvKG1hcF85ZTRhNzE4YTRlMTQ0MzRhOWNlNTQ4NTYyZmYyOGM3MSk7CgogICAgICAgIAo8L3NjcmlwdD4=\" style=\"position:absolute;width:100%;height:100%;left:0;top:0;border:none !important;\" allowfullscreen webkitallowfullscreen mozallowfullscreen></iframe></div></div>"
      ],
      "text/plain": [
       "<folium.folium.Map at 0x11df5e990>"
      ]
     },
     "execution_count": 26,
     "metadata": {},
     "output_type": "execute_result"
    }
   ],
   "source": [
    "import folium.plugins as plugins\n",
    "\n",
    "start = [30.5,20.30]\n",
    "m = folium.Map(start, tiles='stamentoner', zoom_start=1.5)\n",
    "hm = plugins.HeatMapWithTime(df_day_list, index=index.tolist(), auto_play=True, radius=8, scale_radius=False)\n",
    "hm.add_to(m)\n",
    "\n",
    "m"
   ]
  },
  {
   "cell_type": "markdown",
   "metadata": {},
   "source": [
    "__Number of Cases reported on a country level__"
   ]
  },
  {
   "cell_type": "code",
   "execution_count": 28,
   "metadata": {},
   "outputs": [],
   "source": [
    "#Find the last date for which data is available at a location"
   ]
  },
  {
   "cell_type": "code",
   "execution_count": 29,
   "metadata": {},
   "outputs": [
    {
     "data": {
      "text/plain": [
       "array(['Mainland China', 'US', 'Germany', 'Canada', 'Hong Kong', 'Macau',\n",
       "       'Australia', 'Taiwan', 'Brazil', 'Cambodia', 'Finland', 'France',\n",
       "       'Ivory Coast', 'Japan', 'Malaysia', 'Mexico', 'Nepal',\n",
       "       'Philippines', 'Singapore', 'South Korea', 'Sri Lanka', 'Thailand',\n",
       "       'Vietnam'], dtype=object)"
      ]
     },
     "execution_count": 29,
     "metadata": {},
     "output_type": "execute_result"
    }
   ],
   "source": [
    "filtered_data.Country.unique()"
   ]
  },
  {
   "cell_type": "code",
   "execution_count": 30,
   "metadata": {},
   "outputs": [],
   "source": [
    "countries_spread = filtered_data.groupby(\"Country\")[\"Confirmed\"].sum().reset_index(name=\"case count\")"
   ]
  },
  {
   "cell_type": "code",
   "execution_count": 31,
   "metadata": {},
   "outputs": [],
   "source": [
    "countries_spread.sort_values(by=\"case count\", ascending=False, inplace=True)"
   ]
  },
  {
   "cell_type": "code",
   "execution_count": 32,
   "metadata": {},
   "outputs": [
    {
     "data": {
      "text/html": [
       "\n",
       "        <iframe\n",
       "            width=\"100%\"\n",
       "            height=\"525px\"\n",
       "            src=\"https://plot.ly/~sreejith_citizens/114.embed\"\n",
       "            frameborder=\"0\"\n",
       "            allowfullscreen\n",
       "        ></iframe>\n",
       "        "
      ],
      "text/plain": [
       "<IPython.lib.display.IFrame at 0x11f7920d0>"
      ]
     },
     "execution_count": 32,
     "metadata": {},
     "output_type": "execute_result"
    }
   ],
   "source": [
    "_data = [go.Bar(\n",
    "            x=countries_spread[\"Country\"],\n",
    "            y=countries_spread[\"case count\"]\n",
    "    )]\n",
    "\n",
    "\n",
    "\n",
    "layout = go.Layout(\n",
    "    title='Case Count by country',\n",
    "    \n",
    "    xaxis=dict(\n",
    "        title='Country',\n",
    "        titlefont=dict(\n",
    "            family='Lato',\n",
    "            size=18,\n",
    "            color='#7f7f7f'\n",
    "        )\n",
    "    ),\n",
    "    yaxis=dict(\n",
    "        title='Case Count',\n",
    "        titlefont=dict(\n",
    "            family='Lato',\n",
    "            size=18,\n",
    "            color='#7f7f7f'\n",
    "        )\n",
    "    )\n",
    ")\n",
    "\n",
    "fig = go.Figure(data=_data, layout=layout)\n",
    "py.iplot(fig, filename='price')"
   ]
  },
  {
   "cell_type": "markdown",
   "metadata": {},
   "source": [
    "__Deaths on a country level__"
   ]
  },
  {
   "cell_type": "code",
   "execution_count": 33,
   "metadata": {},
   "outputs": [],
   "source": [
    "deaths_grouped = filtered_data.groupby(\"Country\")[\"Deaths\"].sum().reset_index(name=\"Deaths\")\n",
    "deaths_grouped.sort_values(by=\"Deaths\", ascending=False, inplace=True)\n",
    "\n",
    "df = countries_spread.merge(deaths_grouped, how=\"left\", on=\"Country\")"
   ]
  },
  {
   "cell_type": "code",
   "execution_count": 34,
   "metadata": {},
   "outputs": [],
   "source": [
    "# Lets remove China since it makes the charts very tailed\n",
    "\n",
    "df_ = df[df.Country != \"Mainland China\"]"
   ]
  },
  {
   "cell_type": "code",
   "execution_count": 35,
   "metadata": {},
   "outputs": [
    {
     "name": "stderr",
     "output_type": "stream",
     "text": [
      "/Users/d107520/venvs/mllib/lib/python3.7/site-packages/ipykernel_launcher.py:1: SettingWithCopyWarning:\n",
      "\n",
      "\n",
      "A value is trying to be set on a copy of a slice from a DataFrame\n",
      "\n",
      "See the caveats in the documentation: http://pandas.pydata.org/pandas-docs/stable/user_guide/indexing.html#returning-a-view-versus-a-copy\n",
      "\n"
     ]
    }
   ],
   "source": [
    "df_.sort_values(by=\"case count\", ascending=False, inplace=True)"
   ]
  },
  {
   "cell_type": "code",
   "execution_count": 36,
   "metadata": {},
   "outputs": [
    {
     "data": {
      "image/png": "[encoded data removed]",
      "text/plain": [
       "<Figure size 1296x432 with 1 Axes>"
      ]
     },
     "metadata": {
      "needs_background": "light"
     },
     "output_type": "display_data"
    }
   ],
   "source": [
    "f1 = plt.figure(figsize=(18,6))\n",
    "\n",
    "ax1 = f1.add_subplot(111)\n",
    "ax1.bar(df_[\"Country\"], df_[\"case count\"], alpha=0.5, color=\"Orange\")\n",
    "ax1.bar(df_[\"Country\"], df_[\"Deaths\"], alpha=0.6, color=\"Red\")\n",
    "\n",
    "ax1.set_xticks(range(0,len(df_)))\n",
    "ax1.set_xticklabels(df_[\"Country\"], rotation=45)\n",
    "plt.show()"
   ]
  },
  {
   "cell_type": "markdown",
   "metadata": {},
   "source": [
    "__Number of reports in a time series in China (Growth Rate)__"
   ]
  },
  {
   "cell_type": "code",
   "execution_count": 37,
   "metadata": {},
   "outputs": [],
   "source": [
    "china_data = data[(data.Country == 'China') | \n",
    "                  (data.Country == 'Mainland China')]"
   ]
  },
  {
   "cell_type": "code",
   "execution_count": 38,
   "metadata": {},
   "outputs": [
    {
     "name": "stderr",
     "output_type": "stream",
     "text": [
      "/Users/d107520/venvs/mllib/lib/python3.7/site-packages/ipykernel_launcher.py:1: SettingWithCopyWarning:\n",
      "\n",
      "\n",
      "A value is trying to be set on a copy of a slice from a DataFrame.\n",
      "Try using .loc[row_indexer,col_indexer] = value instead\n",
      "\n",
      "See the caveats in the documentation: http://pandas.pydata.org/pandas-docs/stable/user_guide/indexing.html#returning-a-view-versus-a-copy\n",
      "\n"
     ]
    }
   ],
   "source": [
    "china_data['date'] = china_data['Last Update'].dt.date"
   ]
  },
  {
   "cell_type": "markdown",
   "metadata": {},
   "source": [
    "Grouping on a day level and counting"
   ]
  },
  {
   "cell_type": "code",
   "execution_count": 39,
   "metadata": {},
   "outputs": [],
   "source": [
    "china_data_grouped = pd.DataFrame(china_data.groupby(\"date\")[\"Confirmed\"].sum().reset_index(name=\"Count\"))"
   ]
  },
  {
   "cell_type": "code",
   "execution_count": 40,
   "metadata": {},
   "outputs": [],
   "source": [
    "# Confirmed cases overall\n",
    "data['date'] = data['Last Update'].dt.date\n",
    "data_grouped_by_date = pd.DataFrame(data.groupby(\"date\")[\"Confirmed\"].sum().reset_index(name=\"Count\"))"
   ]
  },
  {
   "cell_type": "code",
   "execution_count": 41,
   "metadata": {},
   "outputs": [
    {
     "name": "stderr",
     "output_type": "stream",
     "text": [
      "/Users/d107520/venvs/mllib/lib/python3.7/site-packages/plotly/graph_objs/_deprecations.py:385: DeprecationWarning:\n",
      "\n",
      "plotly.graph_objs.Line is deprecated.\n",
      "Please replace it with one of the following more specific types\n",
      "  - plotly.graph_objs.scatter.Line\n",
      "  - plotly.graph_objs.layout.shape.Line\n",
      "  - etc.\n",
      "\n",
      "\n"
     ]
    },
    {
     "data": {
      "text/html": [
       "\n",
       "        <iframe\n",
       "            width=\"100%\"\n",
       "            height=\"525px\"\n",
       "            src=\"https://plot.ly/~sreejith_citizens/116.embed\"\n",
       "            frameborder=\"0\"\n",
       "            allowfullscreen\n",
       "        ></iframe>\n",
       "        "
      ],
      "text/plain": [
       "<IPython.lib.display.IFrame at 0x122125350>"
      ]
     },
     "execution_count": 41,
     "metadata": {},
     "output_type": "execute_result"
    },
    {
     "data": {
      "text/plain": [
       "<Figure size 1296x432 with 0 Axes>"
      ]
     },
     "metadata": {},
     "output_type": "display_data"
    }
   ],
   "source": [
    "f1 = plt.figure(figsize=(18,6))\n",
    "\n",
    "# ax1 = f1.add_subplot(111)\n",
    "# ax1.plot(china_data_grouped[\"date\"], \n",
    "#         china_data_grouped[\"Count\"], color=\"Red\")\n",
    "# ax1.plot(data_grouped_by_date[\"date\"], \n",
    "#         data_grouped_by_date[\"Count\"], color=\"Blue\")\n",
    "# ax1.set_title(\"Confirmed case count in China\")\n",
    "# plt.show()\n",
    "\n",
    "\n",
    "\n",
    "_data = [go.Line(\n",
    "            x=china_data_grouped[\"date\"],\n",
    "            y=china_data_grouped[\"Count\"],\n",
    "            name=\"China\"\n",
    "    ), go.Line(\n",
    "            x=data_grouped_by_date[\"date\"],\n",
    "            y=data_grouped_by_date[\"Count\"], \n",
    "            name=\"World\")]\n",
    "\n",
    "\n",
    "\n",
    "layout = go.Layout(\n",
    "    title='Confirmed case count in China/Overall',\n",
    "    \n",
    "    xaxis=dict(\n",
    "        title='Date',\n",
    "        titlefont=dict(\n",
    "            family='Lato',\n",
    "            size=18,\n",
    "            color='#7f7f7f'\n",
    "        )\n",
    "    ),\n",
    "    yaxis=dict(\n",
    "        title='Case Count Growth',\n",
    "        titlefont=dict(\n",
    "            family='Lato',\n",
    "            size=18,\n",
    "            color='#7f7f7f'\n",
    "        )\n",
    "    )\n",
    ")\n",
    "\n",
    "fig = go.Figure(data=_data, layout=layout)\n",
    "py.iplot(fig, filename='date_grouped')"
   ]
  }
 ],
 "metadata": {
  "kernelspec": {
   "display_name": "mllib",
   "language": "python",
   "name": "mllib"
  },
  "language_info": {
   "codemirror_mode": {
    "name": "ipython",
    "version": 3
   },
   "file_extension": ".py",
   "mimetype": "text/x-python",
   "name": "python",
   "nbconvert_exporter": "python",
   "pygments_lexer": "ipython3",
   "version": "3.7.6"
  }
 },
 "nbformat": 4,
 "nbformat_minor": 4
}
