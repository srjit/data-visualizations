{
 "cells": [
  {
   "cell_type": "code",
   "execution_count": 1,
   "metadata": {},
   "outputs": [
    {
     "name": "stderr",
     "output_type": "stream",
     "text": [
      "/Users/d107520/venvs/mllib/lib/python3.7/site-packages/tqdm/std.py:658: FutureWarning: The Panel class is removed from pandas. Accessing it from the top-level namespace will also be removed in the next version\n",
      "  from pandas import Panel\n"
     ]
    }
   ],
   "source": [
    "import pandas as pd\n",
    "import matplotlib.pyplot as plt\n",
    "from tqdm import tqdm, tqdm_notebook\n",
    "tqdm.pandas(desc=\"my bar!\")\n",
    "\n",
    "import time"
   ]
  },
  {
   "cell_type": "code",
   "execution_count": 2,
   "metadata": {},
   "outputs": [],
   "source": [
    "import chart_studio.plotly as py\n",
    "import plotly.graph_objs as go\n",
    "import chart_studio\n",
    "\n",
    "chart_studio.tools.set_credentials_file(username='sreejith_citizens', api_key='QuqatPMwePJF2GdJL5SQ')"
   ]
  },
  {
   "cell_type": "code",
   "execution_count": 3,
   "metadata": {},
   "outputs": [],
   "source": [
    "#data = pd.read_csv(\"2019_nCoV_data.csv\")\n",
    "\n",
    "# from geopy.geocoders import Nominatim\n",
    "# geolocator = Nominatim(user_agent=\"corona app\")\n",
    "\n",
    "# def get_lat_long(city):\n",
    "#     time.sleep(10)\n",
    "#     location = geolocator.geocode(city)\n",
    "#     return (location.latitude, location.longitude)    \n",
    "\n",
    "# data3['lat_long'] = data3.progress_apply(lambda x: get_lat_long(x[\"Province/State\"]), axis=1)"
   ]
  },
  {
   "cell_type": "markdown",
   "metadata": {},
   "source": [
    "__Load the geotagged data__"
   ]
  },
  {
   "cell_type": "code",
   "execution_count": 4,
   "metadata": {},
   "outputs": [],
   "source": [
    "d1 = pd.read_csv(\"corona1.csv\")\n",
    "d2 = pd.read_csv(\"corona2.csv\")\n",
    "d3 = pd.read_csv(\"corona3.csv\")\n",
    "d4 = pd.read_csv(\"corona4.csv\")"
   ]
  },
  {
   "cell_type": "code",
   "execution_count": 5,
   "metadata": {},
   "outputs": [],
   "source": [
    "data = pd.concat([d1, d2, d3, d4])"
   ]
  },
  {
   "cell_type": "code",
   "execution_count": 6,
   "metadata": {},
   "outputs": [],
   "source": [
    "del data[\"Unnamed: 0\"]"
   ]
  },
  {
   "cell_type": "code",
   "execution_count": 7,
   "metadata": {},
   "outputs": [
    {
     "data": {
      "text/html": [
       "<div>\n",
       "<style scoped>\n",
       "    .dataframe tbody tr th:only-of-type {\n",
       "        vertical-align: middle;\n",
       "    }\n",
       "\n",
       "    .dataframe tbody tr th {\n",
       "        vertical-align: top;\n",
       "    }\n",
       "\n",
       "    .dataframe thead th {\n",
       "        text-align: right;\n",
       "    }\n",
       "</style>\n",
       "<table border=\"1\" class=\"dataframe\">\n",
       "  <thead>\n",
       "    <tr style=\"text-align: right;\">\n",
       "      <th></th>\n",
       "      <th>Sno</th>\n",
       "      <th>Province/State</th>\n",
       "      <th>Country</th>\n",
       "      <th>Last Update</th>\n",
       "      <th>Confirmed</th>\n",
       "      <th>Deaths</th>\n",
       "      <th>Recovered</th>\n",
       "      <th>lat_long</th>\n",
       "    </tr>\n",
       "  </thead>\n",
       "  <tbody>\n",
       "    <tr>\n",
       "      <th>0</th>\n",
       "      <td>1</td>\n",
       "      <td>Anhui</td>\n",
       "      <td>China</td>\n",
       "      <td>1/22/2020 12:00</td>\n",
       "      <td>1.0</td>\n",
       "      <td>0.0</td>\n",
       "      <td>0.0</td>\n",
       "      <td>(32.0, 117.0)</td>\n",
       "    </tr>\n",
       "    <tr>\n",
       "      <th>1</th>\n",
       "      <td>2</td>\n",
       "      <td>Beijing</td>\n",
       "      <td>China</td>\n",
       "      <td>1/22/2020 12:00</td>\n",
       "      <td>14.0</td>\n",
       "      <td>0.0</td>\n",
       "      <td>0.0</td>\n",
       "      <td>(39.906217, 116.3912757)</td>\n",
       "    </tr>\n",
       "    <tr>\n",
       "      <th>2</th>\n",
       "      <td>3</td>\n",
       "      <td>Chongqing</td>\n",
       "      <td>China</td>\n",
       "      <td>1/22/2020 12:00</td>\n",
       "      <td>6.0</td>\n",
       "      <td>0.0</td>\n",
       "      <td>0.0</td>\n",
       "      <td>(30.05518, 107.8748712)</td>\n",
       "    </tr>\n",
       "    <tr>\n",
       "      <th>3</th>\n",
       "      <td>4</td>\n",
       "      <td>Fujian</td>\n",
       "      <td>China</td>\n",
       "      <td>1/22/2020 12:00</td>\n",
       "      <td>1.0</td>\n",
       "      <td>0.0</td>\n",
       "      <td>0.0</td>\n",
       "      <td>(26.5450001, 117.842778)</td>\n",
       "    </tr>\n",
       "    <tr>\n",
       "      <th>4</th>\n",
       "      <td>5</td>\n",
       "      <td>Gansu</td>\n",
       "      <td>China</td>\n",
       "      <td>1/22/2020 12:00</td>\n",
       "      <td>0.0</td>\n",
       "      <td>0.0</td>\n",
       "      <td>0.0</td>\n",
       "      <td>(38.0000001, 101.9999999)</td>\n",
       "    </tr>\n",
       "  </tbody>\n",
       "</table>\n",
       "</div>"
      ],
      "text/plain": [
       "   Sno Province/State Country      Last Update  Confirmed  Deaths  Recovered  \\\n",
       "0    1          Anhui   China  1/22/2020 12:00        1.0     0.0        0.0   \n",
       "1    2        Beijing   China  1/22/2020 12:00       14.0     0.0        0.0   \n",
       "2    3      Chongqing   China  1/22/2020 12:00        6.0     0.0        0.0   \n",
       "3    4         Fujian   China  1/22/2020 12:00        1.0     0.0        0.0   \n",
       "4    5          Gansu   China  1/22/2020 12:00        0.0     0.0        0.0   \n",
       "\n",
       "                    lat_long  \n",
       "0              (32.0, 117.0)  \n",
       "1   (39.906217, 116.3912757)  \n",
       "2    (30.05518, 107.8748712)  \n",
       "3   (26.5450001, 117.842778)  \n",
       "4  (38.0000001, 101.9999999)  "
      ]
     },
     "execution_count": 7,
     "metadata": {},
     "output_type": "execute_result"
    }
   ],
   "source": [
    "data.head()"
   ]
  },
  {
   "cell_type": "markdown",
   "metadata": {},
   "source": [
    "__Some preprocessing__"
   ]
  },
  {
   "cell_type": "code",
   "execution_count": 8,
   "metadata": {},
   "outputs": [],
   "source": [
    "# convert the string date to date\n",
    "\n",
    "data[\"Last Update\"] = pd.to_datetime(data['Last Update'])"
   ]
  },
  {
   "cell_type": "code",
   "execution_count": 9,
   "metadata": {},
   "outputs": [],
   "source": [
    "df = data.groupby('Province/State')\n",
    "df = pd.DataFrame(df['Last Update'].max()).reset_index()\n",
    "last_update_data = df.merge(data, how='inner', on=['Province/State', 'Last Update'])"
   ]
  },
  {
   "cell_type": "code",
   "execution_count": 10,
   "metadata": {},
   "outputs": [
    {
     "data": {
      "text/html": [
       "<div>\n",
       "<style scoped>\n",
       "    .dataframe tbody tr th:only-of-type {\n",
       "        vertical-align: middle;\n",
       "    }\n",
       "\n",
       "    .dataframe tbody tr th {\n",
       "        vertical-align: top;\n",
       "    }\n",
       "\n",
       "    .dataframe thead th {\n",
       "        text-align: right;\n",
       "    }\n",
       "</style>\n",
       "<table border=\"1\" class=\"dataframe\">\n",
       "  <thead>\n",
       "    <tr style=\"text-align: right;\">\n",
       "      <th></th>\n",
       "      <th>Province/State</th>\n",
       "      <th>Last Update</th>\n",
       "      <th>Sno</th>\n",
       "      <th>Country</th>\n",
       "      <th>Confirmed</th>\n",
       "      <th>Deaths</th>\n",
       "      <th>Recovered</th>\n",
       "      <th>lat_long</th>\n",
       "    </tr>\n",
       "  </thead>\n",
       "  <tbody>\n",
       "    <tr>\n",
       "      <th>0</th>\n",
       "      <td>Anhui</td>\n",
       "      <td>2020-01-29 21:00:00</td>\n",
       "      <td>319</td>\n",
       "      <td>Mainland China</td>\n",
       "      <td>200.0</td>\n",
       "      <td>0.0</td>\n",
       "      <td>2.0</td>\n",
       "      <td>(32.0, 117.0)</td>\n",
       "    </tr>\n",
       "    <tr>\n",
       "      <th>1</th>\n",
       "      <td>Arizona</td>\n",
       "      <td>2020-01-29 21:00:00</td>\n",
       "      <td>351</td>\n",
       "      <td>US</td>\n",
       "      <td>1.0</td>\n",
       "      <td>0.0</td>\n",
       "      <td>0.0</td>\n",
       "      <td>(34.395342, -111.7632755)</td>\n",
       "    </tr>\n",
       "    <tr>\n",
       "      <th>2</th>\n",
       "      <td>Bavaria</td>\n",
       "      <td>2020-01-29 21:00:00</td>\n",
       "      <td>367</td>\n",
       "      <td>Germany</td>\n",
       "      <td>4.0</td>\n",
       "      <td>0.0</td>\n",
       "      <td>0.0</td>\n",
       "      <td>(48.9467562, 11.4038717)</td>\n",
       "    </tr>\n",
       "    <tr>\n",
       "      <th>3</th>\n",
       "      <td>Beijing</td>\n",
       "      <td>2020-01-29 21:00:00</td>\n",
       "      <td>325</td>\n",
       "      <td>Mainland China</td>\n",
       "      <td>111.0</td>\n",
       "      <td>1.0</td>\n",
       "      <td>4.0</td>\n",
       "      <td>(39.906217, 116.3912757)</td>\n",
       "    </tr>\n",
       "    <tr>\n",
       "      <th>4</th>\n",
       "      <td>British Columbia</td>\n",
       "      <td>2020-01-29 21:00:00</td>\n",
       "      <td>361</td>\n",
       "      <td>Canada</td>\n",
       "      <td>1.0</td>\n",
       "      <td>0.0</td>\n",
       "      <td>0.0</td>\n",
       "      <td>(55.001251, -125.002441)</td>\n",
       "    </tr>\n",
       "  </tbody>\n",
       "</table>\n",
       "</div>"
      ],
      "text/plain": [
       "     Province/State         Last Update  Sno         Country  Confirmed  \\\n",
       "0             Anhui 2020-01-29 21:00:00  319  Mainland China      200.0   \n",
       "1           Arizona 2020-01-29 21:00:00  351              US        1.0   \n",
       "2           Bavaria 2020-01-29 21:00:00  367         Germany        4.0   \n",
       "3           Beijing 2020-01-29 21:00:00  325  Mainland China      111.0   \n",
       "4  British Columbia 2020-01-29 21:00:00  361          Canada        1.0   \n",
       "\n",
       "   Deaths  Recovered                   lat_long  \n",
       "0     0.0        2.0              (32.0, 117.0)  \n",
       "1     0.0        0.0  (34.395342, -111.7632755)  \n",
       "2     0.0        0.0   (48.9467562, 11.4038717)  \n",
       "3     1.0        4.0   (39.906217, 116.3912757)  \n",
       "4     0.0        0.0   (55.001251, -125.002441)  "
      ]
     },
     "execution_count": 10,
     "metadata": {},
     "output_type": "execute_result"
    }
   ],
   "source": [
    "last_update_data.head()"
   ]
  },
  {
   "cell_type": "markdown",
   "metadata": {},
   "source": [
    "In some cases the provinces are not available (or are NaNs). Let's filter them out"
   ]
  },
  {
   "cell_type": "code",
   "execution_count": 11,
   "metadata": {},
   "outputs": [
    {
     "data": {
      "text/plain": [
       "66"
      ]
     },
     "execution_count": 11,
     "metadata": {},
     "output_type": "execute_result"
    }
   ],
   "source": [
    "nan_province_data = data[data[\"Province/State\"].isnull()]\n",
    "len(nan_province_data)"
   ]
  },
  {
   "cell_type": "code",
   "execution_count": 12,
   "metadata": {},
   "outputs": [
    {
     "data": {
      "text/plain": [
       "array(['Japan', 'Thailand', 'South Korea', 'Singapore', 'Philippines',\n",
       "       'Malaysia', 'Vietnam', 'Australia', 'Mexico', 'Brazil', 'France',\n",
       "       'Nepal', 'Cambodia', 'Sri Lanka', 'Ivory Coast', 'Finland'],\n",
       "      dtype=object)"
      ]
     },
     "execution_count": 12,
     "metadata": {},
     "output_type": "execute_result"
    }
   ],
   "source": [
    "nan_province_data.Country.unique()"
   ]
  },
  {
   "cell_type": "markdown",
   "metadata": {},
   "source": [
    "__Filter these on a country level last date__"
   ]
  },
  {
   "cell_type": "code",
   "execution_count": 13,
   "metadata": {},
   "outputs": [],
   "source": [
    "nandf = nan_province_data.groupby('Country')\n",
    "nandf = pd.DataFrame(nandf['Last Update'].max()).reset_index()\n",
    "nan_province_last_update_data = nandf.merge(nan_province_data, how='inner', on=['Country', 'Last Update'])"
   ]
  },
  {
   "cell_type": "markdown",
   "metadata": {},
   "source": [
    "Lets append this with the *last_update_data*  "
   ]
  },
  {
   "cell_type": "code",
   "execution_count": 14,
   "metadata": {},
   "outputs": [
    {
     "name": "stderr",
     "output_type": "stream",
     "text": [
      "/Users/d107520/venvs/mllib/lib/python3.7/site-packages/ipykernel_launcher.py:1: FutureWarning:\n",
      "\n",
      "Sorting because non-concatenation axis is not aligned. A future version\n",
      "of pandas will change to not sort by default.\n",
      "\n",
      "To accept the future behavior, pass 'sort=False'.\n",
      "\n",
      "To retain the current behavior and silence the warning, pass 'sort=True'.\n",
      "\n",
      "\n"
     ]
    }
   ],
   "source": [
    "filtered_data = pd.concat([last_update_data, nan_province_last_update_data])"
   ]
  },
  {
   "cell_type": "code",
   "execution_count": 15,
   "metadata": {},
   "outputs": [
    {
     "data": {
      "text/html": [
       "<div>\n",
       "<style scoped>\n",
       "    .dataframe tbody tr th:only-of-type {\n",
       "        vertical-align: middle;\n",
       "    }\n",
       "\n",
       "    .dataframe tbody tr th {\n",
       "        vertical-align: top;\n",
       "    }\n",
       "\n",
       "    .dataframe thead th {\n",
       "        text-align: right;\n",
       "    }\n",
       "</style>\n",
       "<table border=\"1\" class=\"dataframe\">\n",
       "  <thead>\n",
       "    <tr style=\"text-align: right;\">\n",
       "      <th></th>\n",
       "      <th>Confirmed</th>\n",
       "      <th>Country</th>\n",
       "      <th>Deaths</th>\n",
       "      <th>Last Update</th>\n",
       "      <th>Province/State</th>\n",
       "      <th>Recovered</th>\n",
       "      <th>Sno</th>\n",
       "      <th>lat_long</th>\n",
       "    </tr>\n",
       "  </thead>\n",
       "  <tbody>\n",
       "    <tr>\n",
       "      <th>0</th>\n",
       "      <td>200.0</td>\n",
       "      <td>Mainland China</td>\n",
       "      <td>0.0</td>\n",
       "      <td>2020-01-29 21:00:00</td>\n",
       "      <td>Anhui</td>\n",
       "      <td>2.0</td>\n",
       "      <td>319</td>\n",
       "      <td>(32.0, 117.0)</td>\n",
       "    </tr>\n",
       "    <tr>\n",
       "      <th>1</th>\n",
       "      <td>1.0</td>\n",
       "      <td>US</td>\n",
       "      <td>0.0</td>\n",
       "      <td>2020-01-29 21:00:00</td>\n",
       "      <td>Arizona</td>\n",
       "      <td>0.0</td>\n",
       "      <td>351</td>\n",
       "      <td>(34.395342, -111.7632755)</td>\n",
       "    </tr>\n",
       "    <tr>\n",
       "      <th>2</th>\n",
       "      <td>4.0</td>\n",
       "      <td>Germany</td>\n",
       "      <td>0.0</td>\n",
       "      <td>2020-01-29 21:00:00</td>\n",
       "      <td>Bavaria</td>\n",
       "      <td>0.0</td>\n",
       "      <td>367</td>\n",
       "      <td>(48.9467562, 11.4038717)</td>\n",
       "    </tr>\n",
       "    <tr>\n",
       "      <th>3</th>\n",
       "      <td>111.0</td>\n",
       "      <td>Mainland China</td>\n",
       "      <td>1.0</td>\n",
       "      <td>2020-01-29 21:00:00</td>\n",
       "      <td>Beijing</td>\n",
       "      <td>4.0</td>\n",
       "      <td>325</td>\n",
       "      <td>(39.906217, 116.3912757)</td>\n",
       "    </tr>\n",
       "    <tr>\n",
       "      <th>4</th>\n",
       "      <td>1.0</td>\n",
       "      <td>Canada</td>\n",
       "      <td>0.0</td>\n",
       "      <td>2020-01-29 21:00:00</td>\n",
       "      <td>British Columbia</td>\n",
       "      <td>0.0</td>\n",
       "      <td>361</td>\n",
       "      <td>(55.001251, -125.002441)</td>\n",
       "    </tr>\n",
       "    <tr>\n",
       "      <th>...</th>\n",
       "      <td>...</td>\n",
       "      <td>...</td>\n",
       "      <td>...</td>\n",
       "      <td>...</td>\n",
       "      <td>...</td>\n",
       "      <td>...</td>\n",
       "      <td>...</td>\n",
       "      <td>...</td>\n",
       "    </tr>\n",
       "    <tr>\n",
       "      <th>11</th>\n",
       "      <td>10.0</td>\n",
       "      <td>Singapore</td>\n",
       "      <td>0.0</td>\n",
       "      <td>2020-01-29 21:00:00</td>\n",
       "      <td>NaN</td>\n",
       "      <td>0.0</td>\n",
       "      <td>355</td>\n",
       "      <td>(46.3144754, 11.0480288)</td>\n",
       "    </tr>\n",
       "    <tr>\n",
       "      <th>12</th>\n",
       "      <td>4.0</td>\n",
       "      <td>South Korea</td>\n",
       "      <td>0.0</td>\n",
       "      <td>2020-01-29 21:00:00</td>\n",
       "      <td>NaN</td>\n",
       "      <td>0.0</td>\n",
       "      <td>354</td>\n",
       "      <td>(46.3144754, 11.0480288)</td>\n",
       "    </tr>\n",
       "    <tr>\n",
       "      <th>13</th>\n",
       "      <td>1.0</td>\n",
       "      <td>Sri Lanka</td>\n",
       "      <td>0.0</td>\n",
       "      <td>2020-01-29 21:00:00</td>\n",
       "      <td>NaN</td>\n",
       "      <td>0.0</td>\n",
       "      <td>363</td>\n",
       "      <td>(46.3144754, 11.0480288)</td>\n",
       "    </tr>\n",
       "    <tr>\n",
       "      <th>14</th>\n",
       "      <td>14.0</td>\n",
       "      <td>Thailand</td>\n",
       "      <td>0.0</td>\n",
       "      <td>2020-01-29 21:00:00</td>\n",
       "      <td>NaN</td>\n",
       "      <td>5.0</td>\n",
       "      <td>353</td>\n",
       "      <td>(46.3144754, 11.0480288)</td>\n",
       "    </tr>\n",
       "    <tr>\n",
       "      <th>15</th>\n",
       "      <td>2.0</td>\n",
       "      <td>Vietnam</td>\n",
       "      <td>0.0</td>\n",
       "      <td>2020-01-29 21:00:00</td>\n",
       "      <td>NaN</td>\n",
       "      <td>0.0</td>\n",
       "      <td>356</td>\n",
       "      <td>(46.3144754, 11.0480288)</td>\n",
       "    </tr>\n",
       "  </tbody>\n",
       "</table>\n",
       "<p>61 rows × 8 columns</p>\n",
       "</div>"
      ],
      "text/plain": [
       "    Confirmed         Country  Deaths         Last Update    Province/State  \\\n",
       "0       200.0  Mainland China     0.0 2020-01-29 21:00:00             Anhui   \n",
       "1         1.0              US     0.0 2020-01-29 21:00:00           Arizona   \n",
       "2         4.0         Germany     0.0 2020-01-29 21:00:00           Bavaria   \n",
       "3       111.0  Mainland China     1.0 2020-01-29 21:00:00           Beijing   \n",
       "4         1.0          Canada     0.0 2020-01-29 21:00:00  British Columbia   \n",
       "..        ...             ...     ...                 ...               ...   \n",
       "11       10.0       Singapore     0.0 2020-01-29 21:00:00               NaN   \n",
       "12        4.0     South Korea     0.0 2020-01-29 21:00:00               NaN   \n",
       "13        1.0       Sri Lanka     0.0 2020-01-29 21:00:00               NaN   \n",
       "14       14.0        Thailand     0.0 2020-01-29 21:00:00               NaN   \n",
       "15        2.0         Vietnam     0.0 2020-01-29 21:00:00               NaN   \n",
       "\n",
       "    Recovered  Sno                   lat_long  \n",
       "0         2.0  319              (32.0, 117.0)  \n",
       "1         0.0  351  (34.395342, -111.7632755)  \n",
       "2         0.0  367   (48.9467562, 11.4038717)  \n",
       "3         4.0  325   (39.906217, 116.3912757)  \n",
       "4         0.0  361   (55.001251, -125.002441)  \n",
       "..        ...  ...                        ...  \n",
       "11        0.0  355   (46.3144754, 11.0480288)  \n",
       "12        0.0  354   (46.3144754, 11.0480288)  \n",
       "13        0.0  363   (46.3144754, 11.0480288)  \n",
       "14        5.0  353   (46.3144754, 11.0480288)  \n",
       "15        0.0  356   (46.3144754, 11.0480288)  \n",
       "\n",
       "[61 rows x 8 columns]"
      ]
     },
     "execution_count": 15,
     "metadata": {},
     "output_type": "execute_result"
    }
   ],
   "source": [
    "filtered_data"
   ]
  },
  {
   "cell_type": "markdown",
   "metadata": {},
   "source": [
    "__Heatmap of reports__"
   ]
  },
  {
   "cell_type": "code",
   "execution_count": 16,
   "metadata": {},
   "outputs": [],
   "source": [
    "from ast import literal_eval\n",
    "\n",
    "filtered_data[\"co_ord\"] = filtered_data['lat_long'].apply(lambda x: literal_eval(x))\n",
    "\n",
    "def make_heatmap_data(x, y):\n",
    "    return (x[0], x[1], y)\n",
    "\n",
    "filtered_data[\"heatmap_data\"] = filtered_data.apply(lambda x: \\\n",
    "                                                          make_heatmap_data(x['co_ord'], x['Confirmed']), axis=1)"
   ]
  },
  {
   "cell_type": "code",
   "execution_count": 17,
   "metadata": {},
   "outputs": [
    {
     "data": {
      "text/html": [
       "<div style=\"width:100%;\"><div style=\"position:relative;width:100%;height:0;padding-bottom:60%;\"><iframe src=\"data:text/html;charset=utf-8;base64,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\" style=\"position:absolute;width:100%;height:100%;left:0;top:0;border:none !important;\" allowfullscreen webkitallowfullscreen mozallowfullscreen></iframe></div></div>"
      ],
      "text/plain": [
       "<folium.folium.Map at 0x11a9dc390>"
      ]
     },
     "execution_count": 17,
     "metadata": {},
     "output_type": "execute_result"
    }
   ],
   "source": [
    "import folium\n",
    "from folium.plugins import HeatMap\n",
    "\n",
    "start = [30.5,114.30]\n",
    "\n",
    "m = folium.Map(width=950,height=700, location=start, zoom_start=3)\n",
    "\n",
    "locations = filtered_data[\"heatmap_data\"]\n",
    "HeatMap(locations).add_to(m)\n",
    "\n",
    "m"
   ]
  },
  {
   "cell_type": "markdown",
   "metadata": {},
   "source": [
    "__Number of Cases reported on a country level__"
   ]
  },
  {
   "cell_type": "code",
   "execution_count": 18,
   "metadata": {},
   "outputs": [],
   "source": [
    "#Find the last date for which data is available at a location"
   ]
  },
  {
   "cell_type": "code",
   "execution_count": 19,
   "metadata": {},
   "outputs": [
    {
     "data": {
      "text/plain": [
       "array(['Mainland China', 'US', 'Germany', 'Canada', 'Hong Kong', 'Macau',\n",
       "       'Australia', 'Taiwan', 'Brazil', 'Cambodia', 'Finland', 'France',\n",
       "       'Ivory Coast', 'Japan', 'Malaysia', 'Mexico', 'Nepal',\n",
       "       'Philippines', 'Singapore', 'South Korea', 'Sri Lanka', 'Thailand',\n",
       "       'Vietnam'], dtype=object)"
      ]
     },
     "execution_count": 19,
     "metadata": {},
     "output_type": "execute_result"
    }
   ],
   "source": [
    "filtered_data.Country.unique()"
   ]
  },
  {
   "cell_type": "code",
   "execution_count": 20,
   "metadata": {},
   "outputs": [],
   "source": [
    "countries_spread = filtered_data.groupby(\"Country\")[\"Confirmed\"].sum().reset_index(name=\"case count\")"
   ]
  },
  {
   "cell_type": "code",
   "execution_count": 21,
   "metadata": {},
   "outputs": [],
   "source": [
    "countries_spread.sort_values(by=\"case count\", ascending=False, inplace=True)"
   ]
  },
  {
   "cell_type": "code",
   "execution_count": null,
   "metadata": {},
   "outputs": [],
   "source": [
    "_data = [go.Bar(\n",
    "            x=countries_spread[\"Country\"],\n",
    "            y=countries_spread[\"case count\"]\n",
    "    )]\n",
    "\n",
    "\n",
    "\n",
    "layout = go.Layout(\n",
    "    title='Case Count by country',\n",
    "    \n",
    "    xaxis=dict(\n",
    "        title='Country',\n",
    "        titlefont=dict(\n",
    "            family='Lato',\n",
    "            size=18,\n",
    "            color='#7f7f7f'\n",
    "        )\n",
    "    ),\n",
    "    yaxis=dict(\n",
    "        title='Case Count',\n",
    "        titlefont=dict(\n",
    "            family='Lato',\n",
    "            size=18,\n",
    "            color='#7f7f7f'\n",
    "        )\n",
    "    )\n",
    ")\n",
    "\n",
    "fig = go.Figure(data=_data, layout=layout)\n",
    "py.iplot(fig, filename='price')"
   ]
  },
  {
   "cell_type": "markdown",
   "metadata": {},
   "source": [
    "__Deaths on a country level__"
   ]
  },
  {
   "cell_type": "code",
   "execution_count": null,
   "metadata": {},
   "outputs": [],
   "source": [
    "deaths_grouped = filtered_data.groupby(\"Country\")[\"Deaths\"].sum().reset_index(name=\"Deaths\")\n",
    "deaths_grouped.sort_values(by=\"Deaths\", ascending=False, inplace=True)\n",
    "\n",
    "df = countries_spread.merge(deaths_grouped, how=\"left\", on=\"Country\")"
   ]
  },
  {
   "cell_type": "code",
   "execution_count": null,
   "metadata": {},
   "outputs": [],
   "source": [
    "# Lets remove China since it makes the charts very tailed\n",
    "\n",
    "df_ = df[df.Country != \"Mainland China\"]"
   ]
  },
  {
   "cell_type": "code",
   "execution_count": null,
   "metadata": {},
   "outputs": [],
   "source": [
    "df_.sort_values(by=\"case count\", ascending=False, inplace=True)"
   ]
  },
  {
   "cell_type": "code",
   "execution_count": null,
   "metadata": {},
   "outputs": [],
   "source": [
    "f1 = plt.figure(figsize=(18,6))\n",
    "\n",
    "ax1 = f1.add_subplot(111)\n",
    "ax1.bar(df_[\"Country\"], df_[\"case count\"], alpha=0.5, color=\"Orange\")\n",
    "ax1.bar(df_[\"Country\"], df_[\"Deaths\"], alpha=0.6, color=\"Red\")\n",
    "\n",
    "ax1.set_xticks(range(0,len(df_)))\n",
    "ax1.set_xticklabels(df_[\"Country\"], rotation=45)\n",
    "plt.show()"
   ]
  },
  {
   "cell_type": "markdown",
   "metadata": {},
   "source": [
    "__Number of reports in a time series in China (Growth Rate)__"
   ]
  },
  {
   "cell_type": "code",
   "execution_count": null,
   "metadata": {},
   "outputs": [],
   "source": [
    "china_data = data[(data.Country == 'China') | \n",
    "                  (data.Country == 'Mainland China')]"
   ]
  },
  {
   "cell_type": "code",
   "execution_count": null,
   "metadata": {},
   "outputs": [],
   "source": [
    "china_data['date'] = china_data['Last Update'].dt.date"
   ]
  },
  {
   "cell_type": "markdown",
   "metadata": {},
   "source": [
    "Grouping on a day level and counting"
   ]
  },
  {
   "cell_type": "code",
   "execution_count": null,
   "metadata": {},
   "outputs": [],
   "source": [
    "china_data_grouped = pd.DataFrame(china_data.groupby(\"date\")[\"Confirmed\"].sum().reset_index(name=\"Count\"))"
   ]
  },
  {
   "cell_type": "code",
   "execution_count": null,
   "metadata": {},
   "outputs": [],
   "source": [
    "# Confirmed cases overall\n",
    "data['date'] = data['Last Update'].dt.date\n",
    "data_grouped_by_date = pd.DataFrame(data.groupby(\"date\")[\"Confirmed\"].sum().reset_index(name=\"Count\"))"
   ]
  },
  {
   "cell_type": "code",
   "execution_count": null,
   "metadata": {},
   "outputs": [],
   "source": [
    "f1 = plt.figure(figsize=(18,6))\n",
    "\n",
    "# ax1 = f1.add_subplot(111)\n",
    "# ax1.plot(china_data_grouped[\"date\"], \n",
    "#         china_data_grouped[\"Count\"], color=\"Red\")\n",
    "# ax1.plot(data_grouped_by_date[\"date\"], \n",
    "#         data_grouped_by_date[\"Count\"], color=\"Blue\")\n",
    "# ax1.set_title(\"Confirmed case count in China\")\n",
    "# plt.show()\n",
    "\n",
    "\n",
    "\n",
    "_data = [go.Line(\n",
    "            x=china_data_grouped[\"date\"],\n",
    "            y=china_data_grouped[\"Count\"],\n",
    "            name=\"China\"\n",
    "    ), go.Line(\n",
    "            x=data_grouped_by_date[\"date\"],\n",
    "            y=data_grouped_by_date[\"Count\"], \n",
    "            name=\"World\")]\n",
    "\n",
    "\n",
    "\n",
    "layout = go.Layout(\n",
    "    title='Confirmed case count in China/Overall',\n",
    "    \n",
    "    xaxis=dict(\n",
    "        title='Date',\n",
    "        titlefont=dict(\n",
    "            family='Lato',\n",
    "            size=18,\n",
    "            color='#7f7f7f'\n",
    "        )\n",
    "    ),\n",
    "    yaxis=dict(\n",
    "        title='Case Count Growth',\n",
    "        titlefont=dict(\n",
    "            family='Lato',\n",
    "            size=18,\n",
    "            color='#7f7f7f'\n",
    "        )\n",
    "    )\n",
    ")\n",
    "\n",
    "fig = go.Figure(data=_data, layout=layout)\n",
    "py.iplot(fig, filename='date_grouped')"
   ]
  },
  {
   "cell_type": "code",
   "execution_count": null,
   "metadata": {},
   "outputs": [],
   "source": []
  },
  {
   "cell_type": "code",
   "execution_count": null,
   "metadata": {},
   "outputs": [],
   "source": []
  },
  {
   "cell_type": "code",
   "execution_count": null,
   "metadata": {},
   "outputs": [],
   "source": []
  }
 ],
 "metadata": {
  "kernelspec": {
   "display_name": "mllib",
   "language": "python",
   "name": "mllib"
  },
  "language_info": {
   "codemirror_mode": {
    "name": "ipython",
    "version": 3
   },
   "file_extension": ".py",
   "mimetype": "text/x-python",
   "name": "python",
   "nbconvert_exporter": "python",
   "pygments_lexer": "ipython3",
   "version": "3.7.6"
  }
 },
 "nbformat": 4,
 "nbformat_minor": 4
}
