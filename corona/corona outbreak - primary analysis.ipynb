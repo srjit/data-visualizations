{
 "cells": [
  {
   "cell_type": "code",
   "execution_count": 1,
   "metadata": {},
   "outputs": [
    {
     "name": "stderr",
     "output_type": "stream",
     "text": [
      "/Users/d107520/venvs/mllib/lib/python3.7/site-packages/tqdm/std.py:658: FutureWarning: The Panel class is removed from pandas. Accessing it from the top-level namespace will also be removed in the next version\n",
      "  from pandas import Panel\n"
     ]
    }
   ],
   "source": [
    "import pandas as pd\n",
    "import matplotlib.pyplot as plt\n",
    "from tqdm import tqdm, tqdm_notebook\n",
    "tqdm.pandas(desc=\"my bar!\")\n",
    "\n",
    "import time"
   ]
  },
  {
   "cell_type": "code",
   "execution_count": 2,
   "metadata": {},
   "outputs": [],
   "source": [
    "import chart_studio.plotly as py\n",
    "import plotly.graph_objs as go\n",
    "import chart_studio\n",
    "\n",
    "chart_studio.tools.set_credentials_file(username='sreejith_citizens', api_key='QuqatPMwePJF2GdJL5SQ')"
   ]
  },
  {
   "cell_type": "code",
   "execution_count": 3,
   "metadata": {},
   "outputs": [],
   "source": [
    "#data = pd.read_csv(\"2019_nCoV_data.csv\")\n",
    "\n",
    "# from geopy.geocoders import Nominatim\n",
    "# geolocator = Nominatim(user_agent=\"corona app\")\n",
    "\n",
    "# def get_lat_long(city):\n",
    "#     time.sleep(10)\n",
    "#     location = geolocator.geocode(city)\n",
    "#     return (location.latitude, location.longitude)    \n",
    "\n",
    "# data3['lat_long'] = data3.progress_apply(lambda x: get_lat_long(x[\"Province/State\"]), axis=1)"
   ]
  },
  {
   "cell_type": "markdown",
   "metadata": {},
   "source": [
    "__Load the geotagged data__"
   ]
  },
  {
   "cell_type": "code",
   "execution_count": 4,
   "metadata": {},
   "outputs": [],
   "source": [
    "d1 = pd.read_csv(\"corona1.csv\")\n",
    "d2 = pd.read_csv(\"corona2.csv\")\n",
    "d3 = pd.read_csv(\"corona3.csv\")\n",
    "d4 = pd.read_csv(\"corona4.csv\")"
   ]
  },
  {
   "cell_type": "code",
   "execution_count": 5,
   "metadata": {},
   "outputs": [],
   "source": [
    "data = pd.concat([d1, d2, d3, d4])"
   ]
  },
  {
   "cell_type": "code",
   "execution_count": 6,
   "metadata": {},
   "outputs": [],
   "source": [
    "del data[\"Unnamed: 0\"]"
   ]
  },
  {
   "cell_type": "code",
   "execution_count": 7,
   "metadata": {},
   "outputs": [
    {
     "data": {
      "text/html": [
       "<div>\n",
       "<style scoped>\n",
       "    .dataframe tbody tr th:only-of-type {\n",
       "        vertical-align: middle;\n",
       "    }\n",
       "\n",
       "    .dataframe tbody tr th {\n",
       "        vertical-align: top;\n",
       "    }\n",
       "\n",
       "    .dataframe thead th {\n",
       "        text-align: right;\n",
       "    }\n",
       "</style>\n",
       "<table border=\"1\" class=\"dataframe\">\n",
       "  <thead>\n",
       "    <tr style=\"text-align: right;\">\n",
       "      <th></th>\n",
       "      <th>Sno</th>\n",
       "      <th>Province/State</th>\n",
       "      <th>Country</th>\n",
       "      <th>Last Update</th>\n",
       "      <th>Confirmed</th>\n",
       "      <th>Deaths</th>\n",
       "      <th>Recovered</th>\n",
       "      <th>lat_long</th>\n",
       "    </tr>\n",
       "  </thead>\n",
       "  <tbody>\n",
       "    <tr>\n",
       "      <th>0</th>\n",
       "      <td>1</td>\n",
       "      <td>Anhui</td>\n",
       "      <td>China</td>\n",
       "      <td>1/22/2020 12:00</td>\n",
       "      <td>1.0</td>\n",
       "      <td>0.0</td>\n",
       "      <td>0.0</td>\n",
       "      <td>(32.0, 117.0)</td>\n",
       "    </tr>\n",
       "    <tr>\n",
       "      <th>1</th>\n",
       "      <td>2</td>\n",
       "      <td>Beijing</td>\n",
       "      <td>China</td>\n",
       "      <td>1/22/2020 12:00</td>\n",
       "      <td>14.0</td>\n",
       "      <td>0.0</td>\n",
       "      <td>0.0</td>\n",
       "      <td>(39.906217, 116.3912757)</td>\n",
       "    </tr>\n",
       "    <tr>\n",
       "      <th>2</th>\n",
       "      <td>3</td>\n",
       "      <td>Chongqing</td>\n",
       "      <td>China</td>\n",
       "      <td>1/22/2020 12:00</td>\n",
       "      <td>6.0</td>\n",
       "      <td>0.0</td>\n",
       "      <td>0.0</td>\n",
       "      <td>(30.05518, 107.8748712)</td>\n",
       "    </tr>\n",
       "    <tr>\n",
       "      <th>3</th>\n",
       "      <td>4</td>\n",
       "      <td>Fujian</td>\n",
       "      <td>China</td>\n",
       "      <td>1/22/2020 12:00</td>\n",
       "      <td>1.0</td>\n",
       "      <td>0.0</td>\n",
       "      <td>0.0</td>\n",
       "      <td>(26.5450001, 117.842778)</td>\n",
       "    </tr>\n",
       "    <tr>\n",
       "      <th>4</th>\n",
       "      <td>5</td>\n",
       "      <td>Gansu</td>\n",
       "      <td>China</td>\n",
       "      <td>1/22/2020 12:00</td>\n",
       "      <td>0.0</td>\n",
       "      <td>0.0</td>\n",
       "      <td>0.0</td>\n",
       "      <td>(38.0000001, 101.9999999)</td>\n",
       "    </tr>\n",
       "  </tbody>\n",
       "</table>\n",
       "</div>"
      ],
      "text/plain": [
       "   Sno Province/State Country      Last Update  Confirmed  Deaths  Recovered  \\\n",
       "0    1          Anhui   China  1/22/2020 12:00        1.0     0.0        0.0   \n",
       "1    2        Beijing   China  1/22/2020 12:00       14.0     0.0        0.0   \n",
       "2    3      Chongqing   China  1/22/2020 12:00        6.0     0.0        0.0   \n",
       "3    4         Fujian   China  1/22/2020 12:00        1.0     0.0        0.0   \n",
       "4    5          Gansu   China  1/22/2020 12:00        0.0     0.0        0.0   \n",
       "\n",
       "                    lat_long  \n",
       "0              (32.0, 117.0)  \n",
       "1   (39.906217, 116.3912757)  \n",
       "2    (30.05518, 107.8748712)  \n",
       "3   (26.5450001, 117.842778)  \n",
       "4  (38.0000001, 101.9999999)  "
      ]
     },
     "execution_count": 7,
     "metadata": {},
     "output_type": "execute_result"
    }
   ],
   "source": [
    "data.head()"
   ]
  },
  {
   "cell_type": "markdown",
   "metadata": {},
   "source": [
    "__Some preprocessing__"
   ]
  },
  {
   "cell_type": "code",
   "execution_count": 8,
   "metadata": {},
   "outputs": [],
   "source": [
    "# convert the string date to date\n",
    "\n",
    "data[\"Last Update\"] = pd.to_datetime(data['Last Update'])"
   ]
  },
  {
   "cell_type": "code",
   "execution_count": 9,
   "metadata": {},
   "outputs": [],
   "source": [
    "df = data.groupby('Province/State')\n",
    "df = pd.DataFrame(df['Last Update'].max()).reset_index()\n",
    "last_update_data = df.merge(data, how='inner', on=['Province/State', 'Last Update'])"
   ]
  },
  {
   "cell_type": "code",
   "execution_count": 10,
   "metadata": {},
   "outputs": [
    {
     "data": {
      "text/html": [
       "<div>\n",
       "<style scoped>\n",
       "    .dataframe tbody tr th:only-of-type {\n",
       "        vertical-align: middle;\n",
       "    }\n",
       "\n",
       "    .dataframe tbody tr th {\n",
       "        vertical-align: top;\n",
       "    }\n",
       "\n",
       "    .dataframe thead th {\n",
       "        text-align: right;\n",
       "    }\n",
       "</style>\n",
       "<table border=\"1\" class=\"dataframe\">\n",
       "  <thead>\n",
       "    <tr style=\"text-align: right;\">\n",
       "      <th></th>\n",
       "      <th>Province/State</th>\n",
       "      <th>Last Update</th>\n",
       "      <th>Sno</th>\n",
       "      <th>Country</th>\n",
       "      <th>Confirmed</th>\n",
       "      <th>Deaths</th>\n",
       "      <th>Recovered</th>\n",
       "      <th>lat_long</th>\n",
       "    </tr>\n",
       "  </thead>\n",
       "  <tbody>\n",
       "    <tr>\n",
       "      <th>0</th>\n",
       "      <td>Anhui</td>\n",
       "      <td>2020-01-29 21:00:00</td>\n",
       "      <td>319</td>\n",
       "      <td>Mainland China</td>\n",
       "      <td>200.0</td>\n",
       "      <td>0.0</td>\n",
       "      <td>2.0</td>\n",
       "      <td>(32.0, 117.0)</td>\n",
       "    </tr>\n",
       "    <tr>\n",
       "      <th>1</th>\n",
       "      <td>Arizona</td>\n",
       "      <td>2020-01-29 21:00:00</td>\n",
       "      <td>351</td>\n",
       "      <td>US</td>\n",
       "      <td>1.0</td>\n",
       "      <td>0.0</td>\n",
       "      <td>0.0</td>\n",
       "      <td>(34.395342, -111.7632755)</td>\n",
       "    </tr>\n",
       "    <tr>\n",
       "      <th>2</th>\n",
       "      <td>Bavaria</td>\n",
       "      <td>2020-01-29 21:00:00</td>\n",
       "      <td>367</td>\n",
       "      <td>Germany</td>\n",
       "      <td>4.0</td>\n",
       "      <td>0.0</td>\n",
       "      <td>0.0</td>\n",
       "      <td>(48.9467562, 11.4038717)</td>\n",
       "    </tr>\n",
       "    <tr>\n",
       "      <th>3</th>\n",
       "      <td>Beijing</td>\n",
       "      <td>2020-01-29 21:00:00</td>\n",
       "      <td>325</td>\n",
       "      <td>Mainland China</td>\n",
       "      <td>111.0</td>\n",
       "      <td>1.0</td>\n",
       "      <td>4.0</td>\n",
       "      <td>(39.906217, 116.3912757)</td>\n",
       "    </tr>\n",
       "    <tr>\n",
       "      <th>4</th>\n",
       "      <td>British Columbia</td>\n",
       "      <td>2020-01-29 21:00:00</td>\n",
       "      <td>361</td>\n",
       "      <td>Canada</td>\n",
       "      <td>1.0</td>\n",
       "      <td>0.0</td>\n",
       "      <td>0.0</td>\n",
       "      <td>(55.001251, -125.002441)</td>\n",
       "    </tr>\n",
       "  </tbody>\n",
       "</table>\n",
       "</div>"
      ],
      "text/plain": [
       "     Province/State         Last Update  Sno         Country  Confirmed  \\\n",
       "0             Anhui 2020-01-29 21:00:00  319  Mainland China      200.0   \n",
       "1           Arizona 2020-01-29 21:00:00  351              US        1.0   \n",
       "2           Bavaria 2020-01-29 21:00:00  367         Germany        4.0   \n",
       "3           Beijing 2020-01-29 21:00:00  325  Mainland China      111.0   \n",
       "4  British Columbia 2020-01-29 21:00:00  361          Canada        1.0   \n",
       "\n",
       "   Deaths  Recovered                   lat_long  \n",
       "0     0.0        2.0              (32.0, 117.0)  \n",
       "1     0.0        0.0  (34.395342, -111.7632755)  \n",
       "2     0.0        0.0   (48.9467562, 11.4038717)  \n",
       "3     1.0        4.0   (39.906217, 116.3912757)  \n",
       "4     0.0        0.0   (55.001251, -125.002441)  "
      ]
     },
     "execution_count": 10,
     "metadata": {},
     "output_type": "execute_result"
    }
   ],
   "source": [
    "last_update_data.head()"
   ]
  },
  {
   "cell_type": "markdown",
   "metadata": {},
   "source": [
    "In some cases the provinces are not available (or are NaNs). Let's filter them out"
   ]
  },
  {
   "cell_type": "code",
   "execution_count": 11,
   "metadata": {},
   "outputs": [
    {
     "data": {
      "text/plain": [
       "66"
      ]
     },
     "execution_count": 11,
     "metadata": {},
     "output_type": "execute_result"
    }
   ],
   "source": [
    "nan_province_data = data[data[\"Province/State\"].isnull()]\n",
    "len(nan_province_data)"
   ]
  },
  {
   "cell_type": "code",
   "execution_count": 12,
   "metadata": {},
   "outputs": [
    {
     "data": {
      "text/plain": [
       "array(['Japan', 'Thailand', 'South Korea', 'Singapore', 'Philippines',\n",
       "       'Malaysia', 'Vietnam', 'Australia', 'Mexico', 'Brazil', 'France',\n",
       "       'Nepal', 'Cambodia', 'Sri Lanka', 'Ivory Coast', 'Finland'],\n",
       "      dtype=object)"
      ]
     },
     "execution_count": 12,
     "metadata": {},
     "output_type": "execute_result"
    }
   ],
   "source": [
    "nan_province_data.Country.unique()"
   ]
  },
  {
   "cell_type": "markdown",
   "metadata": {},
   "source": [
    "__Filter these on a country level last date__"
   ]
  },
  {
   "cell_type": "code",
   "execution_count": 13,
   "metadata": {},
   "outputs": [],
   "source": [
    "nandf = nan_province_data.groupby('Country')\n",
    "nandf = pd.DataFrame(nandf['Last Update'].max()).reset_index()\n",
    "nan_province_last_update_data = nandf.merge(nan_province_data, how='inner', on=['Country', 'Last Update'])"
   ]
  },
  {
   "cell_type": "markdown",
   "metadata": {},
   "source": [
    "Lets append this with the *last_update_data*  "
   ]
  },
  {
   "cell_type": "code",
   "execution_count": 14,
   "metadata": {},
   "outputs": [
    {
     "name": "stderr",
     "output_type": "stream",
     "text": [
      "/Users/d107520/venvs/mllib/lib/python3.7/site-packages/ipykernel_launcher.py:1: FutureWarning:\n",
      "\n",
      "Sorting because non-concatenation axis is not aligned. A future version\n",
      "of pandas will change to not sort by default.\n",
      "\n",
      "To accept the future behavior, pass 'sort=False'.\n",
      "\n",
      "To retain the current behavior and silence the warning, pass 'sort=True'.\n",
      "\n",
      "\n"
     ]
    }
   ],
   "source": [
    "filtered_data = pd.concat([last_update_data, nan_province_last_update_data])"
   ]
  },
  {
   "cell_type": "code",
   "execution_count": 15,
   "metadata": {},
   "outputs": [
    {
     "data": {
      "text/html": [
       "<div>\n",
       "<style scoped>\n",
       "    .dataframe tbody tr th:only-of-type {\n",
       "        vertical-align: middle;\n",
       "    }\n",
       "\n",
       "    .dataframe tbody tr th {\n",
       "        vertical-align: top;\n",
       "    }\n",
       "\n",
       "    .dataframe thead th {\n",
       "        text-align: right;\n",
       "    }\n",
       "</style>\n",
       "<table border=\"1\" class=\"dataframe\">\n",
       "  <thead>\n",
       "    <tr style=\"text-align: right;\">\n",
       "      <th></th>\n",
       "      <th>Confirmed</th>\n",
       "      <th>Country</th>\n",
       "      <th>Deaths</th>\n",
       "      <th>Last Update</th>\n",
       "      <th>Province/State</th>\n",
       "      <th>Recovered</th>\n",
       "      <th>Sno</th>\n",
       "      <th>lat_long</th>\n",
       "    </tr>\n",
       "  </thead>\n",
       "  <tbody>\n",
       "    <tr>\n",
       "      <th>0</th>\n",
       "      <td>200.0</td>\n",
       "      <td>Mainland China</td>\n",
       "      <td>0.0</td>\n",
       "      <td>2020-01-29 21:00:00</td>\n",
       "      <td>Anhui</td>\n",
       "      <td>2.0</td>\n",
       "      <td>319</td>\n",
       "      <td>(32.0, 117.0)</td>\n",
       "    </tr>\n",
       "    <tr>\n",
       "      <th>1</th>\n",
       "      <td>1.0</td>\n",
       "      <td>US</td>\n",
       "      <td>0.0</td>\n",
       "      <td>2020-01-29 21:00:00</td>\n",
       "      <td>Arizona</td>\n",
       "      <td>0.0</td>\n",
       "      <td>351</td>\n",
       "      <td>(34.395342, -111.7632755)</td>\n",
       "    </tr>\n",
       "    <tr>\n",
       "      <th>2</th>\n",
       "      <td>4.0</td>\n",
       "      <td>Germany</td>\n",
       "      <td>0.0</td>\n",
       "      <td>2020-01-29 21:00:00</td>\n",
       "      <td>Bavaria</td>\n",
       "      <td>0.0</td>\n",
       "      <td>367</td>\n",
       "      <td>(48.9467562, 11.4038717)</td>\n",
       "    </tr>\n",
       "    <tr>\n",
       "      <th>3</th>\n",
       "      <td>111.0</td>\n",
       "      <td>Mainland China</td>\n",
       "      <td>1.0</td>\n",
       "      <td>2020-01-29 21:00:00</td>\n",
       "      <td>Beijing</td>\n",
       "      <td>4.0</td>\n",
       "      <td>325</td>\n",
       "      <td>(39.906217, 116.3912757)</td>\n",
       "    </tr>\n",
       "    <tr>\n",
       "      <th>4</th>\n",
       "      <td>1.0</td>\n",
       "      <td>Canada</td>\n",
       "      <td>0.0</td>\n",
       "      <td>2020-01-29 21:00:00</td>\n",
       "      <td>British Columbia</td>\n",
       "      <td>0.0</td>\n",
       "      <td>361</td>\n",
       "      <td>(55.001251, -125.002441)</td>\n",
       "    </tr>\n",
       "    <tr>\n",
       "      <th>...</th>\n",
       "      <td>...</td>\n",
       "      <td>...</td>\n",
       "      <td>...</td>\n",
       "      <td>...</td>\n",
       "      <td>...</td>\n",
       "      <td>...</td>\n",
       "      <td>...</td>\n",
       "      <td>...</td>\n",
       "    </tr>\n",
       "    <tr>\n",
       "      <th>11</th>\n",
       "      <td>10.0</td>\n",
       "      <td>Singapore</td>\n",
       "      <td>0.0</td>\n",
       "      <td>2020-01-29 21:00:00</td>\n",
       "      <td>NaN</td>\n",
       "      <td>0.0</td>\n",
       "      <td>355</td>\n",
       "      <td>(46.3144754, 11.0480288)</td>\n",
       "    </tr>\n",
       "    <tr>\n",
       "      <th>12</th>\n",
       "      <td>4.0</td>\n",
       "      <td>South Korea</td>\n",
       "      <td>0.0</td>\n",
       "      <td>2020-01-29 21:00:00</td>\n",
       "      <td>NaN</td>\n",
       "      <td>0.0</td>\n",
       "      <td>354</td>\n",
       "      <td>(46.3144754, 11.0480288)</td>\n",
       "    </tr>\n",
       "    <tr>\n",
       "      <th>13</th>\n",
       "      <td>1.0</td>\n",
       "      <td>Sri Lanka</td>\n",
       "      <td>0.0</td>\n",
       "      <td>2020-01-29 21:00:00</td>\n",
       "      <td>NaN</td>\n",
       "      <td>0.0</td>\n",
       "      <td>363</td>\n",
       "      <td>(46.3144754, 11.0480288)</td>\n",
       "    </tr>\n",
       "    <tr>\n",
       "      <th>14</th>\n",
       "      <td>14.0</td>\n",
       "      <td>Thailand</td>\n",
       "      <td>0.0</td>\n",
       "      <td>2020-01-29 21:00:00</td>\n",
       "      <td>NaN</td>\n",
       "      <td>5.0</td>\n",
       "      <td>353</td>\n",
       "      <td>(46.3144754, 11.0480288)</td>\n",
       "    </tr>\n",
       "    <tr>\n",
       "      <th>15</th>\n",
       "      <td>2.0</td>\n",
       "      <td>Vietnam</td>\n",
       "      <td>0.0</td>\n",
       "      <td>2020-01-29 21:00:00</td>\n",
       "      <td>NaN</td>\n",
       "      <td>0.0</td>\n",
       "      <td>356</td>\n",
       "      <td>(46.3144754, 11.0480288)</td>\n",
       "    </tr>\n",
       "  </tbody>\n",
       "</table>\n",
       "<p>61 rows × 8 columns</p>\n",
       "</div>"
      ],
      "text/plain": [
       "    Confirmed         Country  Deaths         Last Update    Province/State  \\\n",
       "0       200.0  Mainland China     0.0 2020-01-29 21:00:00             Anhui   \n",
       "1         1.0              US     0.0 2020-01-29 21:00:00           Arizona   \n",
       "2         4.0         Germany     0.0 2020-01-29 21:00:00           Bavaria   \n",
       "3       111.0  Mainland China     1.0 2020-01-29 21:00:00           Beijing   \n",
       "4         1.0          Canada     0.0 2020-01-29 21:00:00  British Columbia   \n",
       "..        ...             ...     ...                 ...               ...   \n",
       "11       10.0       Singapore     0.0 2020-01-29 21:00:00               NaN   \n",
       "12        4.0     South Korea     0.0 2020-01-29 21:00:00               NaN   \n",
       "13        1.0       Sri Lanka     0.0 2020-01-29 21:00:00               NaN   \n",
       "14       14.0        Thailand     0.0 2020-01-29 21:00:00               NaN   \n",
       "15        2.0         Vietnam     0.0 2020-01-29 21:00:00               NaN   \n",
       "\n",
       "    Recovered  Sno                   lat_long  \n",
       "0         2.0  319              (32.0, 117.0)  \n",
       "1         0.0  351  (34.395342, -111.7632755)  \n",
       "2         0.0  367   (48.9467562, 11.4038717)  \n",
       "3         4.0  325   (39.906217, 116.3912757)  \n",
       "4         0.0  361   (55.001251, -125.002441)  \n",
       "..        ...  ...                        ...  \n",
       "11        0.0  355   (46.3144754, 11.0480288)  \n",
       "12        0.0  354   (46.3144754, 11.0480288)  \n",
       "13        0.0  363   (46.3144754, 11.0480288)  \n",
       "14        5.0  353   (46.3144754, 11.0480288)  \n",
       "15        0.0  356   (46.3144754, 11.0480288)  \n",
       "\n",
       "[61 rows x 8 columns]"
      ]
     },
     "execution_count": 15,
     "metadata": {},
     "output_type": "execute_result"
    }
   ],
   "source": [
    "filtered_data"
   ]
  },
  {
   "cell_type": "markdown",
   "metadata": {},
   "source": [
    "__Heatmap of reports__"
   ]
  },
  {
   "cell_type": "code",
   "execution_count": 16,
   "metadata": {},
   "outputs": [],
   "source": [
    "from ast import literal_eval\n",
    "\n",
    "filtered_data[\"co_ord\"] = filtered_data['lat_long'].apply(lambda x: literal_eval(x))\n",
    "\n",
    "def make_heatmap_data(x, y):\n",
    "    return (x[0], x[1], y)\n",
    "\n",
    "filtered_data[\"heatmap_data\"] = filtered_data.apply(lambda x: \\\n",
    "                                                          make_heatmap_data(x['co_ord'], x['Confirmed']), axis=1)"
   ]
  },
  {
   "cell_type": "code",
   "execution_count": 17,
   "metadata": {},
   "outputs": [
    {
     "data": {
      "text/html": [
       "<div style=\"width:100%;\"><div style=\"position:relative;width:100%;height:0;padding-bottom:60%;\"><iframe src=\"data:text/html;charset=utf-8;base64,PCFET0NUWVBFIGh0bWw+CjxoZWFkPiAgICAKICAgIDxtZXRhIGh0dHAtZXF1aXY9ImNvbnRlbnQtdHlwZSIgY29udGVudD0idGV4dC9odG1sOyBjaGFyc2V0PVVURi04IiAvPgogICAgCiAgICAgICAgPHNjcmlwdD4KICAgICAgICAgICAgTF9OT19UT1VDSCA9IGZhbHNlOwogICAgICAgICAgICBMX0RJU0FCTEVfM0QgPSBmYWxzZTsKICAgICAgICA8L3NjcmlwdD4KICAgIAogICAgPHNjcmlwdCBzcmM9Imh0dHBzOi8vY2RuLmpzZGVsaXZyLm5ldC9ucG0vbGVhZmxldEAxLjUuMS9kaXN0L2xlYWZsZXQuanMiPjwvc2NyaXB0PgogICAgPHNjcmlwdCBzcmM9Imh0dHBzOi8vY29kZS5qcXVlcnkuY29tL2pxdWVyeS0xLjEyLjQubWluLmpzIj48L3NjcmlwdD4KICAgIDxzY3JpcHQgc3JjPSJodHRwczovL21heGNkbi5ib290c3RyYXBjZG4uY29tL2Jvb3RzdHJhcC8zLjIuMC9qcy9ib290c3RyYXAubWluLmpzIj48L3NjcmlwdD4KICAgIDxzY3JpcHQgc3JjPSJodHRwczovL2NkbmpzLmNsb3VkZmxhcmUuY29tL2FqYXgvbGlicy9MZWFmbGV0LmF3ZXNvbWUtbWFya2Vycy8yLjAuMi9sZWFmbGV0LmF3ZXNvbWUtbWFya2Vycy5qcyI+PC9zY3JpcHQ+CiAgICA8bGluayByZWw9InN0eWxlc2hlZXQiIGhyZWY9Imh0dHBzOi8vY2RuLmpzZGVsaXZyLm5ldC9ucG0vbGVhZmxldEAxLjUuMS9kaXN0L2xlYWZsZXQuY3NzIi8+CiAgICA8bGluayByZWw9InN0eWxlc2hlZXQiIGhyZWY9Imh0dHBzOi8vbWF4Y2RuLmJvb3RzdHJhcGNkbi5jb20vYm9vdHN0cmFwLzMuMi4wL2Nzcy9ib290c3RyYXAubWluLmNzcyIvPgogICAgPGxpbmsgcmVsPSJzdHlsZXNoZWV0IiBocmVmPSJodHRwczovL21heGNkbi5ib290c3RyYXBjZG4uY29tL2Jvb3RzdHJhcC8zLjIuMC9jc3MvYm9vdHN0cmFwLXRoZW1lLm1pbi5jc3MiLz4KICAgIDxsaW5rIHJlbD0ic3R5bGVzaGVldCIgaHJlZj0iaHR0cHM6Ly9tYXhjZG4uYm9vdHN0cmFwY2RuLmNvbS9mb250LWF3ZXNvbWUvNC42LjMvY3NzL2ZvbnQtYXdlc29tZS5taW4uY3NzIi8+CiAgICA8bGluayByZWw9InN0eWxlc2hlZXQiIGhyZWY9Imh0dHBzOi8vY2RuanMuY2xvdWRmbGFyZS5jb20vYWpheC9saWJzL0xlYWZsZXQuYXdlc29tZS1tYXJrZXJzLzIuMC4yL2xlYWZsZXQuYXdlc29tZS1tYXJrZXJzLmNzcyIvPgogICAgPGxpbmsgcmVsPSJzdHlsZXNoZWV0IiBocmVmPSJodHRwczovL3Jhd2Nkbi5naXRoYWNrLmNvbS9weXRob24tdmlzdWFsaXphdGlvbi9mb2xpdW0vbWFzdGVyL2ZvbGl1bS90ZW1wbGF0ZXMvbGVhZmxldC5hd2Vzb21lLnJvdGF0ZS5jc3MiLz4KICAgIDxzdHlsZT5odG1sLCBib2R5IHt3aWR0aDogMTAwJTtoZWlnaHQ6IDEwMCU7bWFyZ2luOiAwO3BhZGRpbmc6IDA7fTwvc3R5bGU+CiAgICA8c3R5bGU+I21hcCB7cG9zaXRpb246YWJzb2x1dGU7dG9wOjA7Ym90dG9tOjA7cmlnaHQ6MDtsZWZ0OjA7fTwvc3R5bGU+CiAgICAKICAgICAgICAgICAgPG1ldGEgbmFtZT0idmlld3BvcnQiIGNvbnRlbnQ9IndpZHRoPWRldmljZS13aWR0aCwKICAgICAgICAgICAgICAgIGluaXRpYWwtc2NhbGU9MS4wLCBtYXhpbXVtLXNjYWxlPTEuMCwgdXNlci1zY2FsYWJsZT1ubyIgLz4KICAgICAgICAgICAgPHN0eWxlPgogICAgICAgICAgICAgICAgI21hcF8xZGNhN2I3ZTNmZWI0ZjAzOGRjY2ZhZjcxMjcxM2EyNyB7CiAgICAgICAgICAgICAgICAgICAgcG9zaXRpb246IHJlbGF0aXZlOwogICAgICAgICAgICAgICAgICAgIHdpZHRoOiA5NTAuMHB4OwogICAgICAgICAgICAgICAgICAgIGhlaWdodDogNzAwLjBweDsKICAgICAgICAgICAgICAgICAgICBsZWZ0OiAwLjAlOwogICAgICAgICAgICAgICAgICAgIHRvcDogMC4wJTsKICAgICAgICAgICAgICAgIH0KICAgICAgICAgICAgPC9zdHlsZT4KICAgICAgICAKICAgIDxzY3JpcHQgc3JjPSJodHRwczovL2xlYWZsZXQuZ2l0aHViLmlvL0xlYWZsZXQuaGVhdC9kaXN0L2xlYWZsZXQtaGVhdC5qcyI+PC9zY3JpcHQ+CjwvaGVhZD4KPGJvZHk+ICAgIAogICAgCiAgICAgICAgICAgIDxkaXYgY2xhc3M9ImZvbGl1bS1tYXAiIGlkPSJtYXBfMWRjYTdiN2UzZmViNGYwMzhkY2NmYWY3MTI3MTNhMjciID48L2Rpdj4KICAgICAgICAKPC9ib2R5Pgo8c2NyaXB0PiAgICAKICAgIAogICAgICAgICAgICB2YXIgbWFwXzFkY2E3YjdlM2ZlYjRmMDM4ZGNjZmFmNzEyNzEzYTI3ID0gTC5tYXAoCiAgICAgICAgICAgICAgICAibWFwXzFkY2E3YjdlM2ZlYjRmMDM4ZGNjZmFmNzEyNzEzYTI3IiwKICAgICAgICAgICAgICAgIHsKICAgICAgICAgICAgICAgICAgICBjZW50ZXI6IFszMC41LCAxMTQuM10sCiAgICAgICAgICAgICAgICAgICAgY3JzOiBMLkNSUy5FUFNHMzg1NywKICAgICAgICAgICAgICAgICAgICB6b29tOiAyLjUsCiAgICAgICAgICAgICAgICAgICAgem9vbUNvbnRyb2w6IHRydWUsCiAgICAgICAgICAgICAgICAgICAgcHJlZmVyQ2FudmFzOiBmYWxzZSwKICAgICAgICAgICAgICAgIH0KICAgICAgICAgICAgKTsKCiAgICAgICAgICAgIAoKICAgICAgICAKICAgIAogICAgICAgICAgICB2YXIgdGlsZV9sYXllcl8yNmVkMGFhYTFkZTE0MjZmOTEzYWVjYTlmM2VhYWY1ZCA9IEwudGlsZUxheWVyKAogICAgICAgICAgICAgICAgImh0dHBzOi8vc3RhbWVuLXRpbGVzLXtzfS5hLnNzbC5mYXN0bHkubmV0L3RvbmVyL3t6fS97eH0ve3l9LnBuZyIsCiAgICAgICAgICAgICAgICB7ImF0dHJpYnV0aW9uIjogIk1hcCB0aWxlcyBieSBcdTAwM2NhIGhyZWY9XCJodHRwOi8vc3RhbWVuLmNvbVwiXHUwMDNlU3RhbWVuIERlc2lnblx1MDAzYy9hXHUwMDNlLCB1bmRlciBcdTAwM2NhIGhyZWY9XCJodHRwOi8vY3JlYXRpdmVjb21tb25zLm9yZy9saWNlbnNlcy9ieS8zLjBcIlx1MDAzZUNDIEJZIDMuMFx1MDAzYy9hXHUwMDNlLiBEYXRhIGJ5IFx1MDAyNmNvcHk7IFx1MDAzY2EgaHJlZj1cImh0dHA6Ly9vcGVuc3RyZWV0bWFwLm9yZ1wiXHUwMDNlT3BlblN0cmVldE1hcFx1MDAzYy9hXHUwMDNlLCB1bmRlciBcdTAwM2NhIGhyZWY9XCJodHRwOi8vd3d3Lm9wZW5zdHJlZXRtYXAub3JnL2NvcHlyaWdodFwiXHUwMDNlT0RiTFx1MDAzYy9hXHUwMDNlLiIsICJkZXRlY3RSZXRpbmEiOiBmYWxzZSwgIm1heE5hdGl2ZVpvb20iOiAxOCwgIm1heFpvb20iOiAxOCwgIm1pblpvb20iOiAwLCAibm9XcmFwIjogZmFsc2UsICJvcGFjaXR5IjogMSwgInN1YmRvbWFpbnMiOiAiYWJjIiwgInRtcyI6IGZhbHNlfQogICAgICAgICAgICApLmFkZFRvKG1hcF8xZGNhN2I3ZTNmZWI0ZjAzOGRjY2ZhZjcxMjcxM2EyNyk7CiAgICAgICAgCiAgICAKICAgICAgICAgICAgdmFyIGhlYXRfbWFwXzQ1OTY4MjllNTg2NDRlOTNhNmIyM2Q4OGI4Njg5ZDljID0gTC5oZWF0TGF5ZXIoCiAgICAgICAgICAgICAgICBbWzMyLjAsIDExNy4wLCAyMDAuMF0sIFszNC4zOTUzNDIsIC0xMTEuNzYzMjc1NSwgMS4wXSwgWzQ4Ljk0Njc1NjIsIDExLjQwMzg3MTcsIDQuMF0sIFszOS45MDYyMTcsIDExNi4zOTEyNzU3LCAxMTEuMF0sIFs1NS4wMDEyNTEsIC0xMjUuMDAyNDQxLCAxLjBdLCBbMzYuNzAxNDYzMSwgLTExOC43NTU5OTc0LCAyLjBdLCBbNDEuODc1NTYxNiwgLTg3LjYyNDQyMTIsIDEuMF0sIFszMC4wNTUxOCwgMTA3Ljg3NDg3MTIsIDE2NS4wXSwgWzI2LjU0NTAwMDEsIDExNy44NDI3NzgsIDEwMS4wXSwgWzM4LjAwMDAwMDEsIDEwMS45OTk5OTk5LCAyNi4wXSwgWzIzLjEzNTc2OTQsIDExMy4xOTgyNjg4LCAzMTEuMF0sIFsyNC4wLCAxMDkuMCwgNzguMF0sIFsyNy4wLCAxMDcuMCwgMTIuMF0sIFsxOS4yMDAwMDAxLCAxMDkuNTk5OTk5OSwgNDMuMF0sIFszOS4wMDAwMDAxLCAxMTYuMCwgNjUuMF0sIFs0OC4wMDAwMDQ3LCAxMjcuOTk5OTkyLCA0My4wXSwgWzM0LjAwMDAwMDEsIDExMy45OTk5OTk5LCAyNzguMF0sIFsyMi4yNzkzMjc4LCAxMTQuMTYyODEzMSwgMTAuMF0sIFszMS4xNTE3MjUyNSwgMTEyLjg3ODMyMjI0NjU2MDQzLCA0NTg2LjBdLCBbMjcuOTk5NTg3OCwgMTEyLjAwOTUzOCwgMjc3LjBdLCBbNDAuMDc5NjYwNiwgLTg5LjQzMzcyODgsIDEuMF0sIFs0My4yNDQzMjQyLCAxMTQuMzI1MTY2NCwgMTYuMF0sIFszMy4wMDAwMDAxLCAxMTkuOTk5OTk5OSwgMTI5LjBdLCBbMjguMCwgMTE2LjAsIDE2Mi4wXSwgWzQyLjk5OTUwMzIsIDEyNS45ODE2MDU0LCAxNC4wXSwgWzQwLjk5NzUxOTcsIDEyMi45OTU1NDY5LCAzOS4wXSwgWzIyLjE3NTc2MDUsIDExMy41NTE0MTQyLCA3LjBdLCBbLTMxLjg3NTk4MzUsIDE0Ny4yODY5NDkzLCA0LjBdLCBbMzcuMDAwMDAwMSwgMTA1Ljk5OTk5OTksIDEyLjBdLCBbNTAuMDAwNjc4LCAtODYuMDAwOTc3LCAyLjBdLCBbMzUuNDA3MDk1MjUsIDk1Ljk1MjExNTczMjQxOTU0LCA2LjBdLCBbLTIyLjE2NDY3ODIsIDE0NC41ODQ0OTAzLCAxLjBdLCBbMzYuMCwgMTA5LjAsIDU2LjBdLCBbMzYuMDAwMDAwMSwgMTE4Ljk5OTk5OTksIDE0NS4wXSwgWzMxLjIzMjI3NTgsIDEyMS40NjkyMDcxLCAxMDEuMF0sIFszNy4wLCAxMTIuMCwgMzUuMF0sIFszMC41MDAwMDAxLCAxMDIuNDk5OTk5OSwgMTQyLjBdLCBbMjMuOTczOTM3NCwgMTIwLjk4MjAxNzksIDguMF0sIFszOS4xMjM1NjM1LCAxMTcuMTk4MDc4NSwgMjcuMF0sIFszMS44OTQzNDMxNDk5OTk5OTcsIDg3LjA3ODEzNzEyNzA2NTA5LCAxLjBdLCBbLTM2LjU5ODYwOTYsIDE0NC42NzgwMDUyLCAyLjBdLCBbMzguODk0ODkzMiwgLTc3LjAzNjU1MjksIDEuMF0sIFs0MS43NTc0NzY5LCA4Ny4xNjczODQyMzA0Njg5NywgMTQuMF0sIFsyNS4wLCAxMDIuMCwgNTUuMF0sIFsyOS4wMDAwMDAxLCAxMTkuOTk5OTk5OSwgNDI4LjBdLCBbNDYuMzE0NDc1NCwgMTEuMDQ4MDI4OCwgNC4wXSwgWzQ2LjMxNDQ3NTQsIDExLjA0ODAyODgsIDAuMF0sIFs0Ni4zMTQ0NzU0LCAxMS4wNDgwMjg4LCAxLjBdLCBbNDYuMzE0NDc1NCwgMTEuMDQ4MDI4OCwgMS4wXSwgWzQ2LjMxNDQ3NTQsIDExLjA0ODAyODgsIDUuMF0sIFs0Ni4zMTQ0NzU0LCAxMS4wNDgwMjg4LCAwLjBdLCBbNDYuMzE0NDc1NCwgMTEuMDQ4MDI4OCwgMTEuMF0sIFs0Ni4zMTQ0NzU0LCAxMS4wNDgwMjg4LCA3LjBdLCBbNDYuMzE0NDc1NCwgMTEuMDQ4MDI4OCwgMC4wXSwgWzQ2LjMxNDQ3NTQsIDExLjA0ODAyODgsIDEuMF0sIFs0Ni4zMTQ0NzU0LCAxMS4wNDgwMjg4LCAwLjBdLCBbNDYuMzE0NDc1NCwgMTEuMDQ4MDI4OCwgMTAuMF0sIFs0Ni4zMTQ0NzU0LCAxMS4wNDgwMjg4LCA0LjBdLCBbNDYuMzE0NDc1NCwgMTEuMDQ4MDI4OCwgMS4wXSwgWzQ2LjMxNDQ3NTQsIDExLjA0ODAyODgsIDE0LjBdLCBbNDYuMzE0NDc1NCwgMTEuMDQ4MDI4OCwgMi4wXV0sCiAgICAgICAgICAgICAgICB7ImJsdXIiOiAxNSwgIm1heCI6IDEuMCwgIm1heFpvb20iOiAxOCwgIm1pbk9wYWNpdHkiOiAwLjUsICJyYWRpdXMiOiAyNX0KICAgICAgICAgICAgKS5hZGRUbyhtYXBfMWRjYTdiN2UzZmViNGYwMzhkY2NmYWY3MTI3MTNhMjcpOwogICAgICAgIAo8L3NjcmlwdD4=\" style=\"position:absolute;width:100%;height:100%;left:0;top:0;border:none !important;\" allowfullscreen webkitallowfullscreen mozallowfullscreen></iframe></div></div>"
      ],
      "text/plain": [
       "<folium.folium.Map at 0x120c04390>"
      ]
     },
     "execution_count": 17,
     "metadata": {},
     "output_type": "execute_result"
    }
   ],
   "source": [
    "import folium\n",
    "from folium.plugins import HeatMap\n",
    "\n",
    "start = [30.5,114.30]\n",
    "\n",
    "m = folium.Map(width=950,height=700, location=start, zoom_start=2.5, tiles='Stamen Toner')\n",
    "\n",
    "locations = filtered_data[\"heatmap_data\"]\n",
    "HeatMap(locations).add_to(m)\n",
    "\n",
    "m"
   ]
  },
  {
   "cell_type": "code",
   "execution_count": 18,
   "metadata": {},
   "outputs": [],
   "source": [
    "df_copy = data\n",
    "df_copy[\"co_ord\"] = df_copy['lat_long'].apply(lambda x: literal_eval(x))\n",
    "\n",
    "df_copy['lat'] = data['co_ord'].apply(lambda x: x[0])\n",
    "df_copy['long'] = data['co_ord'].apply(lambda x: x[1])"
   ]
  },
  {
   "cell_type": "code",
   "execution_count": 19,
   "metadata": {},
   "outputs": [
    {
     "data": {
      "text/html": [
       "<div>\n",
       "<style scoped>\n",
       "    .dataframe tbody tr th:only-of-type {\n",
       "        vertical-align: middle;\n",
       "    }\n",
       "\n",
       "    .dataframe tbody tr th {\n",
       "        vertical-align: top;\n",
       "    }\n",
       "\n",
       "    .dataframe thead th {\n",
       "        text-align: right;\n",
       "    }\n",
       "</style>\n",
       "<table border=\"1\" class=\"dataframe\">\n",
       "  <thead>\n",
       "    <tr style=\"text-align: right;\">\n",
       "      <th></th>\n",
       "      <th>Sno</th>\n",
       "      <th>Province/State</th>\n",
       "      <th>Country</th>\n",
       "      <th>Last Update</th>\n",
       "      <th>Confirmed</th>\n",
       "      <th>Deaths</th>\n",
       "      <th>Recovered</th>\n",
       "      <th>lat_long</th>\n",
       "      <th>co_ord</th>\n",
       "      <th>lat</th>\n",
       "      <th>long</th>\n",
       "    </tr>\n",
       "  </thead>\n",
       "  <tbody>\n",
       "    <tr>\n",
       "      <th>0</th>\n",
       "      <td>1</td>\n",
       "      <td>Anhui</td>\n",
       "      <td>China</td>\n",
       "      <td>2020-01-22 12:00:00</td>\n",
       "      <td>1.0</td>\n",
       "      <td>0.0</td>\n",
       "      <td>0.0</td>\n",
       "      <td>(32.0, 117.0)</td>\n",
       "      <td>(32.0, 117.0)</td>\n",
       "      <td>32.000000</td>\n",
       "      <td>117.000000</td>\n",
       "    </tr>\n",
       "    <tr>\n",
       "      <th>1</th>\n",
       "      <td>2</td>\n",
       "      <td>Beijing</td>\n",
       "      <td>China</td>\n",
       "      <td>2020-01-22 12:00:00</td>\n",
       "      <td>14.0</td>\n",
       "      <td>0.0</td>\n",
       "      <td>0.0</td>\n",
       "      <td>(39.906217, 116.3912757)</td>\n",
       "      <td>(39.906217, 116.3912757)</td>\n",
       "      <td>39.906217</td>\n",
       "      <td>116.391276</td>\n",
       "    </tr>\n",
       "    <tr>\n",
       "      <th>2</th>\n",
       "      <td>3</td>\n",
       "      <td>Chongqing</td>\n",
       "      <td>China</td>\n",
       "      <td>2020-01-22 12:00:00</td>\n",
       "      <td>6.0</td>\n",
       "      <td>0.0</td>\n",
       "      <td>0.0</td>\n",
       "      <td>(30.05518, 107.8748712)</td>\n",
       "      <td>(30.05518, 107.8748712)</td>\n",
       "      <td>30.055180</td>\n",
       "      <td>107.874871</td>\n",
       "    </tr>\n",
       "    <tr>\n",
       "      <th>3</th>\n",
       "      <td>4</td>\n",
       "      <td>Fujian</td>\n",
       "      <td>China</td>\n",
       "      <td>2020-01-22 12:00:00</td>\n",
       "      <td>1.0</td>\n",
       "      <td>0.0</td>\n",
       "      <td>0.0</td>\n",
       "      <td>(26.5450001, 117.842778)</td>\n",
       "      <td>(26.5450001, 117.842778)</td>\n",
       "      <td>26.545000</td>\n",
       "      <td>117.842778</td>\n",
       "    </tr>\n",
       "    <tr>\n",
       "      <th>4</th>\n",
       "      <td>5</td>\n",
       "      <td>Gansu</td>\n",
       "      <td>China</td>\n",
       "      <td>2020-01-22 12:00:00</td>\n",
       "      <td>0.0</td>\n",
       "      <td>0.0</td>\n",
       "      <td>0.0</td>\n",
       "      <td>(38.0000001, 101.9999999)</td>\n",
       "      <td>(38.0000001, 101.9999999)</td>\n",
       "      <td>38.000000</td>\n",
       "      <td>102.000000</td>\n",
       "    </tr>\n",
       "  </tbody>\n",
       "</table>\n",
       "</div>"
      ],
      "text/plain": [
       "   Sno Province/State Country         Last Update  Confirmed  Deaths  \\\n",
       "0    1          Anhui   China 2020-01-22 12:00:00        1.0     0.0   \n",
       "1    2        Beijing   China 2020-01-22 12:00:00       14.0     0.0   \n",
       "2    3      Chongqing   China 2020-01-22 12:00:00        6.0     0.0   \n",
       "3    4         Fujian   China 2020-01-22 12:00:00        1.0     0.0   \n",
       "4    5          Gansu   China 2020-01-22 12:00:00        0.0     0.0   \n",
       "\n",
       "   Recovered                   lat_long                     co_ord        lat  \\\n",
       "0        0.0              (32.0, 117.0)              (32.0, 117.0)  32.000000   \n",
       "1        0.0   (39.906217, 116.3912757)   (39.906217, 116.3912757)  39.906217   \n",
       "2        0.0    (30.05518, 107.8748712)    (30.05518, 107.8748712)  30.055180   \n",
       "3        0.0   (26.5450001, 117.842778)   (26.5450001, 117.842778)  26.545000   \n",
       "4        0.0  (38.0000001, 101.9999999)  (38.0000001, 101.9999999)  38.000000   \n",
       "\n",
       "         long  \n",
       "0  117.000000  \n",
       "1  116.391276  \n",
       "2  107.874871  \n",
       "3  117.842778  \n",
       "4  102.000000  "
      ]
     },
     "execution_count": 19,
     "metadata": {},
     "output_type": "execute_result"
    }
   ],
   "source": [
    "df_copy.head()"
   ]
  },
  {
   "cell_type": "code",
   "execution_count": 20,
   "metadata": {},
   "outputs": [],
   "source": [
    "df_copy[\"date\"] = df_copy['Last Update'].dt.date"
   ]
  },
  {
   "cell_type": "code",
   "execution_count": 21,
   "metadata": {},
   "outputs": [],
   "source": [
    "df_day_list = []\n",
    "for date in data.date.sort_values().unique():\n",
    "    df_day_list.append(df_copy.loc[df_copy.date == date, \n",
    "                                    ['lat', 'long', 'Confirmed']].groupby(['lat', 'long']).sum().reset_index().values.tolist())"
   ]
  },
  {
   "cell_type": "code",
   "execution_count": 32,
   "metadata": {},
   "outputs": [
    {
     "data": {
      "text/plain": [
       "datetime.date(2020, 1, 29)"
      ]
     },
     "execution_count": 32,
     "metadata": {},
     "output_type": "execute_result"
    }
   ],
   "source": [
    "date"
   ]
  },
  {
   "cell_type": "code",
   "execution_count": 33,
   "metadata": {},
   "outputs": [
    {
     "data": {
      "text/html": [
       "<div>\n",
       "<style scoped>\n",
       "    .dataframe tbody tr th:only-of-type {\n",
       "        vertical-align: middle;\n",
       "    }\n",
       "\n",
       "    .dataframe tbody tr th {\n",
       "        vertical-align: top;\n",
       "    }\n",
       "\n",
       "    .dataframe thead th {\n",
       "        text-align: right;\n",
       "    }\n",
       "</style>\n",
       "<table border=\"1\" class=\"dataframe\">\n",
       "  <thead>\n",
       "    <tr style=\"text-align: right;\">\n",
       "      <th></th>\n",
       "      <th>lat</th>\n",
       "      <th>long</th>\n",
       "      <th>Confirmed</th>\n",
       "    </tr>\n",
       "  </thead>\n",
       "  <tbody>\n",
       "    <tr>\n",
       "      <th>0</th>\n",
       "      <td>-36.598610</td>\n",
       "      <td>144.678005</td>\n",
       "      <td>2.0</td>\n",
       "    </tr>\n",
       "    <tr>\n",
       "      <th>1</th>\n",
       "      <td>-31.875984</td>\n",
       "      <td>147.286949</td>\n",
       "      <td>4.0</td>\n",
       "    </tr>\n",
       "    <tr>\n",
       "      <th>2</th>\n",
       "      <td>-22.164678</td>\n",
       "      <td>144.584490</td>\n",
       "      <td>1.0</td>\n",
       "    </tr>\n",
       "    <tr>\n",
       "      <th>3</th>\n",
       "      <td>19.200000</td>\n",
       "      <td>109.600000</td>\n",
       "      <td>43.0</td>\n",
       "    </tr>\n",
       "    <tr>\n",
       "      <th>4</th>\n",
       "      <td>22.175760</td>\n",
       "      <td>113.551414</td>\n",
       "      <td>7.0</td>\n",
       "    </tr>\n",
       "    <tr>\n",
       "      <th>5</th>\n",
       "      <td>22.279328</td>\n",
       "      <td>114.162813</td>\n",
       "      <td>10.0</td>\n",
       "    </tr>\n",
       "    <tr>\n",
       "      <th>6</th>\n",
       "      <td>23.135769</td>\n",
       "      <td>113.198269</td>\n",
       "      <td>311.0</td>\n",
       "    </tr>\n",
       "    <tr>\n",
       "      <th>7</th>\n",
       "      <td>23.973937</td>\n",
       "      <td>120.982018</td>\n",
       "      <td>8.0</td>\n",
       "    </tr>\n",
       "    <tr>\n",
       "      <th>8</th>\n",
       "      <td>24.000000</td>\n",
       "      <td>109.000000</td>\n",
       "      <td>78.0</td>\n",
       "    </tr>\n",
       "    <tr>\n",
       "      <th>9</th>\n",
       "      <td>25.000000</td>\n",
       "      <td>102.000000</td>\n",
       "      <td>55.0</td>\n",
       "    </tr>\n",
       "    <tr>\n",
       "      <th>10</th>\n",
       "      <td>26.545000</td>\n",
       "      <td>117.842778</td>\n",
       "      <td>101.0</td>\n",
       "    </tr>\n",
       "    <tr>\n",
       "      <th>11</th>\n",
       "      <td>27.000000</td>\n",
       "      <td>107.000000</td>\n",
       "      <td>12.0</td>\n",
       "    </tr>\n",
       "    <tr>\n",
       "      <th>12</th>\n",
       "      <td>27.999588</td>\n",
       "      <td>112.009538</td>\n",
       "      <td>277.0</td>\n",
       "    </tr>\n",
       "    <tr>\n",
       "      <th>13</th>\n",
       "      <td>28.000000</td>\n",
       "      <td>116.000000</td>\n",
       "      <td>162.0</td>\n",
       "    </tr>\n",
       "    <tr>\n",
       "      <th>14</th>\n",
       "      <td>29.000000</td>\n",
       "      <td>120.000000</td>\n",
       "      <td>428.0</td>\n",
       "    </tr>\n",
       "    <tr>\n",
       "      <th>15</th>\n",
       "      <td>30.055180</td>\n",
       "      <td>107.874871</td>\n",
       "      <td>165.0</td>\n",
       "    </tr>\n",
       "    <tr>\n",
       "      <th>16</th>\n",
       "      <td>30.500000</td>\n",
       "      <td>102.500000</td>\n",
       "      <td>142.0</td>\n",
       "    </tr>\n",
       "    <tr>\n",
       "      <th>17</th>\n",
       "      <td>31.151725</td>\n",
       "      <td>112.878322</td>\n",
       "      <td>4586.0</td>\n",
       "    </tr>\n",
       "    <tr>\n",
       "      <th>18</th>\n",
       "      <td>31.232276</td>\n",
       "      <td>121.469207</td>\n",
       "      <td>101.0</td>\n",
       "    </tr>\n",
       "    <tr>\n",
       "      <th>19</th>\n",
       "      <td>31.894343</td>\n",
       "      <td>87.078137</td>\n",
       "      <td>1.0</td>\n",
       "    </tr>\n",
       "    <tr>\n",
       "      <th>20</th>\n",
       "      <td>32.000000</td>\n",
       "      <td>117.000000</td>\n",
       "      <td>200.0</td>\n",
       "    </tr>\n",
       "    <tr>\n",
       "      <th>21</th>\n",
       "      <td>33.000000</td>\n",
       "      <td>120.000000</td>\n",
       "      <td>129.0</td>\n",
       "    </tr>\n",
       "    <tr>\n",
       "      <th>22</th>\n",
       "      <td>34.000000</td>\n",
       "      <td>114.000000</td>\n",
       "      <td>278.0</td>\n",
       "    </tr>\n",
       "    <tr>\n",
       "      <th>23</th>\n",
       "      <td>34.395342</td>\n",
       "      <td>-111.763276</td>\n",
       "      <td>1.0</td>\n",
       "    </tr>\n",
       "    <tr>\n",
       "      <th>24</th>\n",
       "      <td>35.407095</td>\n",
       "      <td>95.952116</td>\n",
       "      <td>6.0</td>\n",
       "    </tr>\n",
       "    <tr>\n",
       "      <th>25</th>\n",
       "      <td>36.000000</td>\n",
       "      <td>109.000000</td>\n",
       "      <td>56.0</td>\n",
       "    </tr>\n",
       "    <tr>\n",
       "      <th>26</th>\n",
       "      <td>36.000000</td>\n",
       "      <td>119.000000</td>\n",
       "      <td>145.0</td>\n",
       "    </tr>\n",
       "    <tr>\n",
       "      <th>27</th>\n",
       "      <td>36.701463</td>\n",
       "      <td>-118.755997</td>\n",
       "      <td>2.0</td>\n",
       "    </tr>\n",
       "    <tr>\n",
       "      <th>28</th>\n",
       "      <td>37.000000</td>\n",
       "      <td>112.000000</td>\n",
       "      <td>35.0</td>\n",
       "    </tr>\n",
       "    <tr>\n",
       "      <th>29</th>\n",
       "      <td>37.000000</td>\n",
       "      <td>106.000000</td>\n",
       "      <td>12.0</td>\n",
       "    </tr>\n",
       "    <tr>\n",
       "      <th>30</th>\n",
       "      <td>38.000000</td>\n",
       "      <td>102.000000</td>\n",
       "      <td>26.0</td>\n",
       "    </tr>\n",
       "    <tr>\n",
       "      <th>31</th>\n",
       "      <td>38.894893</td>\n",
       "      <td>-77.036553</td>\n",
       "      <td>1.0</td>\n",
       "    </tr>\n",
       "    <tr>\n",
       "      <th>32</th>\n",
       "      <td>39.000000</td>\n",
       "      <td>116.000000</td>\n",
       "      <td>65.0</td>\n",
       "    </tr>\n",
       "    <tr>\n",
       "      <th>33</th>\n",
       "      <td>39.123564</td>\n",
       "      <td>117.198078</td>\n",
       "      <td>27.0</td>\n",
       "    </tr>\n",
       "    <tr>\n",
       "      <th>34</th>\n",
       "      <td>39.906217</td>\n",
       "      <td>116.391276</td>\n",
       "      <td>111.0</td>\n",
       "    </tr>\n",
       "    <tr>\n",
       "      <th>35</th>\n",
       "      <td>40.079661</td>\n",
       "      <td>-89.433729</td>\n",
       "      <td>1.0</td>\n",
       "    </tr>\n",
       "    <tr>\n",
       "      <th>36</th>\n",
       "      <td>40.997520</td>\n",
       "      <td>122.995547</td>\n",
       "      <td>39.0</td>\n",
       "    </tr>\n",
       "    <tr>\n",
       "      <th>37</th>\n",
       "      <td>41.757477</td>\n",
       "      <td>87.167384</td>\n",
       "      <td>14.0</td>\n",
       "    </tr>\n",
       "    <tr>\n",
       "      <th>38</th>\n",
       "      <td>42.999503</td>\n",
       "      <td>125.981605</td>\n",
       "      <td>14.0</td>\n",
       "    </tr>\n",
       "    <tr>\n",
       "      <th>39</th>\n",
       "      <td>43.244324</td>\n",
       "      <td>114.325166</td>\n",
       "      <td>16.0</td>\n",
       "    </tr>\n",
       "    <tr>\n",
       "      <th>40</th>\n",
       "      <td>46.314475</td>\n",
       "      <td>11.048029</td>\n",
       "      <td>57.0</td>\n",
       "    </tr>\n",
       "    <tr>\n",
       "      <th>41</th>\n",
       "      <td>48.000005</td>\n",
       "      <td>127.999992</td>\n",
       "      <td>43.0</td>\n",
       "    </tr>\n",
       "    <tr>\n",
       "      <th>42</th>\n",
       "      <td>48.946756</td>\n",
       "      <td>11.403872</td>\n",
       "      <td>4.0</td>\n",
       "    </tr>\n",
       "    <tr>\n",
       "      <th>43</th>\n",
       "      <td>50.000678</td>\n",
       "      <td>-86.000977</td>\n",
       "      <td>2.0</td>\n",
       "    </tr>\n",
       "    <tr>\n",
       "      <th>44</th>\n",
       "      <td>55.001251</td>\n",
       "      <td>-125.002441</td>\n",
       "      <td>1.0</td>\n",
       "    </tr>\n",
       "  </tbody>\n",
       "</table>\n",
       "</div>"
      ],
      "text/plain": [
       "          lat        long  Confirmed\n",
       "0  -36.598610  144.678005        2.0\n",
       "1  -31.875984  147.286949        4.0\n",
       "2  -22.164678  144.584490        1.0\n",
       "3   19.200000  109.600000       43.0\n",
       "4   22.175760  113.551414        7.0\n",
       "5   22.279328  114.162813       10.0\n",
       "6   23.135769  113.198269      311.0\n",
       "7   23.973937  120.982018        8.0\n",
       "8   24.000000  109.000000       78.0\n",
       "9   25.000000  102.000000       55.0\n",
       "10  26.545000  117.842778      101.0\n",
       "11  27.000000  107.000000       12.0\n",
       "12  27.999588  112.009538      277.0\n",
       "13  28.000000  116.000000      162.0\n",
       "14  29.000000  120.000000      428.0\n",
       "15  30.055180  107.874871      165.0\n",
       "16  30.500000  102.500000      142.0\n",
       "17  31.151725  112.878322     4586.0\n",
       "18  31.232276  121.469207      101.0\n",
       "19  31.894343   87.078137        1.0\n",
       "20  32.000000  117.000000      200.0\n",
       "21  33.000000  120.000000      129.0\n",
       "22  34.000000  114.000000      278.0\n",
       "23  34.395342 -111.763276        1.0\n",
       "24  35.407095   95.952116        6.0\n",
       "25  36.000000  109.000000       56.0\n",
       "26  36.000000  119.000000      145.0\n",
       "27  36.701463 -118.755997        2.0\n",
       "28  37.000000  112.000000       35.0\n",
       "29  37.000000  106.000000       12.0\n",
       "30  38.000000  102.000000       26.0\n",
       "31  38.894893  -77.036553        1.0\n",
       "32  39.000000  116.000000       65.0\n",
       "33  39.123564  117.198078       27.0\n",
       "34  39.906217  116.391276      111.0\n",
       "35  40.079661  -89.433729        1.0\n",
       "36  40.997520  122.995547       39.0\n",
       "37  41.757477   87.167384       14.0\n",
       "38  42.999503  125.981605       14.0\n",
       "39  43.244324  114.325166       16.0\n",
       "40  46.314475   11.048029       57.0\n",
       "41  48.000005  127.999992       43.0\n",
       "42  48.946756   11.403872        4.0\n",
       "43  50.000678  -86.000977        2.0\n",
       "44  55.001251 -125.002441        1.0"
      ]
     },
     "execution_count": 33,
     "metadata": {},
     "output_type": "execute_result"
    }
   ],
   "source": [
    "df_copy.loc[df_copy.date == date,['lat', 'long', 'Confirmed']].groupby(['lat', 'long']).sum().reset_index()"
   ]
  },
  {
   "cell_type": "code",
   "execution_count": 27,
   "metadata": {},
   "outputs": [
    {
     "data": {
      "text/html": [
       "<div style=\"width:100%;\"><div style=\"position:relative;width:100%;height:0;padding-bottom:60%;\"><iframe src=\"data:text/html;charset=utf-8;base64,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\" style=\"position:absolute;width:100%;height:100%;left:0;top:0;border:none !important;\" allowfullscreen webkitallowfullscreen mozallowfullscreen></iframe></div></div>"
      ],
      "text/plain": [
       "<folium.folium.Map at 0x121312b90>"
      ]
     },
     "execution_count": 27,
     "metadata": {},
     "output_type": "execute_result"
    }
   ],
   "source": [
    "import folium.plugins as plugins\n",
    "\n",
    "m = folium.Map([48., 5.], tiles='stamentoner', zoom_start=0)\n",
    "\n",
    "hm = plugins.HeatMapWithTime(df_day_list)\n",
    "\n",
    "hm.add_to(m)\n",
    "\n",
    "m"
   ]
  },
  {
   "cell_type": "markdown",
   "metadata": {},
   "source": [
    "__Number of Cases reported on a country level__"
   ]
  },
  {
   "cell_type": "code",
   "execution_count": 18,
   "metadata": {},
   "outputs": [],
   "source": [
    "#Find the last date for which data is available at a location"
   ]
  },
  {
   "cell_type": "code",
   "execution_count": 19,
   "metadata": {},
   "outputs": [
    {
     "data": {
      "text/plain": [
       "array(['Mainland China', 'US', 'Germany', 'Canada', 'Hong Kong', 'Macau',\n",
       "       'Australia', 'Taiwan', 'Brazil', 'Cambodia', 'Finland', 'France',\n",
       "       'Ivory Coast', 'Japan', 'Malaysia', 'Mexico', 'Nepal',\n",
       "       'Philippines', 'Singapore', 'South Korea', 'Sri Lanka', 'Thailand',\n",
       "       'Vietnam'], dtype=object)"
      ]
     },
     "execution_count": 19,
     "metadata": {},
     "output_type": "execute_result"
    }
   ],
   "source": [
    "filtered_data.Country.unique()"
   ]
  },
  {
   "cell_type": "code",
   "execution_count": 20,
   "metadata": {},
   "outputs": [],
   "source": [
    "countries_spread = filtered_data.groupby(\"Country\")[\"Confirmed\"].sum().reset_index(name=\"case count\")"
   ]
  },
  {
   "cell_type": "code",
   "execution_count": 21,
   "metadata": {},
   "outputs": [],
   "source": [
    "countries_spread.sort_values(by=\"case count\", ascending=False, inplace=True)"
   ]
  },
  {
   "cell_type": "code",
   "execution_count": 22,
   "metadata": {},
   "outputs": [
    {
     "data": {
      "text/html": [
       "\n",
       "        <iframe\n",
       "            width=\"100%\"\n",
       "            height=\"525px\"\n",
       "            src=\"https://plot.ly/~sreejith_citizens/86.embed\"\n",
       "            frameborder=\"0\"\n",
       "            allowfullscreen\n",
       "        ></iframe>\n",
       "        "
      ],
      "text/plain": [
       "<IPython.lib.display.IFrame at 0x11c24e390>"
      ]
     },
     "execution_count": 22,
     "metadata": {},
     "output_type": "execute_result"
    }
   ],
   "source": [
    "_data = [go.Bar(\n",
    "            x=countries_spread[\"Country\"],\n",
    "            y=countries_spread[\"case count\"]\n",
    "    )]\n",
    "\n",
    "\n",
    "\n",
    "layout = go.Layout(\n",
    "    title='Case Count by country',\n",
    "    \n",
    "    xaxis=dict(\n",
    "        title='Country',\n",
    "        titlefont=dict(\n",
    "            family='Lato',\n",
    "            size=18,\n",
    "            color='#7f7f7f'\n",
    "        )\n",
    "    ),\n",
    "    yaxis=dict(\n",
    "        title='Case Count',\n",
    "        titlefont=dict(\n",
    "            family='Lato',\n",
    "            size=18,\n",
    "            color='#7f7f7f'\n",
    "        )\n",
    "    )\n",
    ")\n",
    "\n",
    "fig = go.Figure(data=_data, layout=layout)\n",
    "py.iplot(fig, filename='price')"
   ]
  },
  {
   "cell_type": "markdown",
   "metadata": {},
   "source": [
    "__Deaths on a country level__"
   ]
  },
  {
   "cell_type": "code",
   "execution_count": 23,
   "metadata": {},
   "outputs": [],
   "source": [
    "deaths_grouped = filtered_data.groupby(\"Country\")[\"Deaths\"].sum().reset_index(name=\"Deaths\")\n",
    "deaths_grouped.sort_values(by=\"Deaths\", ascending=False, inplace=True)\n",
    "\n",
    "df = countries_spread.merge(deaths_grouped, how=\"left\", on=\"Country\")"
   ]
  },
  {
   "cell_type": "code",
   "execution_count": 24,
   "metadata": {},
   "outputs": [],
   "source": [
    "# Lets remove China since it makes the charts very tailed\n",
    "\n",
    "df_ = df[df.Country != \"Mainland China\"]"
   ]
  },
  {
   "cell_type": "code",
   "execution_count": 25,
   "metadata": {},
   "outputs": [
    {
     "name": "stderr",
     "output_type": "stream",
     "text": [
      "/Users/d107520/venvs/mllib/lib/python3.7/site-packages/ipykernel_launcher.py:1: SettingWithCopyWarning:\n",
      "\n",
      "\n",
      "A value is trying to be set on a copy of a slice from a DataFrame\n",
      "\n",
      "See the caveats in the documentation: http://pandas.pydata.org/pandas-docs/stable/user_guide/indexing.html#returning-a-view-versus-a-copy\n",
      "\n"
     ]
    }
   ],
   "source": [
    "df_.sort_values(by=\"case count\", ascending=False, inplace=True)"
   ]
  },
  {
   "cell_type": "code",
   "execution_count": 26,
   "metadata": {},
   "outputs": [
    {
     "data": {
      "image/png": "[encoded data removed]",
      "text/plain": [
       "<Figure size 1296x432 with 1 Axes>"
      ]
     },
     "metadata": {
      "needs_background": "light"
     },
     "output_type": "display_data"
    }
   ],
   "source": [
    "f1 = plt.figure(figsize=(18,6))\n",
    "\n",
    "ax1 = f1.add_subplot(111)\n",
    "ax1.bar(df_[\"Country\"], df_[\"case count\"], alpha=0.5, color=\"Orange\")\n",
    "ax1.bar(df_[\"Country\"], df_[\"Deaths\"], alpha=0.6, color=\"Red\")\n",
    "\n",
    "ax1.set_xticks(range(0,len(df_)))\n",
    "ax1.set_xticklabels(df_[\"Country\"], rotation=45)\n",
    "plt.show()"
   ]
  },
  {
   "cell_type": "markdown",
   "metadata": {},
   "source": [
    "__Number of reports in a time series in China (Growth Rate)__"
   ]
  },
  {
   "cell_type": "code",
   "execution_count": 27,
   "metadata": {},
   "outputs": [],
   "source": [
    "china_data = data[(data.Country == 'China') | \n",
    "                  (data.Country == 'Mainland China')]"
   ]
  },
  {
   "cell_type": "code",
   "execution_count": 28,
   "metadata": {},
   "outputs": [
    {
     "name": "stderr",
     "output_type": "stream",
     "text": [
      "/Users/d107520/venvs/mllib/lib/python3.7/site-packages/ipykernel_launcher.py:1: SettingWithCopyWarning:\n",
      "\n",
      "\n",
      "A value is trying to be set on a copy of a slice from a DataFrame.\n",
      "Try using .loc[row_indexer,col_indexer] = value instead\n",
      "\n",
      "See the caveats in the documentation: http://pandas.pydata.org/pandas-docs/stable/user_guide/indexing.html#returning-a-view-versus-a-copy\n",
      "\n"
     ]
    }
   ],
   "source": [
    "china_data['date'] = china_data['Last Update'].dt.date"
   ]
  },
  {
   "cell_type": "markdown",
   "metadata": {},
   "source": [
    "Grouping on a day level and counting"
   ]
  },
  {
   "cell_type": "code",
   "execution_count": 29,
   "metadata": {},
   "outputs": [],
   "source": [
    "china_data_grouped = pd.DataFrame(china_data.groupby(\"date\")[\"Confirmed\"].sum().reset_index(name=\"Count\"))"
   ]
  },
  {
   "cell_type": "code",
   "execution_count": 30,
   "metadata": {},
   "outputs": [],
   "source": [
    "# Confirmed cases overall\n",
    "data['date'] = data['Last Update'].dt.date\n",
    "data_grouped_by_date = pd.DataFrame(data.groupby(\"date\")[\"Confirmed\"].sum().reset_index(name=\"Count\"))"
   ]
  },
  {
   "cell_type": "code",
   "execution_count": 31,
   "metadata": {},
   "outputs": [
    {
     "name": "stderr",
     "output_type": "stream",
     "text": [
      "/Users/d107520/venvs/mllib/lib/python3.7/site-packages/plotly/graph_objs/_deprecations.py:385: DeprecationWarning:\n",
      "\n",
      "plotly.graph_objs.Line is deprecated.\n",
      "Please replace it with one of the following more specific types\n",
      "  - plotly.graph_objs.scatter.Line\n",
      "  - plotly.graph_objs.layout.shape.Line\n",
      "  - etc.\n",
      "\n",
      "\n"
     ]
    },
    {
     "data": {
      "text/html": [
       "\n",
       "        <iframe\n",
       "            width=\"100%\"\n",
       "            height=\"525px\"\n",
       "            src=\"https://plot.ly/~sreejith_citizens/108.embed\"\n",
       "            frameborder=\"0\"\n",
       "            allowfullscreen\n",
       "        ></iframe>\n",
       "        "
      ],
      "text/plain": [
       "<IPython.lib.display.IFrame at 0x11e8db350>"
      ]
     },
     "execution_count": 31,
     "metadata": {},
     "output_type": "execute_result"
    },
    {
     "data": {
      "text/plain": [
       "<Figure size 1296x432 with 0 Axes>"
      ]
     },
     "metadata": {},
     "output_type": "display_data"
    }
   ],
   "source": [
    "f1 = plt.figure(figsize=(18,6))\n",
    "\n",
    "# ax1 = f1.add_subplot(111)\n",
    "# ax1.plot(china_data_grouped[\"date\"], \n",
    "#         china_data_grouped[\"Count\"], color=\"Red\")\n",
    "# ax1.plot(data_grouped_by_date[\"date\"], \n",
    "#         data_grouped_by_date[\"Count\"], color=\"Blue\")\n",
    "# ax1.set_title(\"Confirmed case count in China\")\n",
    "# plt.show()\n",
    "\n",
    "\n",
    "\n",
    "_data = [go.Line(\n",
    "            x=china_data_grouped[\"date\"],\n",
    "            y=china_data_grouped[\"Count\"],\n",
    "            name=\"China\"\n",
    "    ), go.Line(\n",
    "            x=data_grouped_by_date[\"date\"],\n",
    "            y=data_grouped_by_date[\"Count\"], \n",
    "            name=\"World\")]\n",
    "\n",
    "\n",
    "\n",
    "layout = go.Layout(\n",
    "    title='Confirmed case count in China/Overall',\n",
    "    \n",
    "    xaxis=dict(\n",
    "        title='Date',\n",
    "        titlefont=dict(\n",
    "            family='Lato',\n",
    "            size=18,\n",
    "            color='#7f7f7f'\n",
    "        )\n",
    "    ),\n",
    "    yaxis=dict(\n",
    "        title='Case Count Growth',\n",
    "        titlefont=dict(\n",
    "            family='Lato',\n",
    "            size=18,\n",
    "            color='#7f7f7f'\n",
    "        )\n",
    "    )\n",
    ")\n",
    "\n",
    "fig = go.Figure(data=_data, layout=layout)\n",
    "py.iplot(fig, filename='date_grouped')"
   ]
  },
  {
   "cell_type": "code",
   "execution_count": null,
   "metadata": {},
   "outputs": [],
   "source": []
  },
  {
   "cell_type": "code",
   "execution_count": null,
   "metadata": {},
   "outputs": [],
   "source": []
  },
  {
   "cell_type": "code",
   "execution_count": null,
   "metadata": {},
   "outputs": [],
   "source": [
    "∑"
   ]
  }
 ],
 "metadata": {
  "kernelspec": {
   "display_name": "mllib",
   "language": "python",
   "name": "mllib"
  },
  "language_info": {
   "codemirror_mode": {
    "name": "ipython",
    "version": 3
   },
   "file_extension": ".py",
   "mimetype": "text/x-python",
   "name": "python",
   "nbconvert_exporter": "python",
   "pygments_lexer": "ipython3",
   "version": "3.7.6"
  }
 },
 "nbformat": 4,
 "nbformat_minor": 4
}
