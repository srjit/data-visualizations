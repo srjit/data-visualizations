{
 "cells": [
  {
   "cell_type": "code",
   "execution_count": 1,
   "metadata": {},
   "outputs": [],
   "source": [
    "__author__ = \"Sreejith Sreekumar\"\n",
    "__email__ = \"sreekumar.s@husky.neu.edu\"\n",
    "__version__ = \"0.0.1\""
   ]
  },
  {
   "cell_type": "code",
   "execution_count": 2,
   "metadata": {},
   "outputs": [
    {
     "name": "stderr",
     "output_type": "stream",
     "text": [
      "ERROR:root:No traceback has been produced, nothing to debug.\n"
     ]
    }
   ],
   "source": [
    "%load_ext autoreload\n",
    "%autoreload 2\n",
    "%matplotlib inline\n",
    "%debug\n",
    "\n",
    "import warnings\n",
    "warnings.filterwarnings('ignore')"
   ]
  },
  {
   "cell_type": "code",
   "execution_count": 3,
   "metadata": {},
   "outputs": [],
   "source": [
    "import pandas as pd\n",
    "\n",
    "import plotly\n",
    "import plotly.plotly as py\n",
    "import plotly.graph_objs as go\n",
    "\n",
    "plotly.tools.set_credentials_file(username='srjit', api_key='lpKtXjzR7LBaqHwlxFQp')"
   ]
  },
  {
   "cell_type": "code",
   "execution_count": 4,
   "metadata": {},
   "outputs": [],
   "source": [
    "data = pd.read_csv(\"../data/prices.csv\")"
   ]
  },
  {
   "cell_type": "code",
   "execution_count": 9,
   "metadata": {},
   "outputs": [
    {
     "data": {
      "text/html": [
       "<div>\n",
       "<style scoped>\n",
       "    .dataframe tbody tr th:only-of-type {\n",
       "        vertical-align: middle;\n",
       "    }\n",
       "\n",
       "    .dataframe tbody tr th {\n",
       "        vertical-align: top;\n",
       "    }\n",
       "\n",
       "    .dataframe thead th {\n",
       "        text-align: right;\n",
       "    }\n",
       "</style>\n",
       "<table border=\"1\" class=\"dataframe\">\n",
       "  <thead>\n",
       "    <tr style=\"text-align: right;\">\n",
       "      <th></th>\n",
       "      <th>date</th>\n",
       "      <th>symbol</th>\n",
       "      <th>open</th>\n",
       "      <th>close</th>\n",
       "      <th>low</th>\n",
       "      <th>high</th>\n",
       "      <th>volume</th>\n",
       "    </tr>\n",
       "  </thead>\n",
       "  <tbody>\n",
       "    <tr>\n",
       "      <th>440</th>\n",
       "      <td>2010-01-04</td>\n",
       "      <td>GOOGL</td>\n",
       "      <td>626.950006</td>\n",
       "      <td>626.750011</td>\n",
       "      <td>624.240011</td>\n",
       "      <td>629.510005</td>\n",
       "      <td>3908400.0</td>\n",
       "    </tr>\n",
       "    <tr>\n",
       "      <th>908</th>\n",
       "      <td>2010-01-05</td>\n",
       "      <td>GOOGL</td>\n",
       "      <td>627.180001</td>\n",
       "      <td>623.990017</td>\n",
       "      <td>621.540016</td>\n",
       "      <td>627.839984</td>\n",
       "      <td>6003300.0</td>\n",
       "    </tr>\n",
       "    <tr>\n",
       "      <th>1376</th>\n",
       "      <td>2010-01-06</td>\n",
       "      <td>GOOGL</td>\n",
       "      <td>625.860033</td>\n",
       "      <td>608.260035</td>\n",
       "      <td>606.360021</td>\n",
       "      <td>625.860033</td>\n",
       "      <td>7949400.0</td>\n",
       "    </tr>\n",
       "    <tr>\n",
       "      <th>1844</th>\n",
       "      <td>2010-01-07</td>\n",
       "      <td>GOOGL</td>\n",
       "      <td>609.400008</td>\n",
       "      <td>594.100015</td>\n",
       "      <td>592.649990</td>\n",
       "      <td>609.999993</td>\n",
       "      <td>12815700.0</td>\n",
       "    </tr>\n",
       "    <tr>\n",
       "      <th>2312</th>\n",
       "      <td>2010-01-08</td>\n",
       "      <td>GOOGL</td>\n",
       "      <td>592.000005</td>\n",
       "      <td>602.020005</td>\n",
       "      <td>589.110015</td>\n",
       "      <td>603.250036</td>\n",
       "      <td>9439100.0</td>\n",
       "    </tr>\n",
       "  </tbody>\n",
       "</table>\n",
       "</div>"
      ],
      "text/plain": [
       "            date symbol        open       close         low        high  \\\n",
       "440   2010-01-04  GOOGL  626.950006  626.750011  624.240011  629.510005   \n",
       "908   2010-01-05  GOOGL  627.180001  623.990017  621.540016  627.839984   \n",
       "1376  2010-01-06  GOOGL  625.860033  608.260035  606.360021  625.860033   \n",
       "1844  2010-01-07  GOOGL  609.400008  594.100015  592.649990  609.999993   \n",
       "2312  2010-01-08  GOOGL  592.000005  602.020005  589.110015  603.250036   \n",
       "\n",
       "          volume  \n",
       "440    3908400.0  \n",
       "908    6003300.0  \n",
       "1376   7949400.0  \n",
       "1844  12815700.0  \n",
       "2312   9439100.0  "
      ]
     },
     "execution_count": 9,
     "metadata": {},
     "output_type": "execute_result"
    }
   ],
   "source": [
    "data[data.symbol == \"GOOGL\"].head()"
   ]
  },
  {
   "cell_type": "code",
   "execution_count": 6,
   "metadata": {},
   "outputs": [
    {
     "data": {
      "text/plain": [
       "array(['WLTW', 'A', 'AAL', 'AAP', 'AAPL', 'ABC', 'ABT', 'ACN', 'ADBE',\n",
       "       'ADI'], dtype=object)"
      ]
     },
     "execution_count": 6,
     "metadata": {},
     "output_type": "execute_result"
    }
   ],
   "source": [
    "data.symbol.unique()[:10]"
   ]
  },
  {
   "cell_type": "code",
   "execution_count": 7,
   "metadata": {},
   "outputs": [
    {
     "data": {
      "text/plain": [
       "501"
      ]
     },
     "execution_count": 7,
     "metadata": {},
     "output_type": "execute_result"
    }
   ],
   "source": [
    "len(data.symbol.unique())"
   ]
  },
  {
   "cell_type": "markdown",
   "metadata": {},
   "source": [
    "Qn 4.\n",
    "\n",
    "\n",
    "      Key Columns:\n",
    "          symbol\n",
    "           \n",
    "      Value Columns:\n",
    "          open, close, low, high, volume\n",
    "          \n",
    "          \n",
    "          \n",
    "## TODO - Why are they called that?          "
   ]
  },
  {
   "cell_type": "markdown",
   "metadata": {},
   "source": [
    "## Task 1: How has apple stock price been varying over the years?"
   ]
  },
  {
   "cell_type": "code",
   "execution_count": 8,
   "metadata": {},
   "outputs": [
    {
     "name": "stdout",
     "output_type": "stream",
     "text": [
      "High five! You successfully sent some data to your account on plotly. View your plot in your browser at https://plot.ly/~srjit/0 or inside your plot.ly account where it is named 'simple_ohlc'\n"
     ]
    },
    {
     "data": {
      "text/html": [
       "<iframe id=\"igraph\" scrolling=\"no\" style=\"border:none;\" seamless=\"seamless\" src=\"https://plot.ly/~srjit/0.embed\" height=\"525px\" width=\"100%\"></iframe>"
      ],
      "text/plain": [
       "<plotly.tools.PlotlyDisplay object>"
      ]
     },
     "execution_count": 8,
     "metadata": {},
     "output_type": "execute_result"
    }
   ],
   "source": [
    "# Variation of AAPL Stock\n",
    "# Ref: https://plot.ly/python/ohlc-charts/\n",
    "\n",
    "\n",
    "aapl = data[data.symbol == \"AAPL\"]\n",
    "trace = go.Ohlc(x=aapl['date'],\n",
    "                open=aapl['open'],\n",
    "                high=aapl['high'],\n",
    "                low=aapl['low'],\n",
    "                close=aapl['close'],\n",
    "                increasing=dict(line=dict(color= '#17BECF')),\n",
    "                decreasing=dict(line=dict(color= '#7F7F7F')))\n",
    "\n",
    "layout = {\n",
    "    'title' : 'AAPL Stock Variation',\n",
    "    'yaxis' : {'title': 'Stock Value'},\n",
    "    'xaxis' : {'title' : 'Year'},\n",
    "    'shapes': [{\n",
    "        'x0': '2014-06-09', 'x1': '2014-06-09',\n",
    "        'y0': 0, 'y1': 1, 'xref': 'x', 'yref': 'paper',\n",
    "        'line': {'color': 'rgb(30,30,30)', 'width': 1}\n",
    "    }],\n",
    "     'annotations': [{\n",
    "        'x': '2014-06-09', 'y': 0.05, 'xref': 'x', 'yref': 'paper',\n",
    "        'showarrow': False, 'xanchor': 'left',\n",
    "        'text': 'Steep Drop in Stock Price'\n",
    "    }]\n",
    "}\n",
    "\n",
    "data_aapl = [trace]\n",
    "fig = dict(data=data_aapl, layout=layout)\n",
    "\n",
    "py.iplot(fig, filename='simple_ohlc')"
   ]
  },
  {
   "cell_type": "markdown",
   "metadata": {},
   "source": [
    "The Open High Low Chart from Plotly has been chosen to encode the stock price data of AAPL visually.\n",
    "Every point in the encoding showing the open, high and low values of a particular day with an interactive tooltip.\n",
    "The tooltip takes multi colored background to encode the rise or fall of the stock price (green - rise, gray - fall).\n",
    "\n",
    "The plot shows the variation in the stock price of apple according to the data from new york stock exchange.\n",
    "\n",
    "The visualization shows a number of details for the interested user:\n",
    "  - How the price has been varying around a certain period\n",
    "  - Has there been steep falls (marked by the bold heavy line at 2014 June\n",
    "  - The interactive tooltip on the line shows if there has been a rise or fall from the previous closing (marked by background colors and the pointed arrow)\n",
    "\n",
    "\n"
   ]
  },
  {
   "cell_type": "markdown",
   "metadata": {},
   "source": [
    "## Task 2: Rolled up stock prices of GOOGL"
   ]
  },
  {
   "cell_type": "code",
   "execution_count": 10,
   "metadata": {},
   "outputs": [],
   "source": [
    "googl = data[data.symbol == \"GOOGL\"]\n",
    "googl['mean_high'] = data['high'].rolling(30).mean()"
   ]
  },
  {
   "cell_type": "code",
   "execution_count": null,
   "metadata": {},
   "outputs": [],
   "source": []
  }
 ],
 "metadata": {
  "kernelspec": {
   "display_name": "Python 3",
   "language": "python",
   "name": "python3"
  },
  "language_info": {
   "codemirror_mode": {
    "name": "ipython",
    "version": 3
   },
   "file_extension": ".py",
   "mimetype": "text/x-python",
   "name": "python",
   "nbconvert_exporter": "python",
   "pygments_lexer": "ipython3",
   "version": "3.6.7"
  }
 },
 "nbformat": 4,
 "nbformat_minor": 2
}
