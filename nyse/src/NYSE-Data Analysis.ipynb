{
 "cells": [
  {
   "cell_type": "code",
   "execution_count": 1,
   "metadata": {},
   "outputs": [],
   "source": [
    "__author__ = \"Sreejith Sreekumar\"\n",
    "__email__ = \"sreekumar.s@husky.neu.edu\"\n",
    "__version__ = \"0.0.1\""
   ]
  },
  {
   "cell_type": "code",
   "execution_count": 2,
   "metadata": {},
   "outputs": [
    {
     "name": "stderr",
     "output_type": "stream",
     "text": [
      "ERROR:root:No traceback has been produced, nothing to debug.\n"
     ]
    }
   ],
   "source": [
    "%load_ext autoreload\n",
    "%autoreload 2\n",
    "%matplotlib inline\n",
    "%debug\n",
    "\n",
    "import warnings\n",
    "warnings.filterwarnings('ignore')"
   ]
  },
  {
   "cell_type": "code",
   "execution_count": 3,
   "metadata": {},
   "outputs": [],
   "source": [
    "import pandas as pd\n",
    "\n",
    "import plotly\n",
    "import plotly.plotly as py\n",
    "import plotly.graph_objs as go\n",
    "\n",
    "plotly.tools.set_credentials_file(username='srjit', api_key='lpKtXjzR7LBaqHwlxFQp')"
   ]
  },
  {
   "cell_type": "code",
   "execution_count": 4,
   "metadata": {},
   "outputs": [],
   "source": [
    "data = pd.read_csv(\"../data/prices.csv\")"
   ]
  },
  {
   "cell_type": "code",
   "execution_count": 5,
   "metadata": {},
   "outputs": [
    {
     "data": {
      "text/html": [
       "<div>\n",
       "<style scoped>\n",
       "    .dataframe tbody tr th:only-of-type {\n",
       "        vertical-align: middle;\n",
       "    }\n",
       "\n",
       "    .dataframe tbody tr th {\n",
       "        vertical-align: top;\n",
       "    }\n",
       "\n",
       "    .dataframe thead th {\n",
       "        text-align: right;\n",
       "    }\n",
       "</style>\n",
       "<table border=\"1\" class=\"dataframe\">\n",
       "  <thead>\n",
       "    <tr style=\"text-align: right;\">\n",
       "      <th></th>\n",
       "      <th>date</th>\n",
       "      <th>symbol</th>\n",
       "      <th>open</th>\n",
       "      <th>close</th>\n",
       "      <th>low</th>\n",
       "      <th>high</th>\n",
       "      <th>volume</th>\n",
       "    </tr>\n",
       "  </thead>\n",
       "  <tbody>\n",
       "    <tr>\n",
       "      <th>354496</th>\n",
       "      <td>2013-01-02</td>\n",
       "      <td>FB</td>\n",
       "      <td>27.440001</td>\n",
       "      <td>28.000000</td>\n",
       "      <td>27.420000</td>\n",
       "      <td>28.180000</td>\n",
       "      <td>69846400.0</td>\n",
       "    </tr>\n",
       "    <tr>\n",
       "      <th>354979</th>\n",
       "      <td>2013-01-03</td>\n",
       "      <td>FB</td>\n",
       "      <td>27.879999</td>\n",
       "      <td>27.770000</td>\n",
       "      <td>27.590000</td>\n",
       "      <td>28.469999</td>\n",
       "      <td>63140600.0</td>\n",
       "    </tr>\n",
       "    <tr>\n",
       "      <th>355462</th>\n",
       "      <td>2013-01-04</td>\n",
       "      <td>FB</td>\n",
       "      <td>28.010000</td>\n",
       "      <td>28.760000</td>\n",
       "      <td>27.830000</td>\n",
       "      <td>28.930000</td>\n",
       "      <td>72715400.0</td>\n",
       "    </tr>\n",
       "    <tr>\n",
       "      <th>355945</th>\n",
       "      <td>2013-01-07</td>\n",
       "      <td>FB</td>\n",
       "      <td>28.690001</td>\n",
       "      <td>29.420000</td>\n",
       "      <td>28.650000</td>\n",
       "      <td>29.790001</td>\n",
       "      <td>83781800.0</td>\n",
       "    </tr>\n",
       "    <tr>\n",
       "      <th>356428</th>\n",
       "      <td>2013-01-08</td>\n",
       "      <td>FB</td>\n",
       "      <td>29.510000</td>\n",
       "      <td>29.059999</td>\n",
       "      <td>28.860001</td>\n",
       "      <td>29.600000</td>\n",
       "      <td>45871300.0</td>\n",
       "    </tr>\n",
       "  </tbody>\n",
       "</table>\n",
       "</div>"
      ],
      "text/plain": [
       "              date symbol       open      close        low       high  \\\n",
       "354496  2013-01-02     FB  27.440001  28.000000  27.420000  28.180000   \n",
       "354979  2013-01-03     FB  27.879999  27.770000  27.590000  28.469999   \n",
       "355462  2013-01-04     FB  28.010000  28.760000  27.830000  28.930000   \n",
       "355945  2013-01-07     FB  28.690001  29.420000  28.650000  29.790001   \n",
       "356428  2013-01-08     FB  29.510000  29.059999  28.860001  29.600000   \n",
       "\n",
       "            volume  \n",
       "354496  69846400.0  \n",
       "354979  63140600.0  \n",
       "355462  72715400.0  \n",
       "355945  83781800.0  \n",
       "356428  45871300.0  "
      ]
     },
     "execution_count": 5,
     "metadata": {},
     "output_type": "execute_result"
    }
   ],
   "source": [
    "data[data.symbol == \"FB\"].head()"
   ]
  },
  {
   "cell_type": "code",
   "execution_count": 6,
   "metadata": {},
   "outputs": [
    {
     "data": {
      "text/plain": [
       "array(['WLTW', 'A', 'AAL', 'AAP', 'AAPL', 'ABC', 'ABT', 'ACN', 'ADBE',\n",
       "       'ADI', 'ADM', 'ADP', 'ADS', 'ADSK', 'AEE', 'AEP', 'AES', 'AET',\n",
       "       'AFL', 'AGN', 'AIG', 'AIZ', 'AJG', 'AKAM', 'ALB', 'ALK', 'ALL',\n",
       "       'ALXN', 'AMAT', 'AME', 'AMG', 'AMGN', 'AMP', 'AMT', 'AMZN', 'AN',\n",
       "       'ANTM', 'AON', 'APA', 'APC', 'APD', 'APH', 'ARNC', 'ATVI', 'AVB',\n",
       "       'AVGO', 'AVY', 'AWK', 'AXP', 'AYI'], dtype=object)"
      ]
     },
     "execution_count": 6,
     "metadata": {},
     "output_type": "execute_result"
    }
   ],
   "source": [
    "data.symbol.unique()[:50]"
   ]
  },
  {
   "cell_type": "code",
   "execution_count": 7,
   "metadata": {},
   "outputs": [
    {
     "data": {
      "text/plain": [
       "501"
      ]
     },
     "execution_count": 7,
     "metadata": {},
     "output_type": "execute_result"
    }
   ],
   "source": [
    "len(data.symbol.unique())"
   ]
  },
  {
   "cell_type": "markdown",
   "metadata": {},
   "source": [
    "__Qn 4. Label the 7 columns in the dataset as key or value columns (see Munzner 2.6). Include this write-up in a markup cell. Write a couple of sentences justifying your choice.__\n",
    "\n",
    "    Value Columns:\n",
    "          date, symbol, open, close, low, high, volume\n",
    "          \n",
    "          \n",
    "There are no attributes which can be used to index the _items_. Hence we do not have any key columns for the dataset."
   ]
  },
  {
   "cell_type": "markdown",
   "metadata": {},
   "source": [
    "# Task: Analyze the stock price variations of AAPL (Apple)\n",
    "\n",
    "\n",
    "\n",
    "How is the user analyzing it? Task Abstraction\n",
    "\n",
    "__Actions__\n",
    "\n",
    "__Analyze__\n",
    "   Targets for the analysis are known  - Date Ranges, Which of the values are under consideration (Open, High, Low or Close), and the Company Symbol\n",
    "   \n",
    "__Discover__\n",
    "   We can clearly see a steep drop in the rising stock during the June of 2014"
   ]
  },
  {
   "cell_type": "markdown",
   "metadata": {},
   "source": [
    "## Encoding 1: How has apple stock price been varying over the years?"
   ]
  },
  {
   "cell_type": "code",
   "execution_count": 8,
   "metadata": {},
   "outputs": [
    {
     "name": "stdout",
     "output_type": "stream",
     "text": [
      "High five! You successfully sent some data to your account on plotly. View your plot in your browser at https://plot.ly/~srjit/0 or inside your plot.ly account where it is named 'simple_ohlc'\n"
     ]
    },
    {
     "data": {
      "text/html": [
       "<iframe id=\"igraph\" scrolling=\"no\" style=\"border:none;\" seamless=\"seamless\" src=\"https://plot.ly/~srjit/0.embed\" height=\"525px\" width=\"100%\"></iframe>"
      ],
      "text/plain": [
       "<plotly.tools.PlotlyDisplay object>"
      ]
     },
     "execution_count": 8,
     "metadata": {},
     "output_type": "execute_result"
    }
   ],
   "source": [
    "# Variation of AAPL Stock\n",
    "# Ref: https://plot.ly/python/ohlc-charts/\n",
    "\n",
    "\n",
    "aapl = data[data.symbol == \"AAPL\"]\n",
    "trace = go.Ohlc(x=aapl['date'],\n",
    "                open=aapl['open'],\n",
    "                high=aapl['high'],\n",
    "                low=aapl['low'],\n",
    "                close=aapl['close'],\n",
    "                increasing=dict(line=dict(color= '#17BECF')),\n",
    "                decreasing=dict(line=dict(color= '#7F7F7F')))\n",
    "\n",
    "layout = {\n",
    "    'title' : 'AAPL Stock Variation',\n",
    "    'yaxis' : {'title': 'Stock Value'},\n",
    "    'xaxis' : {'title' : 'Year'},\n",
    "    'shapes': [{\n",
    "        'x0': '2014-06-09', 'x1': '2014-06-09',\n",
    "        'y0': 0, 'y1': 1, 'xref': 'x', 'yref': 'paper',\n",
    "        'line': {'color': 'rgb(30,30,30)', 'width': 1}\n",
    "    }],\n",
    "     'annotations': [{\n",
    "        'x': '2014-06-09', 'y': 0.05, 'xref': 'x', 'yref': 'paper',\n",
    "        'showarrow': False, 'xanchor': 'left',\n",
    "        'text': 'Steep Drop in Stock Price'\n",
    "    }]\n",
    "}\n",
    "\n",
    "data_aapl = [trace]\n",
    "fig = dict(data=data_aapl, layout=layout)\n",
    "\n",
    "py.iplot(fig, filename='simple_ohlc')"
   ]
  },
  {
   "cell_type": "markdown",
   "metadata": {},
   "source": [
    "The Open High Low Chart from Plotly has been chosen to encode the stock price data of AAPL visually.\n",
    "Every point in the encoding showing the open, high and low values of a particular day with an interactive tooltip.\n",
    "The tooltip takes multi colored background to encode the rise or fall of the stock price (green - rise, gray - fall).\n",
    "\n",
    "The plot shows the variation in the stock price of apple according to the data from new york stock exchange.\n",
    "\n",
    "The visualization shows a number of details for the interested user:\n",
    "  - How the price has been varying around a certain period\n",
    "  - Has there been steep falls (marked by the bold heavy line at 2014 June\n",
    "  - The interactive tooltip on the line shows if there has been a rise or fall from the previous closing (marked by background colors and the pointed arrow)\n",
    "\n",
    "\n"
   ]
  },
  {
   "cell_type": "markdown",
   "metadata": {},
   "source": [
    "## Encoding 2: Visualize the __Change__ in stock price of AAPL from the previous day"
   ]
  },
  {
   "cell_type": "code",
   "execution_count": 9,
   "metadata": {},
   "outputs": [
    {
     "data": {
      "text/html": [
       "<iframe id=\"igraph\" scrolling=\"no\" style=\"border:none;\" seamless=\"seamless\" src=\"https://plot.ly/~srjit/26.embed\" height=\"525px\" width=\"100%\"></iframe>"
      ],
      "text/plain": [
       "<plotly.tools.PlotlyDisplay object>"
      ]
     },
     "execution_count": 9,
     "metadata": {},
     "output_type": "execute_result"
    }
   ],
   "source": [
    "import numpy as np\n",
    "\n",
    "aapl_close = aapl[[\"close\"]]\n",
    "dates = aapl[[\"date\"]]\n",
    "\n",
    " \n",
    "aapl_change = aapl_close.apply(lambda x: np.log(x) - np.log(x.shift(1))) # shift moves dates back by 1.\n",
    "\n",
    "\n",
    "layout = dict(title = 'Change in AAPL stock from the previous day',\n",
    "               xaxis=dict(\n",
    "                    title = 'Date',\n",
    "                    tickcolor='#000'\n",
    "                ),\n",
    "                yaxis=dict(\n",
    "                    title = 'Variations in stock price',\n",
    "                    tickcolor='#000'\n",
    "                    )\n",
    "              )\n",
    "\n",
    "\n",
    "# Create a trace\n",
    "trace = go.Scatter(\n",
    "    x = dates,\n",
    "    y = aapl_change)\n",
    "\n",
    "\n",
    "data_aapl_change = [trace]\n",
    "fig = dict(data=data_aapl_change, layout=layout)\n",
    "\n",
    "py.iplot(fig)"
   ]
  },
  {
   "cell_type": "markdown",
   "metadata": {},
   "source": [
    "The simple line plot from plotly has been chosen to see the apple stock price variations from the previous day. Without too many color encodings the differences can be shows very efficiently through the line graph.\n",
    "\n",
    "The plot shows the change the variation of AAPL stock from the previous day. It presents all the variations \n",
    "in prices from all the subsequent dates in the dataset - on zooming in on a range of dates, the scales adjust themselves to give an clearer overview of what is happening to the stock during that period of time. The interative tooltip also provides the actual value of rise or fall of the stock.\n",
    "\n",
    "The visualization shows a number of details for the interested user:\n",
    "\n",
    "   - Has there been steep variations in the stock prices from the previous day?\n",
    "   - If yes, what was the event in time which caused it - A steep rise (Could be the release of an Apple product?) or A steep fall (Something went wrong in the company or a product?)\n",
    "     \n",
    "\n",
    "\n"
   ]
  },
  {
   "cell_type": "markdown",
   "metadata": {},
   "source": [
    "__Extra Task:__"
   ]
  },
  {
   "cell_type": "markdown",
   "metadata": {},
   "source": [
    "## Task 2: How are the growth rates of GOOGL (Google) over different periods in time?"
   ]
  },
  {
   "cell_type": "code",
   "execution_count": 10,
   "metadata": {},
   "outputs": [],
   "source": [
    "googl = data[data.symbol == \"GOOGL\"]"
   ]
  },
  {
   "cell_type": "code",
   "execution_count": 11,
   "metadata": {},
   "outputs": [
    {
     "data": {
      "text/html": [
       "<iframe id=\"igraph\" scrolling=\"no\" style=\"border:none;\" seamless=\"seamless\" src=\"https://plot.ly/~srjit/6.embed\" height=\"525px\" width=\"100%\"></iframe>"
      ],
      "text/plain": [
       "<plotly.tools.PlotlyDisplay object>"
      ]
     },
     "execution_count": 11,
     "metadata": {},
     "output_type": "execute_result"
    }
   ],
   "source": [
    "## Ref: https://plot.ly/python/time-series/\n",
    "\n",
    "trace_high = go.Scatter(\n",
    "                x=googl.date,\n",
    "                y=googl['high'],\n",
    "                name = \"High\",\n",
    "                line = dict(color = '#228B22'),\n",
    "                opacity = 0.8)\n",
    "\n",
    "trace_low = go.Scatter(\n",
    "                x=googl.date,\n",
    "                y=googl['low'],\n",
    "                name = \"Low\",\n",
    "                line = dict(color = '#B22222'),\n",
    "                opacity = 0.8)\n",
    "\n",
    "data_googl = [trace_high,trace_low]\n",
    "\n",
    "layout = {\n",
    "    'title' : 'GOOGLE Stock Variation',\n",
    "    'yaxis' : {'title': 'Stock Value'},\n",
    "    'xaxis' : {'title' : 'Year',\n",
    "               'range' : ['2014-01-01','2016-12-01'],\n",
    "               'rangeselector' : dict(\n",
    "                                buttons=list([\n",
    "                                    dict(count=1,\n",
    "                                         label='1m',\n",
    "                                         step='month',\n",
    "                                         stepmode='backward'),\n",
    "                                    dict(count=6,\n",
    "                                         label='6m',\n",
    "                                         step='month',\n",
    "                                         stepmode='backward'),\n",
    "                                    dict(count=1,\n",
    "                                         label='1y',\n",
    "                                         step='year',\n",
    "                                         stepmode='backward'),\n",
    "                                    dict(count=5,\n",
    "                                         label='5y',\n",
    "                                         step='year',\n",
    "                                         stepmode='backward'),                                    \n",
    "                                    dict(step='all')\n",
    "                                    ])\n",
    "                ),\n",
    "               \"rangeslider\" : dict(\n",
    "                    visible = True\n",
    "                ),\n",
    "               \"type\" : 'date'\n",
    "              }\n",
    "    \n",
    "}\n",
    "\n",
    "\n",
    "fig = dict(data=data_googl, layout=layout)\n",
    "py.iplot(fig, filename = \"Variation of High and Low of Google Stock Prices\")"
   ]
  },
  {
   "cell_type": "markdown",
   "metadata": {},
   "source": [
    "The plot shows the high and low values in stock prices of google over the entire period in data. The high and low values are encoded by the green and red colors respectively. Similar to google's stock chart, there are different scales at which the variations can be  viewed. The interactive tooltip shows the values of high and low at the selected point in time.\n",
    "\n",
    "\n",
    "The plot shows the variation of high and low values of days from 2014-2016 in the stock price of google according to the data from new york stock exchange.\n",
    "\n",
    "\n",
    "The visualization shows a number of details for the interested user:\n",
    "\n",
    "   - How the increase/decrese in the stock prices been over various periods (6 months / 1 year/ 5 years)? \n",
    "   - Has there been significant deviation in high and low prices on any significant day?\n",
    "   - How has the stock prices of google been varying over time?"
   ]
  }
 ],
 "metadata": {
  "kernelspec": {
   "display_name": "Python 3",
   "language": "python",
   "name": "python3"
  },
  "language_info": {
   "codemirror_mode": {
    "name": "ipython",
    "version": 3
   },
   "file_extension": ".py",
   "mimetype": "text/x-python",
   "name": "python",
   "nbconvert_exporter": "python",
   "pygments_lexer": "ipython3",
   "version": "3.6.7"
  }
 },
 "nbformat": 4,
 "nbformat_minor": 2
}
