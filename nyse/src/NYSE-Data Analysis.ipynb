{
 "cells": [
  {
   "cell_type": "code",
   "execution_count": null,
   "metadata": {},
   "outputs": [],
   "source": []
  },
  {
   "cell_type": "code",
   "execution_count": 3,
   "metadata": {},
   "outputs": [],
   "source": [
    "import pandas as pd\n",
    "\n",
    "import plotly\n",
    "import plotly.plotly as py\n",
    "import plotly.graph_objs as go\n",
    "\n",
    "plotly.tools.set_credentials_file(username='srjit', api_key='lpKtXjzR7LBaqHwlxFQp')"
   ]
  },
  {
   "cell_type": "code",
   "execution_count": 11,
   "metadata": {},
   "outputs": [],
   "source": [
    "data = pd.read_csv(\"../data/prices.csv\")"
   ]
  },
  {
   "cell_type": "code",
   "execution_count": 19,
   "metadata": {},
   "outputs": [
    {
     "data": {
      "text/html": [
       "<div>\n",
       "<style scoped>\n",
       "    .dataframe tbody tr th:only-of-type {\n",
       "        vertical-align: middle;\n",
       "    }\n",
       "\n",
       "    .dataframe tbody tr th {\n",
       "        vertical-align: top;\n",
       "    }\n",
       "\n",
       "    .dataframe thead th {\n",
       "        text-align: right;\n",
       "    }\n",
       "</style>\n",
       "<table border=\"1\" class=\"dataframe\">\n",
       "  <thead>\n",
       "    <tr style=\"text-align: right;\">\n",
       "      <th></th>\n",
       "      <th>date</th>\n",
       "      <th>symbol</th>\n",
       "      <th>open</th>\n",
       "      <th>close</th>\n",
       "      <th>low</th>\n",
       "      <th>high</th>\n",
       "      <th>volume</th>\n",
       "    </tr>\n",
       "  </thead>\n",
       "  <tbody>\n",
       "    <tr>\n",
       "      <th>254</th>\n",
       "      <td>2010-01-04</td>\n",
       "      <td>AAPL</td>\n",
       "      <td>213.429998</td>\n",
       "      <td>214.009998</td>\n",
       "      <td>212.380001</td>\n",
       "      <td>214.499996</td>\n",
       "      <td>123432400.0</td>\n",
       "    </tr>\n",
       "    <tr>\n",
       "      <th>721</th>\n",
       "      <td>2010-01-05</td>\n",
       "      <td>AAPL</td>\n",
       "      <td>214.599998</td>\n",
       "      <td>214.379993</td>\n",
       "      <td>213.249994</td>\n",
       "      <td>215.589994</td>\n",
       "      <td>150476200.0</td>\n",
       "    </tr>\n",
       "    <tr>\n",
       "      <th>1189</th>\n",
       "      <td>2010-01-06</td>\n",
       "      <td>AAPL</td>\n",
       "      <td>214.379993</td>\n",
       "      <td>210.969995</td>\n",
       "      <td>210.750004</td>\n",
       "      <td>215.230000</td>\n",
       "      <td>138040000.0</td>\n",
       "    </tr>\n",
       "    <tr>\n",
       "      <th>1657</th>\n",
       "      <td>2010-01-07</td>\n",
       "      <td>AAPL</td>\n",
       "      <td>211.750000</td>\n",
       "      <td>210.580000</td>\n",
       "      <td>209.050005</td>\n",
       "      <td>212.000006</td>\n",
       "      <td>119282800.0</td>\n",
       "    </tr>\n",
       "    <tr>\n",
       "      <th>2125</th>\n",
       "      <td>2010-01-08</td>\n",
       "      <td>AAPL</td>\n",
       "      <td>210.299994</td>\n",
       "      <td>211.980005</td>\n",
       "      <td>209.060005</td>\n",
       "      <td>212.000006</td>\n",
       "      <td>111902700.0</td>\n",
       "    </tr>\n",
       "  </tbody>\n",
       "</table>\n",
       "</div>"
      ],
      "text/plain": [
       "            date symbol        open       close         low        high  \\\n",
       "254   2010-01-04   AAPL  213.429998  214.009998  212.380001  214.499996   \n",
       "721   2010-01-05   AAPL  214.599998  214.379993  213.249994  215.589994   \n",
       "1189  2010-01-06   AAPL  214.379993  210.969995  210.750004  215.230000   \n",
       "1657  2010-01-07   AAPL  211.750000  210.580000  209.050005  212.000006   \n",
       "2125  2010-01-08   AAPL  210.299994  211.980005  209.060005  212.000006   \n",
       "\n",
       "           volume  \n",
       "254   123432400.0  \n",
       "721   150476200.0  \n",
       "1189  138040000.0  \n",
       "1657  119282800.0  \n",
       "2125  111902700.0  "
      ]
     },
     "execution_count": 19,
     "metadata": {},
     "output_type": "execute_result"
    }
   ],
   "source": [
    "data[data.symbol == \"AAPL\"].head()"
   ]
  },
  {
   "cell_type": "code",
   "execution_count": 16,
   "metadata": {},
   "outputs": [
    {
     "data": {
      "text/plain": [
       "array(['WLTW', 'A', 'AAL', 'AAP', 'AAPL', 'ABC', 'ABT', 'ACN', 'ADBE',\n",
       "       'ADI'], dtype=object)"
      ]
     },
     "execution_count": 16,
     "metadata": {},
     "output_type": "execute_result"
    }
   ],
   "source": [
    "data.symbol.unique()[:10]"
   ]
  },
  {
   "cell_type": "code",
   "execution_count": 14,
   "metadata": {},
   "outputs": [
    {
     "data": {
      "text/plain": [
       "501"
      ]
     },
     "execution_count": 14,
     "metadata": {},
     "output_type": "execute_result"
    }
   ],
   "source": [
    "len(data.symbol.unique())"
   ]
  },
  {
   "cell_type": "markdown",
   "metadata": {},
   "source": [
    "Qn 4.\n",
    "\n",
    "\n",
    "      Key Columns:\n",
    "          symbol\n",
    "           \n",
    "      Value Columns:\n",
    "          open, close, low, high, volume\n",
    "          \n",
    "          \n",
    "          \n",
    "## TODO - Why are they called that?          "
   ]
  },
  {
   "cell_type": "markdown",
   "metadata": {},
   "source": [
    "__Task 1: How has apple stock price been varying over the years?__"
   ]
  },
  {
   "cell_type": "code",
   "execution_count": 25,
   "metadata": {},
   "outputs": [
    {
     "name": "stdout",
     "output_type": "stream",
     "text": [
      "High five! You successfully sent some data to your account on plotly. View your plot in your browser at https://plot.ly/~srjit/0 or inside your plot.ly account where it is named 'simple_ohlc'\n"
     ]
    },
    {
     "data": {
      "text/html": [
       "<iframe id=\"igraph\" scrolling=\"no\" style=\"border:none;\" seamless=\"seamless\" src=\"https://plot.ly/~srjit/0.embed\" height=\"525px\" width=\"100%\"></iframe>"
      ],
      "text/plain": [
       "<plotly.tools.PlotlyDisplay object>"
      ]
     },
     "execution_count": 25,
     "metadata": {},
     "output_type": "execute_result"
    }
   ],
   "source": [
    "# Variation of AAPL Stock\n",
    "# Ref: https://plot.ly/python/ohlc-charts/\n",
    "\n",
    "\n",
    "aapl = data[data.symbol == \"AAPL\"]\n",
    "trace = go.Ohlc(x=aapl['date'],\n",
    "                open=aapl['open'],\n",
    "                high=aapl['high'],\n",
    "                low=aapl['low'],\n",
    "                close=aapl['close'],\n",
    "                increasing=dict(line=dict(color= '#17BECF')),\n",
    "                decreasing=dict(line=dict(color= '#7F7F7F')))\n",
    "\n",
    "layout = {\n",
    "    'title' : 'AAPL Stock Variation',\n",
    "    'yaxis' : {'title': 'Stock Value'},\n",
    "    'xaxis' : {'title' : 'Year'},\n",
    "    'shapes': [{\n",
    "        'x0': '2014-06-09', 'x1': '2014-06-09',\n",
    "        'y0': 0, 'y1': 1, 'xref': 'x', 'yref': 'paper',\n",
    "        'line': {'color': 'rgb(30,30,30)', 'width': 1}\n",
    "    }],\n",
    "     'annotations': [{\n",
    "        'x': '2014-06-09', 'y': 0.05, 'xref': 'x', 'yref': 'paper',\n",
    "        'showarrow': False, 'xanchor': 'left',\n",
    "        'text': 'Steep Drop in Stock Price'\n",
    "    }]\n",
    "}\n",
    "\n",
    "data_aapl = [trace]\n",
    "fig = dict(data=data_aapl, layout=layout)\n",
    "\n",
    "py.iplot(fig, filename='simple_ohlc')"
   ]
  },
  {
   "cell_type": "markdown",
   "metadata": {},
   "source": [
    "The Open High Low Chart from Plotly has been chosen to encode the stock price data of AAPL visually.\n",
    "Every point in the encoding showing the open, high and low values of a particular day with an interactive tooltip.\n",
    "The tooltip takes multi colored background to encode the rise or fall of the stock price (green - rise, gray - fall).\n",
    "\n",
    "The plot shows the variation in the stock price of apple according to the data from new york stock exchange.\n",
    "\n",
    "The visualization shows a number of details for the interested user:\n",
    "  - How the price has been varying around a certain period\n",
    "  - Has there been steep falls (marked by the bold heavy line at 2014 June\n",
    "  - The interactive tooltip on the line shows if there has been a rise or fall from the previous closing (marked by background colors and the pointed arrow)\n",
    "\n",
    "\n"
   ]
  },
  {
   "cell_type": "code",
   "execution_count": null,
   "metadata": {},
   "outputs": [],
   "source": []
  }
 ],
 "metadata": {
  "kernelspec": {
   "display_name": "Python 3",
   "language": "python",
   "name": "python3"
  },
  "language_info": {
   "codemirror_mode": {
    "name": "ipython",
    "version": 3
   },
   "file_extension": ".py",
   "mimetype": "text/x-python",
   "name": "python",
   "nbconvert_exporter": "python",
   "pygments_lexer": "ipython3",
   "version": "3.6.7"
  }
 },
 "nbformat": 4,
 "nbformat_minor": 2
}
