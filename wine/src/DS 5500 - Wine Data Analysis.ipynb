{
 "cells": [
  {
   "cell_type": "code",
   "execution_count": 1,
   "metadata": {},
   "outputs": [
    {
     "data": {
      "application/javascript": [
       "IPython.OutputArea.prototype._should_scroll = function(lines) {\n",
       "    return false;\n",
       "}"
      ],
      "text/plain": [
       "<IPython.core.display.Javascript object>"
      ]
     },
     "metadata": {},
     "output_type": "display_data"
    }
   ],
   "source": [
    "%%javascript\n",
    "IPython.OutputArea.prototype._should_scroll = function(lines) {\n",
    "    return false;\n",
    "}"
   ]
  },
  {
   "cell_type": "code",
   "execution_count": 2,
   "metadata": {},
   "outputs": [],
   "source": [
    "__author__ = \"Sreejith Sreekumar\"\n",
    "__email__ = \"sreekumar.s@husky.neu.edu\"\n",
    "__version__ = \"0.0.1\""
   ]
  },
  {
   "cell_type": "code",
   "execution_count": 3,
   "metadata": {},
   "outputs": [],
   "source": [
    "%load_ext autoreload\n",
    "%autoreload 2\n",
    "%matplotlib inline\n",
    "\n",
    "\n",
    "import warnings\n",
    "warnings.filterwarnings('ignore')"
   ]
  },
  {
   "cell_type": "code",
   "execution_count": 4,
   "metadata": {},
   "outputs": [],
   "source": [
    "import pandas as pd\n",
    "import numpy as np\n",
    "from sklearn.preprocessing import StandardScaler, OneHotEncoder, LabelEncoder\n",
    "from sklearn.neighbors import KNeighborsClassifier\n",
    "from sklearn.model_selection import GridSearchCV\n",
    "from sklearn.metrics import mean_squared_error, explained_variance_score\n",
    "from sklearn.metrics import make_scorer\n",
    "import seaborn as sns\n",
    "sns.set()\n",
    "\n",
    "from sklearn.model_selection import train_test_split\n",
    "\n",
    "## cross validation\n",
    "from  sklearn.linear_model import LassoCV\n",
    "from sklearn.model_selection import RandomizedSearchCV\n",
    "from scipy.stats import randint, uniform\n",
    "\n",
    "from xgboost import XGBClassifier\n",
    "from sklearn.svm import SVR\n",
    "\n",
    "import pickle\n",
    "import math\n",
    "\n",
    "from scipy import sparse as sp\n",
    "import matplotlib.pyplot as plt\n",
    "from sklearn.linear_model import LinearRegression\n",
    "\n",
    "\n",
    "import plotly\n",
    "import plotly.plotly as py\n",
    "import plotly.graph_objs as go\n",
    "plotly.tools.set_credentials_file(username='srjit', api_key='lpKtXjzR7LBaqHwlxFQp')"
   ]
  },
  {
   "cell_type": "code",
   "execution_count": 5,
   "metadata": {},
   "outputs": [],
   "source": [
    "data_path = \"../data/winemag-data_first150k.csv\"\n",
    "data = pd.read_csv(data_path)"
   ]
  },
  {
   "cell_type": "code",
   "execution_count": 6,
   "metadata": {},
   "outputs": [
    {
     "data": {
      "text/html": [
       "<div>\n",
       "<style scoped>\n",
       "    .dataframe tbody tr th:only-of-type {\n",
       "        vertical-align: middle;\n",
       "    }\n",
       "\n",
       "    .dataframe tbody tr th {\n",
       "        vertical-align: top;\n",
       "    }\n",
       "\n",
       "    .dataframe thead th {\n",
       "        text-align: right;\n",
       "    }\n",
       "</style>\n",
       "<table border=\"1\" class=\"dataframe\">\n",
       "  <thead>\n",
       "    <tr style=\"text-align: right;\">\n",
       "      <th></th>\n",
       "      <th>Unnamed: 0</th>\n",
       "      <th>country</th>\n",
       "      <th>description</th>\n",
       "      <th>designation</th>\n",
       "      <th>points</th>\n",
       "      <th>price</th>\n",
       "      <th>province</th>\n",
       "      <th>region_1</th>\n",
       "      <th>region_2</th>\n",
       "      <th>variety</th>\n",
       "      <th>winery</th>\n",
       "    </tr>\n",
       "  </thead>\n",
       "  <tbody>\n",
       "    <tr>\n",
       "      <th>0</th>\n",
       "      <td>0</td>\n",
       "      <td>US</td>\n",
       "      <td>This tremendous 100% varietal wine hails from ...</td>\n",
       "      <td>Martha's Vineyard</td>\n",
       "      <td>96</td>\n",
       "      <td>235.0</td>\n",
       "      <td>California</td>\n",
       "      <td>Napa Valley</td>\n",
       "      <td>Napa</td>\n",
       "      <td>Cabernet Sauvignon</td>\n",
       "      <td>Heitz</td>\n",
       "    </tr>\n",
       "    <tr>\n",
       "      <th>1</th>\n",
       "      <td>1</td>\n",
       "      <td>Spain</td>\n",
       "      <td>Ripe aromas of fig, blackberry and cassis are ...</td>\n",
       "      <td>Carodorum Selección Especial Reserva</td>\n",
       "      <td>96</td>\n",
       "      <td>110.0</td>\n",
       "      <td>Northern Spain</td>\n",
       "      <td>Toro</td>\n",
       "      <td>NaN</td>\n",
       "      <td>Tinta de Toro</td>\n",
       "      <td>Bodega Carmen Rodríguez</td>\n",
       "    </tr>\n",
       "    <tr>\n",
       "      <th>2</th>\n",
       "      <td>2</td>\n",
       "      <td>US</td>\n",
       "      <td>Mac Watson honors the memory of a wine once ma...</td>\n",
       "      <td>Special Selected Late Harvest</td>\n",
       "      <td>96</td>\n",
       "      <td>90.0</td>\n",
       "      <td>California</td>\n",
       "      <td>Knights Valley</td>\n",
       "      <td>Sonoma</td>\n",
       "      <td>Sauvignon Blanc</td>\n",
       "      <td>Macauley</td>\n",
       "    </tr>\n",
       "    <tr>\n",
       "      <th>3</th>\n",
       "      <td>3</td>\n",
       "      <td>US</td>\n",
       "      <td>This spent 20 months in 30% new French oak, an...</td>\n",
       "      <td>Reserve</td>\n",
       "      <td>96</td>\n",
       "      <td>65.0</td>\n",
       "      <td>Oregon</td>\n",
       "      <td>Willamette Valley</td>\n",
       "      <td>Willamette Valley</td>\n",
       "      <td>Pinot Noir</td>\n",
       "      <td>Ponzi</td>\n",
       "    </tr>\n",
       "    <tr>\n",
       "      <th>4</th>\n",
       "      <td>4</td>\n",
       "      <td>France</td>\n",
       "      <td>This is the top wine from La Bégude, named aft...</td>\n",
       "      <td>La Brûlade</td>\n",
       "      <td>95</td>\n",
       "      <td>66.0</td>\n",
       "      <td>Provence</td>\n",
       "      <td>Bandol</td>\n",
       "      <td>NaN</td>\n",
       "      <td>Provence red blend</td>\n",
       "      <td>Domaine de la Bégude</td>\n",
       "    </tr>\n",
       "  </tbody>\n",
       "</table>\n",
       "</div>"
      ],
      "text/plain": [
       "   Unnamed: 0 country                                        description  \\\n",
       "0           0      US  This tremendous 100% varietal wine hails from ...   \n",
       "1           1   Spain  Ripe aromas of fig, blackberry and cassis are ...   \n",
       "2           2      US  Mac Watson honors the memory of a wine once ma...   \n",
       "3           3      US  This spent 20 months in 30% new French oak, an...   \n",
       "4           4  France  This is the top wine from La Bégude, named aft...   \n",
       "\n",
       "                            designation  points  price        province  \\\n",
       "0                     Martha's Vineyard      96  235.0      California   \n",
       "1  Carodorum Selección Especial Reserva      96  110.0  Northern Spain   \n",
       "2         Special Selected Late Harvest      96   90.0      California   \n",
       "3                               Reserve      96   65.0          Oregon   \n",
       "4                            La Brûlade      95   66.0        Provence   \n",
       "\n",
       "            region_1           region_2             variety  \\\n",
       "0        Napa Valley               Napa  Cabernet Sauvignon   \n",
       "1               Toro                NaN       Tinta de Toro   \n",
       "2     Knights Valley             Sonoma     Sauvignon Blanc   \n",
       "3  Willamette Valley  Willamette Valley          Pinot Noir   \n",
       "4             Bandol                NaN  Provence red blend   \n",
       "\n",
       "                    winery  \n",
       "0                    Heitz  \n",
       "1  Bodega Carmen Rodríguez  \n",
       "2                 Macauley  \n",
       "3                    Ponzi  \n",
       "4     Domaine de la Bégude  "
      ]
     },
     "execution_count": 6,
     "metadata": {},
     "output_type": "execute_result"
    }
   ],
   "source": [
    "data.head(5)"
   ]
  },
  {
   "cell_type": "markdown",
   "metadata": {},
   "source": [
    "## Visualization1: EDA\n",
    "\n",
    "What is the average wine price per country?"
   ]
  },
  {
   "cell_type": "code",
   "execution_count": 8,
   "metadata": {},
   "outputs": [
    {
     "name": "stderr",
     "output_type": "stream",
     "text": [
      "/usr/local/lib/python3.6/dist-packages/plotly/graph_objs/_deprecations.py:372: DeprecationWarning:\n",
      "\n",
      "plotly.graph_objs.Line is deprecated.\n",
      "Please replace it with one of the following more specific types\n",
      "  - plotly.graph_objs.scatter.Line\n",
      "  - plotly.graph_objs.layout.shape.Line\n",
      "  - etc.\n",
      "\n",
      "\n"
     ]
    },
    {
     "data": {
      "text/html": [
       "<iframe id=\"igraph\" scrolling=\"no\" style=\"border:none;\" seamless=\"seamless\" src=\"https://plot.ly/~srjit/42.embed\" height=\"525px\" width=\"100%\"></iframe>"
      ],
      "text/plain": [
       "<plotly.tools.PlotlyDisplay object>"
      ]
     },
     "execution_count": 8,
     "metadata": {},
     "output_type": "execute_result"
    }
   ],
   "source": [
    "grouped_avg_price = data.groupby(\"country\")[\"price\"].mean().reset_index(name=\"average_price\")\n",
    "grouped_avg_price = grouped_avg_price.sort_values(by=\"average_price\", ascending=False)\n",
    "grouped_avg_price = grouped_avg_price.dropna()\n",
    "\n",
    "\n",
    "_data = [go.Line(\n",
    "            x=grouped_avg_price[\"country\"],\n",
    "            y=grouped_avg_price[\"average_price\"]\n",
    "    )]\n",
    "\n",
    "\n",
    "\n",
    "layout = go.Layout(\n",
    "    title='Average price of wine country-wise',\n",
    "    \n",
    "    xaxis=dict(\n",
    "        title='Country',\n",
    "        titlefont=dict(\n",
    "            family='Lato',\n",
    "            size=18,\n",
    "            color='#7f7f7f'\n",
    "        )\n",
    "    ),\n",
    "    yaxis=dict(\n",
    "        title='Price of wine (USD)',\n",
    "        titlefont=dict(\n",
    "            family='Lato',\n",
    "            size=18,\n",
    "            color='#7f7f7f'\n",
    "        )\n",
    "    )\n",
    ")\n",
    "\n",
    "fig = go.Figure(data=_data, layout=layout)\n",
    "py.iplot(fig, filename='price')"
   ]
  },
  {
   "cell_type": "markdown",
   "metadata": {},
   "source": [
    "The plot shows the average price of wine in every country in dataset. As seen average price of wines are more in  rich countries. The increase in price could also indicate its demand in these countries - however, more information is required to confirm the answer to this.\n",
    "\n",
    "A simple line plot helps to convey this infomation. Sorting the data by price helps the visualization more easy to interpret.\n",
    "\n",
    "    Number of Attributes: 2\n",
    "    Marks: Lines \n",
    "    Channel:\n",
    "        - Position: Vertical\n",
    "        - Size: Height\n",
    "        \n",
    "        \n",
    "Ref: Lecture3 - Marks and Channels: slides 27, 28, 40, 44        "
   ]
  },
  {
   "cell_type": "markdown",
   "metadata": {},
   "source": [
    "## Visualization 2: EDA\n",
    "\n",
    "__Which country produces the most number of `unique` wines__\n",
    "\n",
    "(What % of the unique wines are made by a country)"
   ]
  },
  {
   "cell_type": "code",
   "execution_count": 9,
   "metadata": {},
   "outputs": [],
   "source": [
    "unique_wines = data.groupby([\"variety\",\"country\"]).size().reset_index(name=\"count\")\n",
    "unique_wines = unique_wines[[\"variety\",\"country\"]]"
   ]
  },
  {
   "cell_type": "code",
   "execution_count": 10,
   "metadata": {},
   "outputs": [],
   "source": [
    "wines_count = unique_wines.groupby(\"country\").size().reset_index(name=\"count\")\n",
    "total_number_of_wines = sum(wines_count[\"count\"])"
   ]
  },
  {
   "cell_type": "code",
   "execution_count": 11,
   "metadata": {},
   "outputs": [
    {
     "data": {
      "text/plain": [
       "632"
      ]
     },
     "execution_count": 11,
     "metadata": {},
     "output_type": "execute_result"
    }
   ],
   "source": [
    "# Number of unique wines in the dataset\n",
    "len(data[\"variety\"].unique())"
   ]
  },
  {
   "cell_type": "markdown",
   "metadata": {},
   "source": [
    "__There are 632 unique wines in the dataset__"
   ]
  },
  {
   "cell_type": "markdown",
   "metadata": {},
   "source": [
    "What % of all the unique wines are made by a country?"
   ]
  },
  {
   "cell_type": "code",
   "execution_count": 12,
   "metadata": {
    "scrolled": true
   },
   "outputs": [
    {
     "data": {
      "text/html": [
       "<iframe id=\"igraph\" scrolling=\"no\" style=\"border:none;\" seamless=\"seamless\" src=\"https://plot.ly/~srjit/40.embed\" height=\"525px\" width=\"100%\"></iframe>"
      ],
      "text/plain": [
       "<plotly.tools.PlotlyDisplay object>"
      ]
     },
     "execution_count": 12,
     "metadata": {},
     "output_type": "execute_result"
    }
   ],
   "source": [
    "wines_count = wines_count.sort_values(by=\"count\",ascending=False)\n",
    "\n",
    "_data = [go.Bar(\n",
    "            x=wines_count[\"country\"],\n",
    "            y=wines_count[\"count\"]\n",
    "    )]\n",
    "\n",
    "\n",
    "layout = go.Layout(\n",
    "    title='Number of unique wines available country-wise',\n",
    "    \n",
    "    xaxis=dict(\n",
    "        title='Country',\n",
    "        titlefont=dict(\n",
    "            family='Lato',\n",
    "            size=18,\n",
    "            color='#7f7f7f'\n",
    "        )\n",
    "    ),\n",
    "    yaxis=dict(\n",
    "        title='Unique Wines Made',\n",
    "        titlefont=dict(\n",
    "            family='Lato',\n",
    "            size=18,\n",
    "            color='#7f7f7f'\n",
    "        )\n",
    "    )\n",
    ")\n",
    "\n",
    "fig = go.Figure(data=_data, layout=layout)\n",
    "py.iplot(fig, filename='Number of unique wines')"
   ]
  },
  {
   "cell_type": "markdown",
   "metadata": {},
   "source": [
    "The plot suggests that the most variety of wines are made from the United States. Close by are european countries known for their wines. There is a noticable correlation between the variety of wines and the average price of wines per country.\n",
    "\n",
    "A simple line plot helps to convey this infomation. Sorting the data by price helps the visualization more easy to interpret.\n",
    "\n",
    "Number of Attributes: 2\n",
    "Marks: Bars \n",
    "Channel:\n",
    "\n",
    "    - Position: Vertical\n",
    "    - Size: Length"
   ]
  },
  {
   "cell_type": "markdown",
   "metadata": {},
   "source": [
    "## Correlation Plot"
   ]
  },
  {
   "cell_type": "code",
   "execution_count": 11,
   "metadata": {},
   "outputs": [
    {
     "data": {
      "image/png": "[encoded data removed]",
      "text/plain": [
       "<Figure size 432x288 with 2 Axes>"
      ]
     },
     "metadata": {},
     "output_type": "display_data"
    }
   ],
   "source": [
    "def encode_objects(df_):\n",
    "    # we dont want the original data to be modified - using shallow copy\n",
    "    df = df_.copy()\n",
    "    for column in df.columns:\n",
    "        if df.dtypes[column] == np.object:\n",
    "            enc = LabelEncoder()\n",
    "            df[column] = enc.fit_transform(df[column])\n",
    "    return df\n",
    "\n",
    "data_update = data[[\"country\",\"description\",\"designation\",\"price\",\"province\",\"region_1\",\"region_2\",\"variety\",\"winery\",\"points\"]]\n",
    "\n",
    "correlation_inp = data_update[[\"country\",\"price\",\"province\",\"region_1\",\"variety\",\"winery\",\"points\"]]\n",
    "correlation_inp = correlation_inp.dropna()\n",
    "data_ = encode_objects(correlation_inp)\n",
    "correlations = data_.corr()\n",
    "\n",
    "g1 = sns.heatmap(correlations, linewidths=.5, cmap = \"RdBu_r\")\n",
    "plt.title(\"Correlations\")\n",
    "\n",
    "plt.show()"
   ]
  },
  {
   "cell_type": "markdown",
   "metadata": {},
   "source": [
    "Looks are price and points have decent correlation. Higher the price, higher the correlation - However, from EDA plots (Not included in the assignment), we could see exceptions (outliers) to this - one of the wines with very good points had comparitvely low price\n",
    "\n",
    "\n",
    "__region 2 has a lot of NaNs which are `not okay` for our  correlation calculations. So they've been taken out.__"
   ]
  },
  {
   "cell_type": "code",
   "execution_count": 13,
   "metadata": {},
   "outputs": [],
   "source": [
    "features = [\"country\",\"description\",\"price\",\"province\",\"region_1\",\"variety\",\"winery\"]\n",
    "target= 'points'\n",
    "\n",
    "cols = [\"country\",\"description\",\"price\",\"province\",\"region_1\",\"variety\",\"winery\", \"points\"]\n",
    "\n",
    "data_ = data[cols]\n",
    "data_ = data_.dropna()\n",
    "\n",
    "X = data_[features]\n",
    "y = data_[target]"
   ]
  },
  {
   "cell_type": "code",
   "execution_count": 14,
   "metadata": {},
   "outputs": [],
   "source": [
    "X_train, X_test, y_train, y_test = train_test_split(X, y, test_size=0.2, random_state=42)\n",
    "\n",
    "X_train.reset_index(inplace=True)\n",
    "X_test.reset_index(inplace=True)"
   ]
  },
  {
   "cell_type": "markdown",
   "metadata": {},
   "source": [
    "## Vectorizing text data"
   ]
  },
  {
   "cell_type": "code",
   "execution_count": 15,
   "metadata": {},
   "outputs": [],
   "source": [
    "from sklearn.feature_extraction.text import TfidfVectorizer\n",
    "vectorizer = TfidfVectorizer()\n",
    "\n",
    "description_train = vectorizer.fit_transform(X_train[\"description\"])\n",
    "description_test = vectorizer.transform(X_test[\"description\"]) "
   ]
  },
  {
   "cell_type": "code",
   "execution_count": 16,
   "metadata": {},
   "outputs": [],
   "source": [
    "column_names_from_text_features = vectorizer.vocabulary_\n",
    "\n",
    "rev_dictionary = {v:k for k,v in vectorizer.vocabulary_.items()}\n",
    "column_names_from_text_features = [v for k,v in rev_dictionary.items()]"
   ]
  },
  {
   "cell_type": "markdown",
   "metadata": {},
   "source": [
    "## One hot encoding to categorical attributes"
   ]
  },
  {
   "cell_type": "code",
   "execution_count": 17,
   "metadata": {},
   "outputs": [],
   "source": [
    "countrycols = pd.get_dummies(X_train['country'])\n",
    "provincecols = pd.get_dummies(X_train['province'])\n",
    "regioncols = pd.get_dummies(X_train['region_1'])\n",
    "varietycols =  pd.get_dummies(X_train['variety'])\n",
    "winerycols = pd.get_dummies(X_train['winery'])\n",
    "\n",
    "\n",
    "\n",
    "countrycols_test = pd.get_dummies(X_test['country'])\n",
    "provincecols_test = pd.get_dummies(X_test['province'])\n",
    "regioncols_test = pd.get_dummies(X_test['region_1'])\n",
    "varietycols_test =  pd.get_dummies(X_test['variety'])\n",
    "winerycols_test = pd.get_dummies(X_test['winery'])\n"
   ]
  },
  {
   "cell_type": "markdown",
   "metadata": {},
   "source": [
    "## Scaling numeric attributes"
   ]
  },
  {
   "cell_type": "code",
   "execution_count": 19,
   "metadata": {},
   "outputs": [],
   "source": [
    "scaler = StandardScaler(copy=False)\n",
    "price = pd.DataFrame(scaler.fit_transform(X_train[[\"price\"]]), columns=[\"price\"])\n",
    "price_test = pd.DataFrame(scaler.transform(X_test[[\"price\"]]), columns=[\"price\"])"
   ]
  },
  {
   "cell_type": "code",
   "execution_count": 20,
   "metadata": {},
   "outputs": [],
   "source": [
    "# joining categorical and numeric features\n",
    "X_train = pd.concat([price, countrycols, provincecols, regioncols, varietycols, winerycols], axis=1)\n",
    "X_test = pd.concat([price_test, countrycols_test, provincecols_test, regioncols_test, varietycols_test, winerycols_test], axis=1)"
   ]
  },
  {
   "cell_type": "code",
   "execution_count": 21,
   "metadata": {},
   "outputs": [],
   "source": [
    "X_train = X_train.loc[:,~X_train.columns.duplicated()]\n",
    "X_test = X_test.loc[:,~X_test.columns.duplicated()]"
   ]
  },
  {
   "cell_type": "code",
   "execution_count": 22,
   "metadata": {},
   "outputs": [],
   "source": [
    "features_to_train = list(set(X_train.columns))\n",
    "features_not_in_test = list(set(features_to_train) - set(X_test.columns))\n",
    "for feature in features_not_in_test:\n",
    "    X_test[feature] = 0"
   ]
  },
  {
   "cell_type": "markdown",
   "metadata": {},
   "source": [
    "__Keeping column names, we might need this later__"
   ]
  },
  {
   "cell_type": "code",
   "execution_count": 23,
   "metadata": {},
   "outputs": [],
   "source": [
    "column_names_from_other_features = features_to_train"
   ]
  },
  {
   "cell_type": "code",
   "execution_count": 24,
   "metadata": {},
   "outputs": [],
   "source": [
    "all_features = column_names_from_other_features + column_names_from_text_features"
   ]
  },
  {
   "cell_type": "code",
   "execution_count": 25,
   "metadata": {},
   "outputs": [],
   "source": [
    "X_test = X_test[features_to_train]"
   ]
  },
  {
   "cell_type": "markdown",
   "metadata": {},
   "source": [
    "__Constructing sparse matrices - because we have a lot of one hot encodings - this could help speed up computation.__"
   ]
  },
  {
   "cell_type": "code",
   "execution_count": 26,
   "metadata": {},
   "outputs": [],
   "source": [
    "X_train = sp.csr_matrix(X_train.values)\n",
    "X_test = sp.csr_matrix(X_test.values)"
   ]
  },
  {
   "cell_type": "code",
   "execution_count": 27,
   "metadata": {},
   "outputs": [
    {
     "name": "stdout",
     "output_type": "stream",
     "text": [
      "(91514, 12835)\n",
      "(22879, 12835)\n"
     ]
    }
   ],
   "source": [
    "print(X_train.shape)\n",
    "print(X_test.shape)"
   ]
  },
  {
   "cell_type": "markdown",
   "metadata": {},
   "source": [
    "__Stacking the text features with the one hot encoded categorical features and scaled numeric features__"
   ]
  },
  {
   "cell_type": "code",
   "execution_count": 29,
   "metadata": {},
   "outputs": [],
   "source": [
    "X_train = sp.hstack([X_train, description_train])\n",
    "X_test = sp.hstack([X_test, description_test])"
   ]
  },
  {
   "cell_type": "code",
   "execution_count": 30,
   "metadata": {},
   "outputs": [
    {
     "data": {
      "text/plain": [
       "(91514, 38284)"
      ]
     },
     "execution_count": 30,
     "metadata": {},
     "output_type": "execute_result"
    }
   ],
   "source": [
    "X_train.shape"
   ]
  },
  {
   "cell_type": "code",
   "execution_count": 26,
   "metadata": {},
   "outputs": [],
   "source": [
    "# save all the data as pql\n",
    "\n",
    "# import pickle\n",
    "\n",
    "# pickle1 = open(\"X_train.pickle\",\"wb\")\n",
    "# pickle.dump(X_train, pickle1)\n",
    "# pickle1.close()\n",
    "\n",
    "# pickle2 = open(\"X_test.pickle\",\"wb\")\n",
    "# pickle.dump(X_test, pickle2)\n",
    "# pickle2.close()"
   ]
  },
  {
   "cell_type": "markdown",
   "metadata": {},
   "source": [
    "__Let us perform a simple linear regression as our baseline model__"
   ]
  },
  {
   "cell_type": "code",
   "execution_count": 26,
   "metadata": {},
   "outputs": [],
   "source": [
    "lr_clf = LinearRegression().fit(X_train, y_train)"
   ]
  },
  {
   "cell_type": "code",
   "execution_count": 27,
   "metadata": {},
   "outputs": [
    {
     "name": "stdout",
     "output_type": "stream",
     "text": [
      "MSE:  97.29835753175725\n"
     ]
    }
   ],
   "source": [
    "# Train accuracy and Test accuracy\n",
    "lr_train_score = lr_clf.score(X_train, y_train)\n",
    "lr_pred = lr_clf.predict(X_test)\n",
    "lr_mse = mean_squared_error(y_test, lr_pred)\n",
    "#lr_varience = explained_variance_score(y_test, lr_pred)\n",
    "\n",
    "print(\"MSE: \", lr_mse)\n",
    "#print(\"Explained Varience Score: \", lr_r2)"
   ]
  },
  {
   "cell_type": "code",
   "execution_count": 31,
   "metadata": {},
   "outputs": [],
   "source": [
    "# save the model\n",
    "\n",
    "pickle1 = open(\"lr_clf.pickle\",\"wb\")\n",
    "pickle.dump(lr_clf, pickle1)\n",
    "pickle1.close()"
   ]
  },
  {
   "cell_type": "markdown",
   "metadata": {},
   "source": [
    "__Now let's try XGBoost__"
   ]
  },
  {
   "cell_type": "code",
   "execution_count": 29,
   "metadata": {},
   "outputs": [
    {
     "data": {
      "text/plain": [
       "XGBClassifier(base_score=0.5, booster='gbtree', colsample_bylevel=1,\n",
       "       colsample_bytree=1, gamma=0, learning_rate=0.1, max_delta_step=0,\n",
       "       max_depth=3, min_child_weight=1, missing=None, n_estimators=100,\n",
       "       n_jobs=1, nthread=None, objective='multi:softprob', random_state=0,\n",
       "       reg_alpha=0, reg_lambda=1, scale_pos_weight=1, seed=None,\n",
       "       silent=True, subsample=1)"
      ]
     },
     "execution_count": 29,
     "metadata": {},
     "output_type": "execute_result"
    }
   ],
   "source": [
    "xgb_clf = XGBClassifier()\n",
    "xgb_clf.fit(X_train, y_train)"
   ]
  },
  {
   "cell_type": "code",
   "execution_count": 30,
   "metadata": {},
   "outputs": [
    {
     "data": {
      "text/plain": [
       "15.001966869181345"
      ]
     },
     "execution_count": 30,
     "metadata": {},
     "output_type": "execute_result"
    }
   ],
   "source": [
    "xgb_pred = xgb_clf.predict(X_test)\n",
    "xgb_mse = mean_squared_error(y_test, xgb_pred)\n",
    "xgb_mse"
   ]
  },
  {
   "cell_type": "code",
   "execution_count": 31,
   "metadata": {},
   "outputs": [],
   "source": [
    "# save the model\n",
    "\n",
    "pickle1 = open(\"xgb_clf.pickle\",\"wb\")\n",
    "pickle.dump(xgb_clf, pickle1)\n",
    "pickle1.close()"
   ]
  },
  {
   "cell_type": "markdown",
   "metadata": {},
   "source": [
    "__Let's try SVR model for the regression__"
   ]
  },
  {
   "cell_type": "code",
   "execution_count": 32,
   "metadata": {},
   "outputs": [
    {
     "data": {
      "text/plain": [
       "SVR(C=1.0, cache_size=200, coef0=0.0, degree=3, epsilon=0.2, gamma='scale',\n",
       "  kernel='rbf', max_iter=-1, shrinking=True, tol=0.001, verbose=False)"
      ]
     },
     "execution_count": 32,
     "metadata": {},
     "output_type": "execute_result"
    }
   ],
   "source": [
    "svr_clf = SVR(gamma='scale', C=1.0, epsilon=0.2)\n",
    "svr_clf.fit(X_train, y_train)"
   ]
  },
  {
   "cell_type": "code",
   "execution_count": 33,
   "metadata": {},
   "outputs": [
    {
     "data": {
      "text/plain": [
       "9.20836144678753"
      ]
     },
     "execution_count": 33,
     "metadata": {},
     "output_type": "execute_result"
    }
   ],
   "source": [
    "svr_pred = svr_clf.predict(X_test)\n",
    "svr_mse = mean_squared_error(y_test, svr_pred)\n",
    "svr_mse"
   ]
  },
  {
   "cell_type": "code",
   "execution_count": 34,
   "metadata": {},
   "outputs": [],
   "source": [
    "# save the model\n",
    "\n",
    "pickle1 = open(\"svr_clf.pickle\",\"wb\")\n",
    "pickle.dump(svr_clf, pickle1)\n",
    "pickle1.close()"
   ]
  },
  {
   "cell_type": "markdown",
   "metadata": {},
   "source": [
    "__Algorithm choices__\n",
    "\n",
    "Logistic regression serves as our baseline model for this regression problem. For comparison models that work from two different perspectives are used.\n",
    "\n",
    "1. XGBoost - Ensemble algorithm, well known for its success in competitions\n",
    "2. SVR - Extension of the SVM classification model which tries to switch to a higher dimension and trying to find a decision boundary. "
   ]
  },
  {
   "cell_type": "markdown",
   "metadata": {},
   "source": [
    "__Cross Validation for parameter selection__"
   ]
  },
  {
   "cell_type": "markdown",
   "metadata": {},
   "source": [
    "The following parameters are to be tuned for the three classifiers used:\n",
    "\n",
    "- Linear regression with L1 (Lasso) regularization (Ref:https://scikit-learn.org/stable/modules/generated/sklearn.linear_model.LassoCV.html)   \n",
    "    * Parameter(s): \n",
    "                    alpha – co-efficient of regularization term  \n",
    "- XGBoost  (Ref: xgboost.cv - https://xgboost.readthedocs.io/en/latest/python/python_api.html)\n",
    "    * Parameter(s): \n",
    "                    max_depth – Maximum tree depth for base learners.\n",
    "                    learning_rate – Boosting learning rate (xgb’s “eta”)\n",
    "                    n_estimators – Number of boosted trees to fit.\n",
    "- Kernel type and 'c' value for the SVR model  (Ref. https://scikit-learn.org/stable/modules/grid_search.html)\n",
    "    * Parameter(s): \n",
    "                    c – width of the decision boundary \n",
    "                    kernel – rbf, poly etc.\n",
    "                    \n",
    "\n",
    "__Evaluation Metric__: __Mean Squared Error__\n",
    "\n",
    "           Ref: https://scikit-learn.org/stable/modules/model_evaluation.html#scoring-parameter\n",
    "           \n",
    "           neg_mean_squared_error"
   ]
  },
  {
   "cell_type": "markdown",
   "metadata": {},
   "source": [
    "__Lasso Regression__"
   ]
  },
  {
   "cell_type": "code",
   "execution_count": 29,
   "metadata": {},
   "outputs": [],
   "source": [
    "alphas = [0.005, 0.05, 0.5, 1.0, 5]\n",
    "\n",
    "Save the lasso grid model\n",
    "lr_cv_clf = LassoCV(alphas=alphas, cv=10, n_jobs=-1).fit(X_train, y_train)\n",
    "lr_clf_pred = lr_cv_clf.predict(X_train)\n",
    "\n",
    "\n",
    "# write the model to a pickle file\n",
    "pickle1 = open(\"lr_cv_clf.pickle\",\"wb\")\n",
    "pickle.dump(lr_cv_clf, pickle1)\n",
    "pickle1.close()"
   ]
  },
  {
   "cell_type": "markdown",
   "metadata": {},
   "source": [
    "__XGBoost__\n",
    "\n",
    "Grid search cross validation for optimal hyperparameters of the XGBoost Model and save the model."
   ]
  },
  {
   "cell_type": "code",
   "execution_count": 33,
   "metadata": {},
   "outputs": [
    {
     "data": {
      "text/plain": [
       "GridSearchCV(cv=10, error_score='raise-deprecating',\n",
       "       estimator=XGBClassifier(base_score=0.5, booster='gbtree', colsample_bylevel=1,\n",
       "       colsample_bytree=1, gamma=0, learning_rate=0.1, max_delta_step=0,\n",
       "       max_depth=3, min_child_weight=1, missing=None, n_estimators=100,\n",
       "       n_jobs=1, nthread=None, objective='binary:logistic', random_state=0,\n",
       "       reg_alpha=0, reg_lambda=1, scale_pos_weight=1, seed=None,\n",
       "       silent=True, subsample=1),\n",
       "       fit_params=None, iid='warn', n_jobs=-1,\n",
       "       param_grid={'n_estimators': [5, 10, 20, 30], 'learning_rate': [0.01, 0.01, 0.1], 'max_depth': [3, 4, 5, 6]},\n",
       "       pre_dispatch='2*n_jobs', refit=True, return_train_score='warn',\n",
       "       scoring='neg_mean_squared_error', verbose=0)"
      ]
     },
     "execution_count": 33,
     "metadata": {},
     "output_type": "execute_result"
    }
   ],
   "source": [
    "param_dist = {\n",
    "                'n_estimators': [5, 10, 20, 30],\n",
    "                'learning_rate': [0.01, 0.01, 0.1],\n",
    "                'max_depth': [3, 4, 5, 6]\n",
    "             }\n",
    "                                  \n",
    "xgb_cv_clf = GridSearchCV(XGBClassifier(), \n",
    "                         param_grid = param_dist, \n",
    "                         scoring = 'neg_mean_squared_error',\n",
    "                         cv = 10,\n",
    "                         n_jobs = -1)\n",
    "\n",
    "xgb_cv_clf.fit(X_train, y_train)\n",
    "\n",
    "# write the model to a pickle file\n",
    "pickle1 = open(\"xgb_cv_clf.pickle\",\"wb\")\n",
    "pickle.dump(xgb_cv_clf, pickle1)\n",
    "pickle1.close()"
   ]
  },
  {
   "cell_type": "markdown",
   "metadata": {},
   "source": [
    "__SVR Model__\n",
    "\n",
    "\n",
    "Grid search cross validation for searching optimal hyperparameters and save the model"
   ]
  },
  {
   "cell_type": "code",
   "execution_count": null,
   "metadata": {},
   "outputs": [],
   "source": [
    "param_dist = {\n",
    "                'C': [0.1, 1, 10],\n",
    "                'kernel': ['rbf','poly']\n",
    "             }\n",
    "                                  \n",
    "svr_cv_clf = GridSearchCV(SVR(), \n",
    "                         param_grid = param_dist, \n",
    "                         scoring = 'neg_mean_squared_error',\n",
    "                         cv = 10,\n",
    "                         n_jobs = -1)\n",
    "\n",
    "svr_cv_clf.fit(X_train, y_train)\n",
    "\n",
    "\n",
    "# write the model to a pickle file\n",
    "pickle1 = open(\"svr_cv_clf.pickle\",\"wb\")\n",
    "pickle.dump(svr_cv_clf, pickle1)\n",
    "pickle1.close()"
   ]
  },
  {
   "cell_type": "markdown",
   "metadata": {},
   "source": [
    "__Load the three saved classifiers__"
   ]
  },
  {
   "cell_type": "code",
   "execution_count": 33,
   "metadata": {},
   "outputs": [
    {
     "name": "stdout",
     "output_type": "stream",
     "text": [
      "[[10.73992333 10.9621676  10.73034955 10.56735145 10.92926707 10.97853574\n",
      "  10.75894734 10.79112262 10.53711029 10.90260388]\n",
      " [ 9.44808498  9.51743258  9.37817915  9.2419539   9.51536233  9.57135688\n",
      "   9.42060504  9.42624894  9.22121609  9.50954322]\n",
      " [ 8.86243776  8.76364143  8.55933215  8.47065644  8.69973076  8.78357182\n",
      "   8.5629874   8.61422283  8.49501892  8.97517112]\n",
      " [ 8.62961513  8.40783133  7.98463842  7.94260075  8.18640597  8.29009489\n",
      "   7.9059341   8.05103065  8.03726805  8.94392639]\n",
      " [ 6.05099954  5.86467675  5.56108954  5.50195769  5.72186975  5.75710158\n",
      "   5.60735264  5.62552793  5.70134137  6.23481536]]\n"
     ]
    }
   ],
   "source": [
    "lr_cv_clf_serialized = open(\"lr_cv_clf.pickle\",'rb')\n",
    "lr_cv_clf_ = pickle.load(lr_cv_clf_serialized)\n",
    "\n",
    "#Mean Squared Error for each CV iteration\n",
    "print(lr_cv_clf_.mse_path_)"
   ]
  },
  {
   "cell_type": "markdown",
   "metadata": {},
   "source": [
    "__Since the minimal value of mse, the better the classifier is, the best performing _lasso_ model has a cv score\n",
    "of 5.5__"
   ]
  },
  {
   "cell_type": "code",
   "execution_count": 34,
   "metadata": {},
   "outputs": [
    {
     "name": "stdout",
     "output_type": "stream",
     "text": [
      "{'learning_rate': 0.1, 'max_depth': 6, 'n_estimators': 30}\n",
      "-4.801855453810346\n"
     ]
    }
   ],
   "source": [
    "xgb_cv_clf_serialized = open(\"xgb_cv_clf.pickle\",'rb')\n",
    "xgb_cv_clf_ = pickle.load(xgb_cv_clf_serialized)\n",
    "print(xgb_cv_clf_.best_params_)\n",
    "print(xgb_cv_clf_.best_score_)"
   ]
  },
  {
   "cell_type": "markdown",
   "metadata": {},
   "source": [
    "__Best performing XGBoost model has a CV score of 4.8__\n",
    "\n",
    "The positive of the \\_best_score_ is the actual MSE (Ref: https://stackoverflow.com/questions/21443865/scikit-learn-cross-validation-negative-values-with-mean-squared-error ) "
   ]
  },
  {
   "cell_type": "code",
   "execution_count": 35,
   "metadata": {},
   "outputs": [
    {
     "name": "stdout",
     "output_type": "stream",
     "text": [
      "{'C': 10, 'kernel': 'rbf'}\n",
      "-7.8389406231122605\n"
     ]
    }
   ],
   "source": [
    "svr_cv_clf_serialized = open(\"svr_cv_clf.pickle\",'rb')\n",
    "svr_cv_clf_ = pickle.load(svr_cv_clf_serialized)\n",
    "print(svr_cv_clf_.best_params_)\n",
    "print(svr_cv_clf_.best_score_)"
   ]
  },
  {
   "cell_type": "markdown",
   "metadata": {},
   "source": [
    "__Best performing SVR model has a CV score of 7.83__"
   ]
  },
  {
   "cell_type": "markdown",
   "metadata": {},
   "source": [
    "There is only one tunable parameter for Lasso LR (lambda). So only simplecross validation is required here.\n",
    "\n",
    "However, in the case of XGBoost and SVR models, we have multiple tunable parameters - A grid search or a random search would be appropriate in this case. Since random search is taking more time than anticipated, grid search was used."
   ]
  },
  {
   "cell_type": "markdown",
   "metadata": {},
   "source": [
    "## Visualization 3: Comparison of Classifiers"
   ]
  },
  {
   "cell_type": "code",
   "execution_count": 36,
   "metadata": {},
   "outputs": [],
   "source": [
    "# Distributions of MSE in various cross validations of LR\n",
    "\n",
    "number_of_hyperparameters = len(lr_cv_clf_.mse_path_)\n",
    "mse_values_lr_unflattened = []\n",
    "\n",
    "for i in range(10):\n",
    "    tmp = []\n",
    "    for j in range(number_of_hyperparameters):\n",
    "        tmp.append(lr_cv_clf_.mse_path_[j][i])\n",
    "    mse_values_lr_unflattened.append(tmp)\n",
    "\n",
    "distribution_id_lr = [[i] * number_of_hyperparameters for i in range(10)]\n",
    "iteration_id_lr = [item for sublist in distribution_id_lr for item in sublist]\n",
    "mse_values_lr = [item for sublist in mse_values_lr_unflattened for item in sublist]\n",
    "\n",
    "\n",
    "###########   For SVR and XGBOOST   ###########   \n",
    "\n",
    "\n",
    "key_names = ['split' + str(i) + '_test_score' for i in range(10)]\n",
    "\n",
    "\n",
    "\n",
    "\n",
    "# Distributions of MSE in various cross validations of XGBoost\n",
    "xgb_variations = [xgb_cv_clf_.cv_results_[key_name] for key_name in key_names]\n",
    "\n",
    "number_of_combinations_in_each_iteration = len(xgb_variations[0])\n",
    "distribution_id_xgboost = [[i] * number_of_combinations_in_each_iteration for i in range(10)]\n",
    "\n",
    "## now flatten out both\n",
    "mse_values_xgboost = [item for sublist in xgb_variations for item in sublist]\n",
    "iteration_id_xgboost = [item for sublist in distribution_id_xgboost for item in sublist]\n",
    "mse_values_xgboost = [abs(item) for item in mse_values_xgboost]\n",
    "\n",
    "\n",
    "\n",
    "\n",
    "# Distributions of MSE in various cross validations of SVR\n",
    "svr_variations = [svr_cv_clf_.cv_results_[key_name] for key_name in key_names]\n",
    "number_of_combinations_in_each_iteration = len(svr_variations[0])\n",
    "distribution_id_svr = [[i] * number_of_combinations_in_each_iteration for i in range(10)]\n",
    "\n",
    "## now flatten out both\n",
    "mse_values_svr = [item for sublist in svr_variations for item in sublist]\n",
    "mse_values_svr = [abs(item) for item in mse_values_svr]\n",
    "iteration_id_svr = [item for sublist in distribution_id_svr for item in sublist]"
   ]
  },
  {
   "cell_type": "code",
   "execution_count": 37,
   "metadata": {},
   "outputs": [
    {
     "data": {
      "text/html": [
       "<iframe id=\"igraph\" scrolling=\"no\" style=\"border:none;\" seamless=\"seamless\" src=\"https://plot.ly/~srjit/92.embed\" height=\"525px\" width=\"100%\"></iframe>"
      ],
      "text/plain": [
       "<plotly.tools.PlotlyDisplay object>"
      ]
     },
     "execution_count": 37,
     "metadata": {},
     "output_type": "execute_result"
    }
   ],
   "source": [
    "# box plot of the distributions \n",
    "\n",
    "\n",
    "\n",
    "traces = [go.Box(y=xgb_variations[i]) for i in range(10)]\n",
    "\n",
    "layout = {'xaxis': {'showgrid':False,'zeroline':False, 'tickangle':60,'showticklabels':False},\n",
    "          'yaxis': {'zeroline':False,'gridcolor':'white'},\n",
    "          'paper_bgcolor': 'rgb(233,233,233)',\n",
    "          'plot_bgcolor': 'rgb(233,233,233)',\n",
    "          }\n",
    "\n",
    "\n",
    "y_names = [i for i in range(10)]\n",
    "\n",
    "\n",
    "import plotly.plotly as py\n",
    "import plotly.graph_objs as go\n",
    "\n",
    "data = [\n",
    "    {\n",
    "        'y': mse_values_xgboost,\n",
    "        'x': iteration_id_xgboost,\n",
    "        'name':'XGBoost',\n",
    "        'marker': {\n",
    "            'color': '#3D9970'\n",
    "        },\n",
    "        'boxmean': False,\n",
    "        'orientation': 'v',\n",
    "        \"type\": \"box\",\n",
    "    },\n",
    "    {\n",
    "        'y': mse_values_svr,\n",
    "        'x': iteration_id_svr,\n",
    "        'name': 'SVR',\n",
    "        'marker':{\n",
    "            'color': '#FF4136',\n",
    "        },\n",
    "        'boxmean': False,\n",
    "        'orientation': 'v',\n",
    "        \"type\": \"box\",\n",
    "    },\n",
    "    {\n",
    "        'y': mse_values_lr,\n",
    "        'x': iteration_id_lr,\n",
    "        'name':'Lasso Regression',\n",
    "        'marker': {\n",
    "            'color': '#FF851B',\n",
    "        },\n",
    "        'boxmean': False,\n",
    "        'orientation': 'v',\n",
    "        \"type\": \"box\",\n",
    "    }\n",
    "]\n",
    "layout = {\n",
    "    'xaxis': {\n",
    "        'title': 'Cross Validation Iteration ID',\n",
    "        'zeroline': False,\n",
    "        'tickvals':list(range(1,11))\n",
    "    },\n",
    "    'yaxis' : {\n",
    "        'title': 'Mean Squared Error',\n",
    "        'zeroline': False,\n",
    "        'tickvals':list(range(0,13))\n",
    "    },\n",
    "    'boxmode': 'group',\n",
    "    'title' : 'Distribution of MSE values for the classifiers for different hyperparameter combinations'\n",
    "    \n",
    "}\n",
    "fig = go.Figure(data=data, layout=layout)\n",
    "\n",
    "py.iplot(fig)"
   ]
  },
  {
   "cell_type": "markdown",
   "metadata": {},
   "source": [
    "The box plot visualization shows the distribution of values of the evaluzation metric during the 10 cross validations. \n",
    "\n",
    "During every cross validation step, models are built for every combination of hyperparameter choices. It can be seen clearly that XGBoost is consistantly performing better than the other model types. The performance of the algorithms follow the order:\n",
    "\n",
    "__XGBoost > Lasso Regression > SVR__\n",
    "\n",
    "\n",
    "The plot is also interactive, showing the mean, median and quartile values of the distribution\n",
    "\n",
    "\n",
    " Number of Attributes: 5\n",
    " \n",
    "    Marks: Boxes showing the distribution of MSE\n",
    "    Channel:\n",
    "    \n",
    "        - Position: Both (Horizontal and Vertical) \n",
    "        - Color: Green (XGBoost), Red (SVR) and Orange (Lasso)     \n",
    "        - Size: Length\n",
    "        \n",
    "Ref: Lecture3 - Marks and Channels: slides 27, 28, 40, 44        "
   ]
  },
  {
   "cell_type": "markdown",
   "metadata": {},
   "source": [
    "## Visualization 4: Top Features Learned\n",
    "\n",
    "Top features learned by the best performing model - __XGBoost__"
   ]
  },
  {
   "cell_type": "code",
   "execution_count": 38,
   "metadata": {},
   "outputs": [],
   "source": [
    "xgb_best = xgb_cv_clf_.best_estimator_"
   ]
  },
  {
   "cell_type": "code",
   "execution_count": 39,
   "metadata": {},
   "outputs": [
    {
     "data": {
      "image/png": "[encoded data removed]",
      "text/plain": [
       "<Figure size 1080x576 with 1 Axes>"
      ]
     },
     "metadata": {},
     "output_type": "display_data"
    }
   ],
   "source": [
    "#https://machinelearningmastery.com/feature-importance-and-feature-selection-with-xgboost-in-python/\n",
    "\n",
    "from xgboost import XGBClassifier, plot_importance\n",
    "\n",
    "fig, ax = plt.subplots(figsize=(15, 8))\n",
    "plot_importance(xgb_best, max_num_features = 15, xlabel='MSE', ylabel='Features', ax=ax)\n",
    "plt.show()"
   ]
  },
  {
   "cell_type": "markdown",
   "metadata": {},
   "source": [
    "__The top features can be identified from the Y axis indices__"
   ]
  },
  {
   "cell_type": "code",
   "execution_count": 40,
   "metadata": {},
   "outputs": [
    {
     "data": {
      "text/plain": [
       "['Allimant-Laugner',\n",
       " 'exotic',\n",
       " 'orvieto',\n",
       " 'incisa',\n",
       " 'attempting',\n",
       " 'confines',\n",
       " 'olegario',\n",
       " 'jim',\n",
       " 'giglio',\n",
       " 'exaggerrate',\n",
       " '11',\n",
       " 'invisible',\n",
       " 'glceriney',\n",
       " 'jewels',\n",
       " 'closing']"
      ]
     },
     "execution_count": 40,
     "metadata": {},
     "output_type": "execute_result"
    }
   ],
   "source": [
    "#Top Feature indices:\n",
    "indices = [0, 14113, 28360, 35574, 35516, 21806, 37921, 24696, 24676, 37867, 16410, 24235, 31587, 35784, 22331]\n",
    "top_features = [all_features[index] for index in indices]\n",
    "top_features"
   ]
  }
 ],
 "metadata": {
  "kernelspec": {
   "display_name": "Python 3",
   "language": "python",
   "name": "python3"
  },
  "language_info": {
   "codemirror_mode": {
    "name": "ipython",
    "version": 3
   },
   "file_extension": ".py",
   "mimetype": "text/x-python",
   "name": "python",
   "nbconvert_exporter": "python",
   "pygments_lexer": "ipython3",
   "version": "3.6.7"
  }
 },
 "nbformat": 4,
 "nbformat_minor": 2
}
