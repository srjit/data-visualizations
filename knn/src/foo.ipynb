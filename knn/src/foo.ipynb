{
 "cells": [
  {
   "cell_type": "code",
   "execution_count": 1,
   "metadata": {},
   "outputs": [],
   "source": [
    "%load_ext autoreload\n",
    "%autoreload 2\n",
    "%matplotlib inline\n",
    "\n",
    "import warnings\n",
    "warnings.filterwarnings('ignore')"
   ]
  },
  {
   "cell_type": "code",
   "execution_count": 2,
   "metadata": {},
   "outputs": [],
   "source": [
    "import pandas as pd\n",
    "import numpy as np\n",
    "from sklearn.preprocessing import StandardScaler, OneHotEncoder, LabelEncoder\n",
    "from sklearn.neighbors import KNeighborsClassifier\n",
    "from sklearn.model_selection import GridSearchCV\n",
    "from sklearn.metrics import roc_auc_score, balanced_accuracy_score, f1_score\n",
    "from sklearn.metrics import make_scorer\n",
    "\n",
    "\n",
    "import seaborn as sns\n",
    "sns.set()\n",
    "\n",
    "from sklearn.model_selection import train_test_split\n",
    "\n",
    "import matplotlib.pyplot as plt"
   ]
  },
  {
   "cell_type": "code",
   "execution_count": 3,
   "metadata": {},
   "outputs": [],
   "source": [
    "data_path = \"../data/adult.data\"\n",
    "data = pd.read_csv(data_path)"
   ]
  },
  {
   "cell_type": "code",
   "execution_count": 4,
   "metadata": {},
   "outputs": [
    {
     "data": {
      "text/html": [
       "<div>\n",
       "<style scoped>\n",
       "    .dataframe tbody tr th:only-of-type {\n",
       "        vertical-align: middle;\n",
       "    }\n",
       "\n",
       "    .dataframe tbody tr th {\n",
       "        vertical-align: top;\n",
       "    }\n",
       "\n",
       "    .dataframe thead th {\n",
       "        text-align: right;\n",
       "    }\n",
       "</style>\n",
       "<table border=\"1\" class=\"dataframe\">\n",
       "  <thead>\n",
       "    <tr style=\"text-align: right;\">\n",
       "      <th></th>\n",
       "      <th>age</th>\n",
       "      <th>workclass</th>\n",
       "      <th>fnlwgt</th>\n",
       "      <th>education</th>\n",
       "      <th>education-num</th>\n",
       "      <th>marital-status</th>\n",
       "      <th>occupation</th>\n",
       "      <th>relationship</th>\n",
       "      <th>race</th>\n",
       "      <th>sex</th>\n",
       "      <th>capital-gain</th>\n",
       "      <th>capital-loss</th>\n",
       "      <th>hours-per-week</th>\n",
       "      <th>native-country</th>\n",
       "      <th>Salary</th>\n",
       "    </tr>\n",
       "  </thead>\n",
       "  <tbody>\n",
       "    <tr>\n",
       "      <th>0</th>\n",
       "      <td>39</td>\n",
       "      <td>State-gov</td>\n",
       "      <td>77516</td>\n",
       "      <td>Bachelors</td>\n",
       "      <td>13</td>\n",
       "      <td>Never-married</td>\n",
       "      <td>Adm-clerical</td>\n",
       "      <td>Not-in-family</td>\n",
       "      <td>White</td>\n",
       "      <td>Male</td>\n",
       "      <td>2174</td>\n",
       "      <td>0</td>\n",
       "      <td>40</td>\n",
       "      <td>United-States</td>\n",
       "      <td>&lt;=50K</td>\n",
       "    </tr>\n",
       "    <tr>\n",
       "      <th>1</th>\n",
       "      <td>50</td>\n",
       "      <td>Self-emp-not-inc</td>\n",
       "      <td>83311</td>\n",
       "      <td>Bachelors</td>\n",
       "      <td>13</td>\n",
       "      <td>Married-civ-spouse</td>\n",
       "      <td>Exec-managerial</td>\n",
       "      <td>Husband</td>\n",
       "      <td>White</td>\n",
       "      <td>Male</td>\n",
       "      <td>0</td>\n",
       "      <td>0</td>\n",
       "      <td>13</td>\n",
       "      <td>United-States</td>\n",
       "      <td>&lt;=50K</td>\n",
       "    </tr>\n",
       "    <tr>\n",
       "      <th>2</th>\n",
       "      <td>38</td>\n",
       "      <td>Private</td>\n",
       "      <td>215646</td>\n",
       "      <td>HS-grad</td>\n",
       "      <td>9</td>\n",
       "      <td>Divorced</td>\n",
       "      <td>Handlers-cleaners</td>\n",
       "      <td>Not-in-family</td>\n",
       "      <td>White</td>\n",
       "      <td>Male</td>\n",
       "      <td>0</td>\n",
       "      <td>0</td>\n",
       "      <td>40</td>\n",
       "      <td>United-States</td>\n",
       "      <td>&lt;=50K</td>\n",
       "    </tr>\n",
       "    <tr>\n",
       "      <th>3</th>\n",
       "      <td>53</td>\n",
       "      <td>Private</td>\n",
       "      <td>234721</td>\n",
       "      <td>11th</td>\n",
       "      <td>7</td>\n",
       "      <td>Married-civ-spouse</td>\n",
       "      <td>Handlers-cleaners</td>\n",
       "      <td>Husband</td>\n",
       "      <td>Black</td>\n",
       "      <td>Male</td>\n",
       "      <td>0</td>\n",
       "      <td>0</td>\n",
       "      <td>40</td>\n",
       "      <td>United-States</td>\n",
       "      <td>&lt;=50K</td>\n",
       "    </tr>\n",
       "    <tr>\n",
       "      <th>4</th>\n",
       "      <td>28</td>\n",
       "      <td>Private</td>\n",
       "      <td>338409</td>\n",
       "      <td>Bachelors</td>\n",
       "      <td>13</td>\n",
       "      <td>Married-civ-spouse</td>\n",
       "      <td>Prof-specialty</td>\n",
       "      <td>Wife</td>\n",
       "      <td>Black</td>\n",
       "      <td>Female</td>\n",
       "      <td>0</td>\n",
       "      <td>0</td>\n",
       "      <td>40</td>\n",
       "      <td>Cuba</td>\n",
       "      <td>&lt;=50K</td>\n",
       "    </tr>\n",
       "  </tbody>\n",
       "</table>\n",
       "</div>"
      ],
      "text/plain": [
       "   age          workclass  fnlwgt   education  education-num  \\\n",
       "0   39          State-gov   77516   Bachelors             13   \n",
       "1   50   Self-emp-not-inc   83311   Bachelors             13   \n",
       "2   38            Private  215646     HS-grad              9   \n",
       "3   53            Private  234721        11th              7   \n",
       "4   28            Private  338409   Bachelors             13   \n",
       "\n",
       "        marital-status          occupation    relationship    race      sex  \\\n",
       "0        Never-married        Adm-clerical   Not-in-family   White     Male   \n",
       "1   Married-civ-spouse     Exec-managerial         Husband   White     Male   \n",
       "2             Divorced   Handlers-cleaners   Not-in-family   White     Male   \n",
       "3   Married-civ-spouse   Handlers-cleaners         Husband   Black     Male   \n",
       "4   Married-civ-spouse      Prof-specialty            Wife   Black   Female   \n",
       "\n",
       "   capital-gain  capital-loss  hours-per-week  native-country  Salary  \n",
       "0          2174             0              40   United-States   <=50K  \n",
       "1             0             0              13   United-States   <=50K  \n",
       "2             0             0              40   United-States   <=50K  \n",
       "3             0             0              40   United-States   <=50K  \n",
       "4             0             0              40            Cuba   <=50K  "
      ]
     },
     "execution_count": 4,
     "metadata": {},
     "output_type": "execute_result"
    }
   ],
   "source": [
    "data.head(5)"
   ]
  },
  {
   "cell_type": "code",
   "execution_count": 5,
   "metadata": {},
   "outputs": [
    {
     "data": {
      "text/plain": [
       "Index(['age', 'workclass', 'fnlwgt', 'education', 'education-num',\n",
       "       'marital-status', 'occupation', 'relationship', 'race', 'sex',\n",
       "       'capital-gain', 'capital-loss', 'hours-per-week', 'native-country',\n",
       "       'Salary'],\n",
       "      dtype='object')"
      ]
     },
     "execution_count": 5,
     "metadata": {},
     "output_type": "execute_result"
    }
   ],
   "source": [
    "data.columns"
   ]
  },
  {
   "cell_type": "code",
   "execution_count": 6,
   "metadata": {},
   "outputs": [],
   "source": [
    "data.Salary.unique()\n",
    "data[\"has_50k_salary\"] = data[\"Salary\"].apply(lambda x:  0 if x.strip() == \"<=50K\" else 1)"
   ]
  },
  {
   "cell_type": "code",
   "execution_count": 7,
   "metadata": {},
   "outputs": [
    {
     "data": {
      "text/html": [
       "<div>\n",
       "<style scoped>\n",
       "    .dataframe tbody tr th:only-of-type {\n",
       "        vertical-align: middle;\n",
       "    }\n",
       "\n",
       "    .dataframe tbody tr th {\n",
       "        vertical-align: top;\n",
       "    }\n",
       "\n",
       "    .dataframe thead th {\n",
       "        text-align: right;\n",
       "    }\n",
       "</style>\n",
       "<table border=\"1\" class=\"dataframe\">\n",
       "  <thead>\n",
       "    <tr style=\"text-align: right;\">\n",
       "      <th></th>\n",
       "      <th>has_50k_salary</th>\n",
       "      <th>counts</th>\n",
       "    </tr>\n",
       "  </thead>\n",
       "  <tbody>\n",
       "    <tr>\n",
       "      <th>0</th>\n",
       "      <td>0</td>\n",
       "      <td>24720</td>\n",
       "    </tr>\n",
       "    <tr>\n",
       "      <th>1</th>\n",
       "      <td>1</td>\n",
       "      <td>7841</td>\n",
       "    </tr>\n",
       "  </tbody>\n",
       "</table>\n",
       "</div>"
      ],
      "text/plain": [
       "   has_50k_salary  counts\n",
       "0               0   24720\n",
       "1               1    7841"
      ]
     },
     "execution_count": 7,
     "metadata": {},
     "output_type": "execute_result"
    }
   ],
   "source": [
    "data[[\"has_50k_salary\"]].groupby('has_50k_salary').size().reset_index(name=\"counts\")"
   ]
  },
  {
   "cell_type": "markdown",
   "metadata": {},
   "source": [
    "__The number of people in the sample who have less\n",
    "than 50k salary is more than thrice as much people who have more than that.__\n",
    "\n",
    "__What is the age distribution in the sample, Count of people with above and below 50k salary grouped by age__"
   ]
  },
  {
   "cell_type": "code",
   "execution_count": 8,
   "metadata": {},
   "outputs": [
    {
     "data": {
      "text/html": [
       "<div>\n",
       "<style scoped>\n",
       "    .dataframe tbody tr th:only-of-type {\n",
       "        vertical-align: middle;\n",
       "    }\n",
       "\n",
       "    .dataframe tbody tr th {\n",
       "        vertical-align: top;\n",
       "    }\n",
       "\n",
       "    .dataframe thead th {\n",
       "        text-align: right;\n",
       "    }\n",
       "</style>\n",
       "<table border=\"1\" class=\"dataframe\">\n",
       "  <thead>\n",
       "    <tr style=\"text-align: right;\">\n",
       "      <th></th>\n",
       "      <th>bin</th>\n",
       "      <th>below_50k</th>\n",
       "      <th>above_50k</th>\n",
       "    </tr>\n",
       "  </thead>\n",
       "  <tbody>\n",
       "    <tr>\n",
       "      <th>0</th>\n",
       "      <td>(10, 20]</td>\n",
       "      <td>2408</td>\n",
       "      <td>2</td>\n",
       "    </tr>\n",
       "    <tr>\n",
       "      <th>1</th>\n",
       "      <td>(20, 30]</td>\n",
       "      <td>7482</td>\n",
       "      <td>680</td>\n",
       "    </tr>\n",
       "    <tr>\n",
       "      <th>2</th>\n",
       "      <td>(30, 40]</td>\n",
       "      <td>6140</td>\n",
       "      <td>2406</td>\n",
       "    </tr>\n",
       "    <tr>\n",
       "      <th>3</th>\n",
       "      <td>(40, 50]</td>\n",
       "      <td>4328</td>\n",
       "      <td>2655</td>\n",
       "    </tr>\n",
       "    <tr>\n",
       "      <th>4</th>\n",
       "      <td>(50, 60]</td>\n",
       "      <td>2581</td>\n",
       "      <td>1547</td>\n",
       "    </tr>\n",
       "    <tr>\n",
       "      <th>5</th>\n",
       "      <td>(60, 70]</td>\n",
       "      <td>1335</td>\n",
       "      <td>457</td>\n",
       "    </tr>\n",
       "    <tr>\n",
       "      <th>6</th>\n",
       "      <td>(70, 80]</td>\n",
       "      <td>361</td>\n",
       "      <td>80</td>\n",
       "    </tr>\n",
       "  </tbody>\n",
       "</table>\n",
       "</div>"
      ],
      "text/plain": [
       "        bin  below_50k  above_50k\n",
       "0  (10, 20]       2408          2\n",
       "1  (20, 30]       7482        680\n",
       "2  (30, 40]       6140       2406\n",
       "3  (40, 50]       4328       2655\n",
       "4  (50, 60]       2581       1547\n",
       "5  (60, 70]       1335        457\n",
       "6  (70, 80]        361         80"
      ]
     },
     "execution_count": 8,
     "metadata": {},
     "output_type": "execute_result"
    }
   ],
   "source": [
    "bins = list(range(0,90,10))\n",
    "data['bin'] = pd.cut(data['age'], bins)\n",
    "grouped_salary_by_age = data.groupby(['bin','has_50k_salary']).size().reset_index(name=\"Count\")\n",
    "grouped_salary_by_age = grouped_salary_by_age.pivot(index='bin', columns='has_50k_salary').add_prefix('P').reset_index(\"bin\")\n",
    "grouped_salary_by_age.columns = grouped_salary_by_age.columns.get_level_values(0)\n",
    "grouped_salary_by_age.columns = ['bin', 'below_50k', 'above_50k']\n",
    "grouped_salary_by_age"
   ]
  },
  {
   "cell_type": "code",
   "execution_count": 9,
   "metadata": {},
   "outputs": [
    {
     "data": {
      "image/png": "[encoded data removed]",
      "text/plain": [
       "<Figure size 1080x288 with 2 Axes>"
      ]
     },
     "metadata": {},
     "output_type": "display_data"
    }
   ],
   "source": [
    "f = plt.figure(figsize=(15,4))\n",
    "\n",
    "ax1 = f.add_subplot(121)\n",
    "ax1.hist(data.age)\n",
    "ax1.set_xlabel(\"Age\")\n",
    "ax1.set_ylabel(\"Count of People\")\n",
    "ax1.set_title(\"Distribution of Age\")\n",
    "\n",
    "\n",
    "pos = list(range(len(grouped_salary_by_age['bin']))) \n",
    "width = 0.25 \n",
    "\n",
    "ax2 = f.add_subplot(122)\n",
    "ax2.bar(pos, grouped_salary_by_age['below_50k'], width, alpha=0.5, color='#EE3224', label=grouped_salary_by_age['bin'][0]) \n",
    "ax2.bar([p + width for p in pos], grouped_salary_by_age['above_50k'], width, alpha=0.5, color='#F78F1E', label=grouped_salary_by_age['bin'][1]) \n",
    "ax2.set_ylabel('Count of People')\n",
    "ax2.set_xlabel('Age Range')\n",
    "ax2.set_xticks([p + 1.5 * width for p in pos])\n",
    "ax2.set_xticklabels(grouped_salary_by_age['bin'], rotation=90)\n",
    "ax2.legend(['Below 50k', 'Above 50k'], loc='upper right')\n",
    "\n",
    "plt.show()"
   ]
  },
  {
   "cell_type": "markdown",
   "metadata": {},
   "source": [
    "__The plot on the left shows the distribution of age in the dataset__\n",
    "\n",
    "__In every age group the number of people whose salary is less than 50k is more than the counterpart. Most number of people whose salary is above 50k are in the range 40 - 50__\n",
    "\n",
    "__Interestingly there are 2 children below the age 10 with more than 50k salary__"
   ]
  },
  {
   "cell_type": "code",
   "execution_count": 10,
   "metadata": {},
   "outputs": [
    {
     "data": {
      "image/png": "[encoded data removed]",
      "text/plain": [
       "<Figure size 576x288 with 1 Axes>"
      ]
     },
     "metadata": {},
     "output_type": "display_data"
    }
   ],
   "source": [
    "grouped_by_race = data[[\"race\"]].groupby('race').size().reset_index(name=\"Count\")\n",
    "\n",
    "f = plt.figure(figsize=(8,4))\n",
    "\n",
    "ax1 = f.add_subplot(111)\n",
    "ax1.bar(grouped_by_race[\"race\"],grouped_by_race[\"Count\"])\n",
    "ax1.set_xlabel(\"Race\")\n",
    "ax1.set_ylabel(\"Count of People\")\n",
    "ax1.set_xticklabels(grouped_by_race['race'], rotation=45)\n",
    "ax1.set_title(\"Distribution of People by Race\")\n",
    "\n",
    "plt.show()"
   ]
  },
  {
   "cell_type": "markdown",
   "metadata": {},
   "source": [
    "__The percentage of white people in the dataset is significantly higher compared to people from other races.__"
   ]
  },
  {
   "cell_type": "code",
   "execution_count": 11,
   "metadata": {},
   "outputs": [],
   "source": [
    "grouped_by_race = data.groupby(['race','education']).size().reset_index(name=\"Count\")"
   ]
  },
  {
   "cell_type": "code",
   "execution_count": 12,
   "metadata": {
    "scrolled": true
   },
   "outputs": [
    {
     "data": {
      "text/html": [
       "<div>\n",
       "<style scoped>\n",
       "    .dataframe tbody tr th:only-of-type {\n",
       "        vertical-align: middle;\n",
       "    }\n",
       "\n",
       "    .dataframe tbody tr th {\n",
       "        vertical-align: top;\n",
       "    }\n",
       "\n",
       "    .dataframe thead th {\n",
       "        text-align: right;\n",
       "    }\n",
       "</style>\n",
       "<table border=\"1\" class=\"dataframe\">\n",
       "  <thead>\n",
       "    <tr style=\"text-align: right;\">\n",
       "      <th></th>\n",
       "      <th>race</th>\n",
       "      <th>Preschool</th>\n",
       "      <th>1st-4th</th>\n",
       "      <th>5th-6th</th>\n",
       "      <th>7th-8th</th>\n",
       "      <th>9th</th>\n",
       "      <th>10th</th>\n",
       "      <th>11th</th>\n",
       "      <th>12th</th>\n",
       "      <th>HS-grad</th>\n",
       "      <th>Some-college</th>\n",
       "      <th>Bachelors</th>\n",
       "      <th>Masters</th>\n",
       "      <th>Prof-school</th>\n",
       "      <th>Doctorate</th>\n",
       "    </tr>\n",
       "  </thead>\n",
       "  <tbody>\n",
       "    <tr>\n",
       "      <th>0</th>\n",
       "      <td>Amer-Indian-Eskimo</td>\n",
       "      <td>NaN</td>\n",
       "      <td>4.0</td>\n",
       "      <td>2.0</td>\n",
       "      <td>9.0</td>\n",
       "      <td>5.0</td>\n",
       "      <td>16.0</td>\n",
       "      <td>14.0</td>\n",
       "      <td>5.0</td>\n",
       "      <td>119.0</td>\n",
       "      <td>79.0</td>\n",
       "      <td>21.0</td>\n",
       "      <td>5.0</td>\n",
       "      <td>2.0</td>\n",
       "      <td>3.0</td>\n",
       "    </tr>\n",
       "    <tr>\n",
       "      <th>1</th>\n",
       "      <td>Asian-Pac-Islander</td>\n",
       "      <td>6.0</td>\n",
       "      <td>5.0</td>\n",
       "      <td>18.0</td>\n",
       "      <td>11.0</td>\n",
       "      <td>9.0</td>\n",
       "      <td>13.0</td>\n",
       "      <td>21.0</td>\n",
       "      <td>9.0</td>\n",
       "      <td>226.0</td>\n",
       "      <td>208.0</td>\n",
       "      <td>289.0</td>\n",
       "      <td>88.0</td>\n",
       "      <td>41.0</td>\n",
       "      <td>28.0</td>\n",
       "    </tr>\n",
       "    <tr>\n",
       "      <th>2</th>\n",
       "      <td>Black</td>\n",
       "      <td>5.0</td>\n",
       "      <td>16.0</td>\n",
       "      <td>21.0</td>\n",
       "      <td>56.0</td>\n",
       "      <td>89.0</td>\n",
       "      <td>133.0</td>\n",
       "      <td>153.0</td>\n",
       "      <td>70.0</td>\n",
       "      <td>1174.0</td>\n",
       "      <td>746.0</td>\n",
       "      <td>330.0</td>\n",
       "      <td>86.0</td>\n",
       "      <td>15.0</td>\n",
       "      <td>11.0</td>\n",
       "    </tr>\n",
       "    <tr>\n",
       "      <th>3</th>\n",
       "      <td>Other</td>\n",
       "      <td>2.0</td>\n",
       "      <td>9.0</td>\n",
       "      <td>13.0</td>\n",
       "      <td>17.0</td>\n",
       "      <td>8.0</td>\n",
       "      <td>9.0</td>\n",
       "      <td>10.0</td>\n",
       "      <td>14.0</td>\n",
       "      <td>78.0</td>\n",
       "      <td>51.0</td>\n",
       "      <td>33.0</td>\n",
       "      <td>7.0</td>\n",
       "      <td>4.0</td>\n",
       "      <td>2.0</td>\n",
       "    </tr>\n",
       "    <tr>\n",
       "      <th>4</th>\n",
       "      <td>White</td>\n",
       "      <td>38.0</td>\n",
       "      <td>134.0</td>\n",
       "      <td>279.0</td>\n",
       "      <td>553.0</td>\n",
       "      <td>403.0</td>\n",
       "      <td>762.0</td>\n",
       "      <td>977.0</td>\n",
       "      <td>335.0</td>\n",
       "      <td>8904.0</td>\n",
       "      <td>6207.0</td>\n",
       "      <td>4682.0</td>\n",
       "      <td>1537.0</td>\n",
       "      <td>514.0</td>\n",
       "      <td>369.0</td>\n",
       "    </tr>\n",
       "  </tbody>\n",
       "</table>\n",
       "</div>"
      ],
      "text/plain": [
       "                  race  Preschool  1st-4th  5th-6th  7th-8th    9th   10th  \\\n",
       "0   Amer-Indian-Eskimo        NaN      4.0      2.0      9.0    5.0   16.0   \n",
       "1   Asian-Pac-Islander        6.0      5.0     18.0     11.0    9.0   13.0   \n",
       "2                Black        5.0     16.0     21.0     56.0   89.0  133.0   \n",
       "3                Other        2.0      9.0     13.0     17.0    8.0    9.0   \n",
       "4                White       38.0    134.0    279.0    553.0  403.0  762.0   \n",
       "\n",
       "    11th   12th  HS-grad  Some-college  Bachelors  Masters  Prof-school  \\\n",
       "0   14.0    5.0    119.0          79.0       21.0      5.0          2.0   \n",
       "1   21.0    9.0    226.0         208.0      289.0     88.0         41.0   \n",
       "2  153.0   70.0   1174.0         746.0      330.0     86.0         15.0   \n",
       "3   10.0   14.0     78.0          51.0       33.0      7.0          4.0   \n",
       "4  977.0  335.0   8904.0        6207.0     4682.0   1537.0        514.0   \n",
       "\n",
       "   Doctorate  \n",
       "0        3.0  \n",
       "1       28.0  \n",
       "2       11.0  \n",
       "3        2.0  \n",
       "4      369.0  "
      ]
     },
     "execution_count": 12,
     "metadata": {},
     "output_type": "execute_result"
    }
   ],
   "source": [
    "grouped_salary_by_race = data.groupby(['race','education']).size().reset_index(name=\"Count\")\n",
    "grouped_salary_by_race = grouped_salary_by_race.pivot(index='race', columns='education').reset_index(\"race\")\n",
    "grouped_salary_by_race.columns = ['race','10th','11th','12th','1st-4th','5th-6th',\n",
    "                                  '7th-8th','9th','Assoc-acdm','Assoc-voc','Bachelors','Doctorate',\n",
    "                                  'HS-grad','Masters','Preschool','Prof-school','Some-college']\n",
    "\n",
    "grouped_salary_by_race = grouped_salary_by_race[['race','Preschool','1st-4th','5th-6th','7th-8th',\n",
    "                                                 '9th','10th','11th','12th','HS-grad',\n",
    "                                                 'Some-college','Bachelors',\n",
    "                                                 'Masters','Prof-school','Doctorate']]\n",
    "\n",
    "grouped_salary_by_race"
   ]
  },
  {
   "cell_type": "code",
   "execution_count": 13,
   "metadata": {},
   "outputs": [
    {
     "data": {
      "image/png": "[encoded data removed]",
      "text/plain": [
       "<Figure size 2880x576 with 1 Axes>"
      ]
     },
     "metadata": {},
     "output_type": "display_data"
    }
   ],
   "source": [
    "education_amer_indian_eskimo = list(grouped_salary_by_race.iloc[0])[1:]\n",
    "education_asian_pac_islander = list(grouped_salary_by_race.iloc[1])[1:]\n",
    "education_black = list(grouped_salary_by_race.iloc[2])[1:]\n",
    "education_other = list(grouped_salary_by_race.iloc[3])[1:]\n",
    "education_white = list(grouped_salary_by_race.iloc[4])[1:]\n",
    "\n",
    "levels = ['Preschool','1st-4th','5th-6th','7th-8th','9th','10th','11th',\n",
    "          '12th','HS-grad', 'Some-college',\n",
    "          'Bachelors','Masters','Prof-school','Doctorate']\n",
    "\n",
    "f = plt.figure(figsize=(40,8))\n",
    "ax1 = f.add_subplot(121)\n",
    "ax1.plot(levels,education_amer_indian_eskimo, color=\"r\", label=\"Amer-Indian-Eskimo\")\n",
    "ax1.plot(levels,education_asian_pac_islander, color=\"g\", label=\"Asian Pacific Islander\")\n",
    "ax1.plot(levels,education_black, color=\"k\", label=\"Black\")\n",
    "ax1.plot(levels,education_other, color=\"b\", label=\"Other\")\n",
    "ax1.plot(levels,education_white, color=\"m\", label=\"White\")\n",
    "ax1.set_xticklabels(levels, rotation=45)\n",
    "\n",
    "ax1.set_ylim(bottom=0, top=6000)\n",
    "\n",
    "ax1.set_xlabel(\"Level of Education\")\n",
    "ax1.set_ylabel(\"Number of people\")\n",
    "ax1.legend()\n",
    "plt.show()"
   ]
  },
  {
   "cell_type": "markdown",
   "metadata": {},
   "source": [
    "__It seems a good number of people stop their education as a High School graduate. And the number of people \n",
    "who goes into higher degrees drops down afterwards. This trend seems to be consistant with all races except for Asian \n",
    "Pacific Americans (Islanders)__\n",
    "\n",
    "\n",
    "Note: The top portion of the graph has been clipped for greater clarity of the overlapped lines at the bottom"
   ]
  },
  {
   "cell_type": "markdown",
   "metadata": {},
   "source": [
    "__Feature Correlations__"
   ]
  },
  {
   "cell_type": "code",
   "execution_count": 14,
   "metadata": {},
   "outputs": [
    {
     "data": {
      "image/png": "[encoded data removed]",
      "text/plain": [
       "<Figure size 864x1296 with 2 Axes>"
      ]
     },
     "metadata": {},
     "output_type": "display_data"
    }
   ],
   "source": [
    "## Encoding to display the correlations\n",
    "## https://stackoverflow.com/questions/29432629/correlation-matrix-using-pandas - Seaborn's heatmap\n",
    "\n",
    "def encode_objects(df_):\n",
    "    # we dont want the original data to be modified - using shallow copy\n",
    "    df = df_.copy()\n",
    "    for column in df.columns:\n",
    "        if df.dtypes[column] == np.object:\n",
    "            enc = LabelEncoder()\n",
    "            df[column] = enc.fit_transform(df[column])\n",
    "    return df\n",
    "\n",
    "\n",
    "# Calculate the correlation and plot it\n",
    "f = plt.figure(figsize=(12,18))\n",
    "ax1 = f.add_subplot(111)\n",
    "data_ = encode_objects(data)\n",
    "correlations = data_.corr()\n",
    "g1 = sns.heatmap(correlations, linewidths=.5, cmap = \"RdBu_r\")\n",
    "ax1.set_title(\"Correlations\")\n",
    "\n",
    "plt.show()"
   ]
  },
  {
   "cell_type": "markdown",
   "metadata": {},
   "source": [
    "__The blocks in brownish shades are the feature combinations to look for. \n",
    "Education & Education number seems to have High Correlation, \n",
    "Education number and Salary have a slightly less correlation in comparison, although positive.__\n",
    "\n",
    "__Salary and has_50k_salary  has perfect correlation since our custom variable which was built from Salary - this is expected__"
   ]
  },
  {
   "cell_type": "markdown",
   "metadata": {},
   "source": [
    "## Part 4"
   ]
  },
  {
   "cell_type": "code",
   "execution_count": 15,
   "metadata": {},
   "outputs": [],
   "source": [
    "X = data[['age', 'workclass', 'fnlwgt', 'education',\n",
    "       'marital-status', 'occupation', 'relationship', 'race', 'sex',\n",
    "       'capital-gain', 'capital-loss', 'hours-per-week', 'native-country']]\n",
    "y = data['has_50k_salary']"
   ]
  },
  {
   "cell_type": "markdown",
   "metadata": {},
   "source": [
    "__Preprocessing__"
   ]
  },
  {
   "cell_type": "code",
   "execution_count": 16,
   "metadata": {},
   "outputs": [
    {
     "data": {
      "text/html": [
       "<div>\n",
       "<style scoped>\n",
       "    .dataframe tbody tr th:only-of-type {\n",
       "        vertical-align: middle;\n",
       "    }\n",
       "\n",
       "    .dataframe tbody tr th {\n",
       "        vertical-align: top;\n",
       "    }\n",
       "\n",
       "    .dataframe thead th {\n",
       "        text-align: right;\n",
       "    }\n",
       "</style>\n",
       "<table border=\"1\" class=\"dataframe\">\n",
       "  <thead>\n",
       "    <tr style=\"text-align: right;\">\n",
       "      <th></th>\n",
       "      <th>age</th>\n",
       "      <th>workclass</th>\n",
       "      <th>fnlwgt</th>\n",
       "      <th>education</th>\n",
       "      <th>marital-status</th>\n",
       "      <th>occupation</th>\n",
       "      <th>relationship</th>\n",
       "      <th>race</th>\n",
       "      <th>sex</th>\n",
       "      <th>capital-gain</th>\n",
       "      <th>capital-loss</th>\n",
       "      <th>hours-per-week</th>\n",
       "      <th>native-country</th>\n",
       "    </tr>\n",
       "  </thead>\n",
       "  <tbody>\n",
       "    <tr>\n",
       "      <th>0</th>\n",
       "      <td>39</td>\n",
       "      <td>State-gov</td>\n",
       "      <td>77516</td>\n",
       "      <td>Bachelors</td>\n",
       "      <td>Never-married</td>\n",
       "      <td>Adm-clerical</td>\n",
       "      <td>Not-in-family</td>\n",
       "      <td>White</td>\n",
       "      <td>Male</td>\n",
       "      <td>2174</td>\n",
       "      <td>0</td>\n",
       "      <td>40</td>\n",
       "      <td>United-States</td>\n",
       "    </tr>\n",
       "    <tr>\n",
       "      <th>1</th>\n",
       "      <td>50</td>\n",
       "      <td>Self-emp-not-inc</td>\n",
       "      <td>83311</td>\n",
       "      <td>Bachelors</td>\n",
       "      <td>Married-civ-spouse</td>\n",
       "      <td>Exec-managerial</td>\n",
       "      <td>Husband</td>\n",
       "      <td>White</td>\n",
       "      <td>Male</td>\n",
       "      <td>0</td>\n",
       "      <td>0</td>\n",
       "      <td>13</td>\n",
       "      <td>United-States</td>\n",
       "    </tr>\n",
       "    <tr>\n",
       "      <th>2</th>\n",
       "      <td>38</td>\n",
       "      <td>Private</td>\n",
       "      <td>215646</td>\n",
       "      <td>HS-grad</td>\n",
       "      <td>Divorced</td>\n",
       "      <td>Handlers-cleaners</td>\n",
       "      <td>Not-in-family</td>\n",
       "      <td>White</td>\n",
       "      <td>Male</td>\n",
       "      <td>0</td>\n",
       "      <td>0</td>\n",
       "      <td>40</td>\n",
       "      <td>United-States</td>\n",
       "    </tr>\n",
       "    <tr>\n",
       "      <th>3</th>\n",
       "      <td>53</td>\n",
       "      <td>Private</td>\n",
       "      <td>234721</td>\n",
       "      <td>11th</td>\n",
       "      <td>Married-civ-spouse</td>\n",
       "      <td>Handlers-cleaners</td>\n",
       "      <td>Husband</td>\n",
       "      <td>Black</td>\n",
       "      <td>Male</td>\n",
       "      <td>0</td>\n",
       "      <td>0</td>\n",
       "      <td>40</td>\n",
       "      <td>United-States</td>\n",
       "    </tr>\n",
       "    <tr>\n",
       "      <th>4</th>\n",
       "      <td>28</td>\n",
       "      <td>Private</td>\n",
       "      <td>338409</td>\n",
       "      <td>Bachelors</td>\n",
       "      <td>Married-civ-spouse</td>\n",
       "      <td>Prof-specialty</td>\n",
       "      <td>Wife</td>\n",
       "      <td>Black</td>\n",
       "      <td>Female</td>\n",
       "      <td>0</td>\n",
       "      <td>0</td>\n",
       "      <td>40</td>\n",
       "      <td>Cuba</td>\n",
       "    </tr>\n",
       "  </tbody>\n",
       "</table>\n",
       "</div>"
      ],
      "text/plain": [
       "   age          workclass  fnlwgt   education       marital-status  \\\n",
       "0   39          State-gov   77516   Bachelors        Never-married   \n",
       "1   50   Self-emp-not-inc   83311   Bachelors   Married-civ-spouse   \n",
       "2   38            Private  215646     HS-grad             Divorced   \n",
       "3   53            Private  234721        11th   Married-civ-spouse   \n",
       "4   28            Private  338409   Bachelors   Married-civ-spouse   \n",
       "\n",
       "           occupation    relationship    race      sex  capital-gain  \\\n",
       "0        Adm-clerical   Not-in-family   White     Male          2174   \n",
       "1     Exec-managerial         Husband   White     Male             0   \n",
       "2   Handlers-cleaners   Not-in-family   White     Male             0   \n",
       "3   Handlers-cleaners         Husband   Black     Male             0   \n",
       "4      Prof-specialty            Wife   Black   Female             0   \n",
       "\n",
       "   capital-loss  hours-per-week  native-country  \n",
       "0             0              40   United-States  \n",
       "1             0              13   United-States  \n",
       "2             0              40   United-States  \n",
       "3             0              40   United-States  \n",
       "4             0              40            Cuba  "
      ]
     },
     "execution_count": 16,
     "metadata": {},
     "output_type": "execute_result"
    }
   ],
   "source": [
    "X.head()"
   ]
  },
  {
   "cell_type": "markdown",
   "metadata": {},
   "source": [
    "__Workclass, educationm marital-status, occupation, relationship, race, sex and native-country are categorical - \n",
    "we need to One-Hot encode them__"
   ]
  },
  {
   "cell_type": "code",
   "execution_count": 17,
   "metadata": {},
   "outputs": [],
   "source": [
    "X_train, X_test, y_train, y_test = train_test_split(X, y, test_size=0.2, random_state=42)\n",
    "\n",
    "X_train.reset_index(inplace=True)\n",
    "X_test.reset_index(inplace=True)"
   ]
  },
  {
   "cell_type": "code",
   "execution_count": 19,
   "metadata": {},
   "outputs": [],
   "source": [
    "workclass_ohe = OneHotEncoder()\n",
    "education_ohe = OneHotEncoder()\n",
    "marital_ohe = OneHotEncoder()\n",
    "relationship_ohe = OneHotEncoder()\n",
    "race_ohe = OneHotEncoder()\n",
    "country_ohe = OneHotEncoder()\n",
    "\n",
    "## Transforming train dataframe\n",
    "\n",
    "\n",
    "tmp = workclass_ohe.fit_transform(X_train.workclass.values.reshape(-1,1)).toarray()\n",
    "workclass = pd.DataFrame(tmp, \n",
    "                         columns = [(\"workclass_\"+str(int(i))) for i in range(tmp.shape[1])],\n",
    "                         dtype = int)\n",
    "tmp = education_ohe.fit_transform(X_train.education.values.reshape(-1,1)).toarray()\n",
    "educlass = pd.DataFrame(tmp, \n",
    "                        columns = [(\"educlass_\"+str(int(i))) for i in range(tmp.shape[1])],\n",
    "                        dtype = int)\n",
    "\n",
    "tmp = marital_ohe.fit_transform(X_train[\"marital-status\"].values.reshape(-1,1)).toarray()\n",
    "maritalclass = pd.DataFrame(tmp, \n",
    "                            columns = [(\"maritalclass_\"+str(int(i))) for i in range(tmp.shape[1])],\n",
    "                            dtype = int)\n",
    "\n",
    "tmp = relationship_ohe.fit_transform(X_train.relationship.values.reshape(-1,1)).toarray()\n",
    "relationclass = pd.DataFrame(tmp, \n",
    "                             columns = [(\"relationclass_\"+str(int(i))) for i in range(tmp.shape[1])],\n",
    "                             dtype = int)\n",
    "\n",
    "tmp = race_ohe.fit_transform(X_train.race.values.reshape(-1,1)).toarray()\n",
    "raceclass = pd.DataFrame(tmp, \n",
    "                         columns = [(\"raceclass_\"+str(int(i))) for i in range(tmp.shape[1])],\n",
    "                         dtype = int)\n",
    "\n",
    "tmp = country_ohe.fit_transform(X_train[\"native-country\"].values.reshape(-1,1)).toarray()\n",
    "countryclass = pd.DataFrame(tmp, \n",
    "                         columns = [(\"countryclass_\"+str(int(i))) for i in range(tmp.shape[1])],\n",
    "                         dtype = int)"
   ]
  },
  {
   "cell_type": "markdown",
   "metadata": {},
   "source": [
    "__Apply the same transformations on test data__"
   ]
  },
  {
   "cell_type": "code",
   "execution_count": 21,
   "metadata": {},
   "outputs": [],
   "source": [
    "## Using the same transformers to transform test dataframe\n",
    "\n",
    "tmp = workclass_ohe.transform(X_test.workclass.values.reshape(-1,1)).toarray()\n",
    "workclassTest = pd.DataFrame(tmp, \n",
    "                             columns = [(\"workclass_\"+str(int(i))) for i in range(tmp.shape[1])],\n",
    "                             dtype = int)\n",
    "tmp = education_ohe.transform(X_test.education.values.reshape(-1,1)).toarray()\n",
    "educlassTest = pd.DataFrame(tmp, \n",
    "                            columns = [(\"educlass_\"+str(int(i))) for i in range(tmp.shape[1])],\n",
    "                            dtype = int)\n",
    "\n",
    "tmp = marital_ohe.transform(X_test[\"marital-status\"].values.reshape(-1,1)).toarray()\n",
    "maritalclassTest = pd.DataFrame(tmp, \n",
    "                                columns = [(\"maritalclass_\"+str(int(i))) for i in range(tmp.shape[1])],\n",
    "                                dtype = int)\n",
    "\n",
    "tmp = relationship_ohe.transform(X_test.relationship.values.reshape(-1,1)).toarray()\n",
    "relationclassTest = pd.DataFrame(tmp, \n",
    "                                 columns = [(\"relationclass_\"+str(int(i))) for i in range(tmp.shape[1])],\n",
    "                                 dtype = int)\n",
    "\n",
    "tmp = race_ohe.transform(X_test.race.values.reshape(-1,1)).toarray()\n",
    "raceclassTest = pd.DataFrame(tmp, \n",
    "                             columns = [(\"raceclass_\"+str(int(i))) for i in range(tmp.shape[1])],\n",
    "                             dtype = int)\n",
    "\n",
    "tmp = country_ohe.transform(X_test[\"native-country\"].values.reshape(-1,1)).toarray()\n",
    "countryclassTest = pd.DataFrame(tmp, \n",
    "                                 columns = [(\"countryclass_\"+str(int(i))) for i in range(tmp.shape[1])],\n",
    "                                 dtype = int)"
   ]
  },
  {
   "cell_type": "code",
   "execution_count": 23,
   "metadata": {},
   "outputs": [
    {
     "name": "stdout",
     "output_type": "stream",
     "text": [
      "26048\n",
      "6513\n"
     ]
    }
   ],
   "source": [
    "#scaling numeric features\n",
    "scaler = StandardScaler(copy=False)\n",
    "X_train[[\"capital-gain\", \"capital-loss\"]] = scaler.fit_transform(X_train[[\"capital-gain\", \"capital-loss\"]])\n",
    "X_test[[\"capital-gain\", \"capital-loss\"]] = scaler.transform(X_test[[\"capital-gain\", \"capital-loss\"]])"
   ]
  },
  {
   "cell_type": "code",
   "execution_count": 26,
   "metadata": {},
   "outputs": [],
   "source": [
    "X_train = X_train[[\"age\", \"capital-gain\", \"capital-loss\", \"hours-per-week\"]]\n",
    "X_test = X_test[[\"age\", \"capital-gain\", \"capital-loss\", \"hours-per-week\"]]\n",
    "\n",
    "X_train = pd.concat([X_train, workclass, educlass, maritalclass, relationclass, raceclass, countryclass], axis=1)\n",
    "X_test = pd.concat([X_test, workclassTest, educlassTest, maritalclassTest, relationclassTest, raceclassTest, countryclassTest], axis=1)"
   ]
  },
  {
   "cell_type": "markdown",
   "metadata": {},
   "source": [
    "__Done with preprocessing. Let's  train the classifier now!__\n",
    "\n",
    "\n",
    "Parameters to Optimize:\n",
    "\n",
    "__k__ : Number of neighbours\n",
    "\n",
    "__p__ : Distance Type (1 = Manhattan Distance, 2 = Euclidean Distance)\n",
    "\n",
    "\n",
    "Since the dataset is imbalanced, __AUC__ and __F1__ scores are used as the evaluation metric."
   ]
  },
  {
   "cell_type": "markdown",
   "metadata": {},
   "source": [
    "__Ideas adoped from:  https://qiita.com/bmj0114/items/8009f282c99b77780563__"
   ]
  },
  {
   "cell_type": "code",
   "execution_count": 31,
   "metadata": {},
   "outputs": [
    {
     "name": "stdout",
     "output_type": "stream",
     "text": [
      "Best parameters set found on development set for scorer index 0:\n",
      "{'n_neighbors': 10, 'p': 1}\n",
      "Best parameters set found on development set for scorer index 1:\n",
      "{'n_neighbors': 9, 'p': 1}\n"
     ]
    }
   ],
   "source": [
    "model = KNeighborsClassifier()\n",
    "\n",
    "n_neighbors = list(range(1,11))\n",
    "p = [1,2]\n",
    "\n",
    "tuned_parameters = [{'n_neighbors': n_neighbors, 'p':p}]\n",
    "scores = ['f1']\n",
    "\n",
    "\n",
    "def f1_scorer(target, pred):\n",
    "    score = f1_score(pred, target)    \n",
    "    return score\n",
    "\n",
    "def auc_scorer(target, pred):\n",
    "    auc = roc_auc_score(pred, target)    \n",
    "    return auc\n",
    "\n",
    "\n",
    "auc_scorer = make_scorer(auc_scorer, greater_is_better=True)\n",
    "#balanced_accuracy_scorer = make_scorer(balanced_accuracy_scorer, greater_is_better=True)\n",
    "f1_scorer = make_scorer(f1_scorer, greater_is_better=True)\n",
    "\n",
    "scorers = [auc_scorer, f1_scorer]\n",
    "\n",
    "scores_for_grid = []\n",
    "\n",
    "# n_jobs = -1 : max performance (use all my compute power!)\n",
    "for i in range(len(scorers)):\n",
    "    clf = GridSearchCV(model, \n",
    "                       tuned_parameters, \n",
    "                       cv=10,\n",
    "                       scoring=scorers[i],\n",
    "                       n_jobs=-1)\n",
    "    \n",
    "    clf.fit(X_train, y_train)\n",
    "    print(\"Best parameters set found on development set for scorer index \" + str(i) + \":\")\n",
    "    print(clf.best_params_)\n",
    "    \n",
    "    scores = clf.cv_results_['mean_test_score'].reshape(len(n_neighbors),len(p))\n",
    "    scores_for_grid.append(scores)\n",
    "    "
   ]
  },
  {
   "cell_type": "code",
   "execution_count": 1,
   "metadata": {},
   "outputs": [
    {
     "ename": "NameError",
     "evalue": "name 'scores_for_grid' is not defined",
     "output_type": "error",
     "traceback": [
      "\u001b[0;31m---------------------------------------------------------------------------\u001b[0m",
      "\u001b[0;31mNameError\u001b[0m                                 Traceback (most recent call last)",
      "\u001b[0;32m<ipython-input-1-23f760bda526>\u001b[0m in \u001b[0;36m<module>\u001b[0;34m()\u001b[0m\n\u001b[1;32m      1\u001b[0m \u001b[0;31m#scores = clf.cv_results_['mean_test_score'].reshape(len(n_neighbors),len(p))\u001b[0m\u001b[0;34m\u001b[0m\u001b[0;34m\u001b[0m\u001b[0;34m\u001b[0m\u001b[0m\n\u001b[0;32m----> 2\u001b[0;31m \u001b[0mscores_for_grid\u001b[0m\u001b[0;34m[\u001b[0m\u001b[0;36m0\u001b[0m\u001b[0;34m]\u001b[0m\u001b[0;34m\u001b[0m\u001b[0;34m\u001b[0m\u001b[0m\n\u001b[0m\u001b[1;32m      3\u001b[0m \u001b[0;34m\u001b[0m\u001b[0m\n\u001b[1;32m      4\u001b[0m \u001b[0;31m# format [[n=1,p =1],[n=1,p=2],[n=2,p=1],,[n=2,p=2],[n=3,p=1]....]\u001b[0m\u001b[0;34m\u001b[0m\u001b[0;34m\u001b[0m\u001b[0;34m\u001b[0m\u001b[0m\n",
      "\u001b[0;31mNameError\u001b[0m: name 'scores_for_grid' is not defined"
     ]
    }
   ],
   "source": [
    "#scores = clf.cv_results_['mean_test_score'].reshape(len(n_neighbors),len(p))\n",
    "scores_for_grid[0]\n",
    "\n",
    "# format [[n=1,p =1],[n=1,p=2],[n=2,p=1],,[n=2,p=2],[n=3,p=1]....]"
   ]
  },
  {
   "cell_type": "code",
   "execution_count": 38,
   "metadata": {},
   "outputs": [
    {
     "data": {
      "image/png": "[encoded data removed]",
      "text/plain": [
       "<Figure size 576x432 with 2 Axes>"
      ]
     },
     "metadata": {},
     "output_type": "display_data"
    }
   ],
   "source": [
    "plt.figure(figsize=(8, 6))\n",
    "\n",
    "plt.subplots_adjust(left=.2, right=0.95, bottom=0.15, top=0.95)\n",
    "plt.imshow(scores_for_grid[0], interpolation='nearest', cmap='PiYG')\n",
    "plt.xlabel('p')\n",
    "plt.ylabel('Number of neighbors')\n",
    "plt.colorbar()\n",
    "plt.yticks(np.arange(len(n_neighbors)), n_neighbors)\n",
    "plt.xticks(np.arange(len(p)), p)\n",
    "plt.title('Grid Search AUC Score during 10 fold cross validation')\n",
    "plt.show()"
   ]
  },
  {
   "cell_type": "code",
   "execution_count": 39,
   "metadata": {},
   "outputs": [
    {
     "data": {
      "text/plain": [
       "array([[0.54509879, 0.546294  ],\n",
       "       [0.4458094 , 0.4523631 ],\n",
       "       [0.55513068, 0.55760469],\n",
       "       [0.49418536, 0.49131053],\n",
       "       [0.56867547, 0.56879952],\n",
       "       [0.52261943, 0.52013505],\n",
       "       [0.5727809 , 0.56579225],\n",
       "       [0.53123383, 0.52313689],\n",
       "       [0.57872039, 0.5674759 ],\n",
       "       [0.53704731, 0.53520716]])"
      ]
     },
     "execution_count": 39,
     "metadata": {},
     "output_type": "execute_result"
    }
   ],
   "source": [
    "scores_for_grid[1]"
   ]
  },
  {
   "cell_type": "code",
   "execution_count": 40,
   "metadata": {},
   "outputs": [
    {
     "data": {
      "image/png": "[encoded data removed]",
      "text/plain": [
       "<Figure size 576x432 with 2 Axes>"
      ]
     },
     "metadata": {},
     "output_type": "display_data"
    }
   ],
   "source": [
    "plt.figure(figsize=(8, 6))\n",
    "\n",
    "plt.subplots_adjust(left=.2, right=0.95, bottom=0.15, top=0.95)\n",
    "plt.imshow(scores_for_grid[1], interpolation='nearest', cmap='PiYG')\n",
    "plt.xlabel('p')\n",
    "plt.ylabel('Number of neighbors')\n",
    "plt.colorbar()\n",
    "plt.yticks(np.arange(len(n_neighbors)), n_neighbors)\n",
    "plt.xticks(np.arange(len(p)), p)\n",
    "plt.title('Grid Search F1 Score')\n",
    "plt.show()"
   ]
  },
  {
   "cell_type": "markdown",
   "metadata": {},
   "source": [
    "__Optimal Hyperparameters__\n",
    "\n",
    "__p__ = 1\n",
    "\n",
    "__n_neighbors__ = 9"
   ]
  },
  {
   "cell_type": "code",
   "execution_count": 43,
   "metadata": {},
   "outputs": [
    {
     "data": {
      "text/plain": [
       "array([0, 1, 0, ..., 1, 0, 0])"
      ]
     },
     "execution_count": 43,
     "metadata": {},
     "output_type": "execute_result"
    }
   ],
   "source": [
    "knn_clf = KNeighborsClassifier(n_neighbors=9, p=1)\n",
    "knn_clf.fit(X_train, y_train)\n",
    "pred = knn_clf.predict(X_test)\n",
    "pred"
   ]
  },
  {
   "cell_type": "code",
   "execution_count": 44,
   "metadata": {},
   "outputs": [
    {
     "name": "stdout",
     "output_type": "stream",
     "text": [
      "Test Performance\n",
      "F1 score: 0.5726744186046512\n",
      "ROC AUC Score: 0.7110344412756402\n"
     ]
    }
   ],
   "source": [
    "# How does the performance look like\n",
    "f1score_test = f1_score(y_test, pred)\n",
    "roc_auc_score_test = roc_auc_score(y_test, pred)\n",
    "\n",
    "\n",
    "print(\"Test Performance\")\n",
    "print(\"F1 score:\", f1score_test)\n",
    "print(\"ROC AUC Score:\", roc_auc_score_test)"
   ]
  },
  {
   "cell_type": "code",
   "execution_count": null,
   "metadata": {},
   "outputs": [],
   "source": []
  }
 ],
 "metadata": {
  "kernelspec": {
   "display_name": "Python 3",
   "language": "python",
   "name": "python3"
  },
  "language_info": {
   "codemirror_mode": {
    "name": "ipython",
    "version": 3
   },
   "file_extension": ".py",
   "mimetype": "text/x-python",
   "name": "python",
   "nbconvert_exporter": "python",
   "pygments_lexer": "ipython3",
   "version": "3.6.7"
  }
 },
 "nbformat": 4,
 "nbformat_minor": 2
}
